{
  "nbformat": 4,
  "nbformat_minor": 0,
  "metadata": {
    "kernelspec": {
      "display_name": "Python 3",
      "language": "python",
      "name": "python3"
    },
    "language_info": {
      "codemirror_mode": {
        "name": "ipython",
        "version": 3
      },
      "file_extension": ".py",
      "mimetype": "text/x-python",
      "name": "python",
      "nbconvert_exporter": "python",
      "pygments_lexer": "ipython3",
      "version": "3.7.5"
    },
    "colab": {
      "name": "Mownit - lab. ćw. 8.ipynb",
      "provenance": [],
      "collapsed_sections": [],
      "include_colab_link": true
    }
  },
  "cells": [
    {
      "cell_type": "markdown",
      "metadata": {
        "id": "view-in-github",
        "colab_type": "text"
      },
      "source": [
        "<a href=\"https://colab.research.google.com/github/zbrze/MOWNIT-python-/blob/master/Mownit_lab_%C4%87w_8.ipynb\" target=\"_parent\"><img src=\"https://colab.research.google.com/assets/colab-badge.svg\" alt=\"Open In Colab\"/></a>"
      ]
    },
    {
      "cell_type": "markdown",
      "metadata": {
        "id": "BLQwa0wQKF3S",
        "colab_type": "text"
      },
      "source": [
        "## Rozwiązywanie równań nieliniowych \n",
        "Funkcje testowe: \n",
        "$$f(x) = 2x^2 -2x + 1$$\n",
        "$$f(x) = -26 + 85x - 91x^2 +44x^3 -8x^4 + x5$$\n",
        "$$f(x) = 4^x - 3^{2x} + 2^{3x} -1$$\n",
        "$$f(x) = 3*x + sin(x) - cos^3(x)$$\n",
        "$$f(x) = 27x^3−3x+1$$\n",
        "\n",
        "### Zadanie 1:\n",
        "Zaimplementuj metodą bisekcji. Sprawdź jej działanie na powyższych funkcjach testowych. Dobierz samodzielnie przedział dla poszukiwania miejsca zerowego. Sprawdź dokładnośc metody. \n",
        "Oceń szybkość zbieżności dla każdej testowanej funkcji. Zwróć uwagę na sposób doboru E.\n",
        "\n",
        "### Zadanie 2: \n",
        "Zaimplementuj metodą Newtona-Raphsona.  Sprawdź jej działanie na powyższych funkcjach testowych. Punkt startowy i przedział poszukiwań dobierz samodzielnie (jakie warunki?). \n",
        "\n",
        "### Zadanie 3: \n",
        "Zaimplementuje metodę siecznych (Eulera). Przedział poszukiwań dobierz samodzielnie (jakie warunki?). \n",
        "\n",
        "### Zadanie 4: \n",
        "Wybierz jedną z metod rozwiązywania równań nieliniowych dostępna w bibliotece numpy lub scipy.  Porównaj dokładność wszystkiech czterech metod.\n",
        "\n"
      ]
    },
    {
      "cell_type": "code",
      "metadata": {
        "id": "YbYV2mSuKF3T",
        "colab_type": "code",
        "colab": {}
      },
      "source": [
        "import numpy as np\n",
        "def bisection(func, a, b, e):\n",
        "  if(func(a) * func(b) >= 0 ):\n",
        "    print(\"wrong interval\")\n",
        "    return\n",
        "  c = a \n",
        "  while ((b-a) >= e): \n",
        "        c = (a+b)/2\n",
        "        if (func(c) == 0.0): \n",
        "            return c\n",
        "        if (func(c)*func(a) < 0): \n",
        "            b = c \n",
        "        else: \n",
        "            a = c \n",
        "              \n",
        "  return c\n"
      ],
      "execution_count": 0,
      "outputs": []
    },
    {
      "cell_type": "markdown",
      "metadata": {
        "id": "RT5eBJNUYw_0",
        "colab_type": "text"
      },
      "source": [
        "f(x) = 2x^2 - 2x + 1\n",
        "funkcja nie ma miejsc zerowych i nie osiąga w żadnym punkcie wartości ujemnej, z czego wynika, iż każdy podany przedział będzie odrzucany jako błędny"
      ]
    },
    {
      "cell_type": "code",
      "metadata": {
        "id": "aqWfks6HMZQK",
        "colab_type": "code",
        "colab": {}
      },
      "source": [
        "bisection(lambda x: 2*x**2-2*x+1, 2,10, 0.01)"
      ],
      "execution_count": 0,
      "outputs": []
    },
    {
      "cell_type": "markdown",
      "metadata": {
        "id": "mnKDXqNt47c-",
        "colab_type": "text"
      },
      "source": [
        "f(x)=−26+85x−91x^2+44x^3−8x^4+x^5"
      ]
    },
    {
      "cell_type": "code",
      "metadata": {
        "id": "ThKrb6CC5Lw2",
        "colab_type": "code",
        "colab": {}
      },
      "source": [
        "bisection(lambda x: -26 + 85 * x  - 91 * x**2 + 44 * x**3 - 8 * x**4 + x**5, -1,2, 0.01)"
      ],
      "execution_count": 0,
      "outputs": []
    },
    {
      "cell_type": "markdown",
      "metadata": {
        "id": "dAzuaRX95eSZ",
        "colab_type": "text"
      },
      "source": [
        "f(x)=4x−3^2x+2^3x−1"
      ]
    },
    {
      "cell_type": "code",
      "metadata": {
        "id": "o-u0gtAD5aAV",
        "colab_type": "code",
        "colab": {}
      },
      "source": [
        "print(bisection(lambda x: 4**x - 3**(2*x) + 2**(3*x) - 1, -1,1, 0.01))\n",
        "print(bisection(lambda x: 4**x - 3**(2*x) + 2**(3*x) - 1, 1,2, 0.01))"
      ],
      "execution_count": 0,
      "outputs": []
    },
    {
      "cell_type": "markdown",
      "metadata": {
        "id": "-0vXlcx3_Elf",
        "colab_type": "text"
      },
      "source": [
        "f(x)=3∗x+sin(x)−cos^3(x)"
      ]
    },
    {
      "cell_type": "code",
      "metadata": {
        "id": "poGqO8AO8Ffv",
        "colab_type": "code",
        "colab": {}
      },
      "source": [
        "bisection(lambda x: 3*x + np.sin(x) - (np.cos(x))**3, 0,2, 0.01)"
      ],
      "execution_count": 0,
      "outputs": []
    },
    {
      "cell_type": "markdown",
      "metadata": {
        "id": "RdkWau0y_4BA",
        "colab_type": "text"
      },
      "source": [
        "f(x)=27x^3−3x+1"
      ]
    },
    {
      "cell_type": "code",
      "metadata": {
        "id": "rXCSYOOh_YCv",
        "colab_type": "code",
        "colab": {}
      },
      "source": [
        "bisection(lambda x: 27*x**3 - 3*x +1, -1,2, 0.01)"
      ],
      "execution_count": 0,
      "outputs": []
    },
    {
      "cell_type": "markdown",
      "metadata": {
        "id": "pG5BdzgXARK7",
        "colab_type": "text"
      },
      "source": [
        "Zadanie 2:\n",
        "Zaimplementuj metodą Newtona-Raphsona. Sprawdź jej działanie na powyższych funkcjach testowych. Punkt startowy i przedział poszukiwań dobierz samodzielnie (jakie warunki?)."
      ]
    },
    {
      "cell_type": "code",
      "metadata": {
        "id": "IZTi6kDjAFou",
        "colab_type": "code",
        "colab": {}
      },
      "source": [
        "def newton(f, df, x0, e):\n",
        "    delta = abs(0-f(x0))\n",
        "    while delta > e:\n",
        "        x0 = x0 - f(x0)/df(x0)\n",
        "        delta = abs(0-f(x0))\n",
        "    return x0"
      ],
      "execution_count": 0,
      "outputs": []
    },
    {
      "cell_type": "code",
      "metadata": {
        "id": "N_-Bj9aFDieP",
        "colab_type": "code",
        "colab": {}
      },
      "source": [
        "newton(lambda x: -26 + 85 * x  - 91 * x**2 + 44 * x**3 - 8 * x**4 + x**5, lambda x: 85 + 182*x + 132*x**2 - 32*x**3 + 5*x**4, 0, 0.00001)"
      ],
      "execution_count": 0,
      "outputs": []
    },
    {
      "cell_type": "code",
      "metadata": {
        "id": "0Yd2u_KeHT_y",
        "colab_type": "code",
        "colab": {}
      },
      "source": [
        "print('root =  ',newton(lambda x: 4**x - 3**(2*x) + 2**(3*x) - 1, lambda x:4**x*np.log(4) + 8**x* np.log(8) - 9**x*np.log(9), 0, 0.001))\n",
        "print('root =  ',newton(lambda x: 4**x - 3**(2*x) + 2**(3*x) - 1, lambda x:4**x*np.log(4) + 8**x* np.log(8) - 9**x*np.log(9), 2, 0.001))"
      ],
      "execution_count": 0,
      "outputs": []
    },
    {
      "cell_type": "code",
      "metadata": {
        "id": "XFz3c-0_Iv2g",
        "colab_type": "code",
        "colab": {}
      },
      "source": [
        "print('root =  ',newton(lambda x: 3*x + np.sin(x) - (np.cos(x))**3, lambda x:3 +np.cos(x) + 3*(np.cos(x))**2*np.sin(x),  0, 0.001))"
      ],
      "execution_count": 0,
      "outputs": []
    },
    {
      "cell_type": "code",
      "metadata": {
        "id": "Qeq30WaIK3L4",
        "colab_type": "code",
        "colab": {}
      },
      "source": [
        "print('root =  ',newton(lambda x: 27*x**3 - 3*x +1, lambda x: 81*x**2 - 3, 0, 0.0001))"
      ],
      "execution_count": 0,
      "outputs": []
    },
    {
      "cell_type": "markdown",
      "metadata": {
        "id": "DgQc0NES3LKM",
        "colab_type": "text"
      },
      "source": [
        "Zadanie 3:\n",
        "Zaimplementuje metodę siecznych (Eulera). Przedział poszukiwań dobierz samodzielnie (jakie warunki?)."
      ]
    },
    {
      "cell_type": "code",
      "metadata": {
        "id": "koXUrNNt2xrP",
        "colab_type": "code",
        "colab": {}
      },
      "source": [
        "def secant(func, a, b, e):\n",
        "  x = a\n",
        "  if(func(a) * func(b) >=  0):\n",
        "    print(\"wrong interval\")\n",
        "    return\n",
        "  while(abs(func(x)) > e):\n",
        "    x = b - ((func(b) * (b - a)) / (func(b) - func(a)))\n",
        "    if abs(x-b) < e:\n",
        "            return x\n",
        "    a = b\n",
        "    b = x"
      ],
      "execution_count": 0,
      "outputs": []
    },
    {
      "cell_type": "code",
      "metadata": {
        "id": "FHC0y0_Z48YB",
        "colab_type": "code",
        "colab": {}
      },
      "source": [
        "print('root =  ',secant(lambda x: -26 + 85 * x  - 91 * x**2 + 44 * x**3 - 8 * x**4 + x**5, 0, 10, 0.00001))"
      ],
      "execution_count": 0,
      "outputs": []
    },
    {
      "cell_type": "code",
      "metadata": {
        "id": "O2uRbwfH50G4",
        "colab_type": "code",
        "colab": {}
      },
      "source": [
        "print('root =  ',secant(lambda x: 4**x - 3**(2*x) + 2**(3*x) - 1, -0.5,0.5, 0.01))\n",
        "print('root =  ',secant(lambda x: 4**x - 3**(2*x) + 2**(3*x) - 1, 1,2, 0.01))\n"
      ],
      "execution_count": 0,
      "outputs": []
    },
    {
      "cell_type": "code",
      "metadata": {
        "id": "DVSslC7T7Dbf",
        "colab_type": "code",
        "colab": {}
      },
      "source": [
        "print('root =  ',secant(lambda x: 3*x + np.sin(x) - (np.cos(x))**3, 0,2, 0.01))\n"
      ],
      "execution_count": 0,
      "outputs": []
    },
    {
      "cell_type": "code",
      "metadata": {
        "id": "uFX2KlLp7jcU",
        "colab_type": "code",
        "colab": {}
      },
      "source": [
        "print('root =  ',secant(lambda x: 27*x**3 - 3*x +1, -1,2, 0.01))"
      ],
      "execution_count": 0,
      "outputs": []
    },
    {
      "cell_type": "markdown",
      "metadata": {
        "id": "K3J3ER5r8BxM",
        "colab_type": "text"
      },
      "source": [
        "Wybierz jedną z metod rozwiązywania równań nieliniowych dostępna w bibliotece numpy lub scipy. Porównaj dokładność wszystkiech czterech metod."
      ]
    },
    {
      "cell_type": "code",
      "metadata": {
        "id": "uMae70cV72oW",
        "colab_type": "code",
        "colab": {}
      },
      "source": [
        "from scipy import optimize\n",
        "x = optimize.root(lambda x: 2*x**2-2*x+1, 0)\n",
        "print(x)\n",
        "                  "
      ],
      "execution_count": 0,
      "outputs": []
    },
    {
      "cell_type": "code",
      "metadata": {
        "id": "T8ljP_wUCQf9",
        "colab_type": "code",
        "colab": {}
      },
      "source": [
        "\n",
        "x = optimize.root(lambda x: -26 + 85 * x  - 91 * x**2 + 44 * x**3 - 8 * x**4 + x**5, 0)\n",
        "print(x.x)"
      ],
      "execution_count": 0,
      "outputs": []
    },
    {
      "cell_type": "code",
      "metadata": {
        "id": "WHSQQhOuE7D6",
        "colab_type": "code",
        "colab": {}
      },
      "source": [
        "def relative_error(val, real_val):\n",
        "  return abs(val - real_val)/abs(real_val)"
      ],
      "execution_count": 0,
      "outputs": []
    },
    {
      "cell_type": "code",
      "metadata": {
        "id": "Q8s9LgGxGPt3",
        "colab_type": "code",
        "colab": {}
      },
      "source": [
        "func = [lambda x: -26 + 85 * x  - 91 * x**2 + 44 * x**3 - 8 * x**4 + x**5, lambda x: 4**x - 3**(2*x) + 2**(3*x) - 1, lambda x: 3*x + np.sin(x) - (np.cos(x))**3, lambda x: 27*x**3 - 3*x +1]\n",
        "rangesA = [0, -1, 0, -1]\n",
        "rangesB = [10, 1, 2, 2]\n",
        "x0 = [-1, 0, 2, 0, 0]\n",
        "dxFunc = [ lambda x: 85 + 182*x + 132*x**2 - 32*x**3 + 5*x**4, lambda x:4**x*np.log(4) + 8**x* np.log(8) - 9**x*np.log(9), lambda x:3 +np.cos(x) + 3*(np.cos(x))**2*np.sin(x), lambda x: 81*x**2 - 3]\n",
        "e = 0.01\n",
        "\n",
        "for i in range (0, len(func)):\n",
        "  realValue = optimize.root(func[i], x0[i]).x[0]\n",
        "  print(\"scimpy optimize.root:   \",realValue)\n",
        "  print(\"\\nbisection:\\n\")\n",
        "  b = bisection(func[i], rangesA[i], rangesB[i], e)\n",
        "  print(\"root =  \",b)\n",
        "  print(\"relative error =   \",relative_error(x, realValue))\n",
        "  print(\"\\n\\n\")\n",
        "  print(\"\\nnewton:\\n\")\n",
        "  n = newton(func[i], x0[i], e)\n",
        "  print(\"root =  \",n)\n",
        "  print(\"relative error =   \",relative_error(x, realValue))\n",
        "  print(\"\\n\\n\")"
      ],
      "execution_count": 0,
      "outputs": []
    },
    {
      "cell_type": "code",
      "metadata": {
        "id": "ewER2WIwMw0_",
        "colab_type": "code",
        "colab": {}
      },
      "source": [
        ""
      ],
      "execution_count": 0,
      "outputs": []
    }
  ]
}