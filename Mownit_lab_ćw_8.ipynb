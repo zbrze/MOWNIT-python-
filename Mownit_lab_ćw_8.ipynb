{
  "nbformat": 4,
  "nbformat_minor": 0,
  "metadata": {
    "kernelspec": {
      "display_name": "Python 3",
      "language": "python",
      "name": "python3"
    },
    "language_info": {
      "codemirror_mode": {
        "name": "ipython",
        "version": 3
      },
      "file_extension": ".py",
      "mimetype": "text/x-python",
      "name": "python",
      "nbconvert_exporter": "python",
      "pygments_lexer": "ipython3",
      "version": "3.7.5"
    },
    "colab": {
      "name": "Mownit - lab. ćw. 8.ipynb",
      "provenance": [],
      "collapsed_sections": [],
      "include_colab_link": true
    }
  },
  "cells": [
    {
      "cell_type": "markdown",
      "metadata": {
        "id": "view-in-github",
        "colab_type": "text"
      },
      "source": [
        "<a href=\"https://colab.research.google.com/github/zbrze/MOWNIT-python-/blob/master/Mownit_lab_%C4%87w_8.ipynb\" target=\"_parent\"><img src=\"https://colab.research.google.com/assets/colab-badge.svg\" alt=\"Open In Colab\"/></a>"
      ]
    },
    {
      "cell_type": "markdown",
      "metadata": {
        "id": "BLQwa0wQKF3S",
        "colab_type": "text"
      },
      "source": [
        "## Rozwiązywanie równań nieliniowych \n",
        "Funkcje testowe: \n",
        "$$f(x) = 2x^2 -2x + 1$$\n",
        "$$f(x) = -26 + 85x - 91x^2 +44x^3 -8x^4 + x5$$\n",
        "$$f(x) = 4^x - 3^{2x} + 2^{3x} -1$$\n",
        "$$f(x) = 3*x + sin(x) - cos^3(x)$$\n",
        "$$f(x) = 27x^3−3x+1$$\n",
        "\n",
        "### Zadanie 1:\n",
        "Zaimplementuj metodą bisekcji. Sprawdź jej działanie na powyższych funkcjach testowych. Dobierz samodzielnie przedział dla poszukiwania miejsca zerowego. Sprawdź dokładnośc metody. \n",
        "Oceń szybkość zbieżności dla każdej testowanej funkcji. Zwróć uwagę na sposób doboru E.\n",
        "\n",
        "### Zadanie 2: \n",
        "Zaimplementuj metodą Newtona-Raphsona.  Sprawdź jej działanie na powyższych funkcjach testowych. Punkt startowy i przedział poszukiwań dobierz samodzielnie (jakie warunki?). \n",
        "\n",
        "### Zadanie 3: \n",
        "Zaimplementuje metodę siecznych (Eulera). Przedział poszukiwań dobierz samodzielnie (jakie warunki?). \n",
        "\n",
        "### Zadanie 4: \n",
        "Wybierz jedną z metod rozwiązywania równań nieliniowych dostępna w bibliotece numpy lub scipy.  Porównaj dokładność wszystkiech czterech metod.\n",
        "\n"
      ]
    },
    {
      "cell_type": "markdown",
      "metadata": {
        "id": "RFT2dvxr9mSS",
        "colab_type": "text"
      },
      "source": [
        "\n",
        "\n",
        "---\n",
        "\n",
        "\n",
        "# Zadanie 1:\n",
        "Zaimplementuj metodą bisekcji. Sprawdź jej działanie na powyższych funkcjach testowych. Dobierz samodzielnie przedział dla poszukiwania miejsca zerowego. Sprawdź dokładnośc metody. Oceń szybkość zbieżności dla każdej testowanej funkcji. Zwróć uwagę na sposób doboru E."
      ]
    },
    {
      "cell_type": "code",
      "metadata": {
        "id": "YbYV2mSuKF3T",
        "colab_type": "code",
        "colab": {}
      },
      "source": [
        "import numpy as np\n",
        "def bisection(func, a, b, e):\n",
        "  if(func(a) * func(b) >= 0 or a >= b ):\n",
        "    print(\"wrong interval\")\n",
        "    return\n",
        "  rootCandidate = a \n",
        "  while ((b-a) >= e): \n",
        "        rootCandidate = (a+b)/2\n",
        "        if (func(rootCandidate ) == 0.0): \n",
        "            return rootCandidate \n",
        "        if (func(rootCandidate)*func(a) < 0): \n",
        "            b = rootCandidate \n",
        "        else: \n",
        "            a = rootCandidate \n",
        "              \n",
        "  return rootCandidate\n"
      ],
      "execution_count": 0,
      "outputs": []
    },
    {
      "cell_type": "markdown",
      "metadata": {
        "id": "RT5eBJNUYw_0",
        "colab_type": "text"
      },
      "source": [
        "f(x) = 2x^2 - 2x + 1\n",
        "funkcja nie ma miejsc zerowych i nie osiąga w żadnym punkcie wartości ujemnej, z czego wynika, iż każdy podany przedział będzie odrzucany jako błędny"
      ]
    },
    {
      "cell_type": "code",
      "metadata": {
        "id": "aqWfks6HMZQK",
        "colab_type": "code",
        "outputId": "c750f499-9aa3-4e7e-fae6-3737860af0c7",
        "colab": {
          "base_uri": "https://localhost:8080/",
          "height": 34
        }
      },
      "source": [
        "bisection(lambda x: 2*x**2-2*x+1, 2,10, 0.01)"
      ],
      "execution_count": 12,
      "outputs": [
        {
          "output_type": "stream",
          "text": [
            "wrong interval\n"
          ],
          "name": "stdout"
        }
      ]
    },
    {
      "cell_type": "markdown",
      "metadata": {
        "id": "mnKDXqNt47c-",
        "colab_type": "text"
      },
      "source": [
        "f(x)=−26+85x−91x^2+44x^3−8x^4+x^5"
      ]
    },
    {
      "cell_type": "code",
      "metadata": {
        "id": "ThKrb6CC5Lw2",
        "colab_type": "code",
        "outputId": "19667b5b-ee50-4aa0-ba0c-feb48bcecb68",
        "colab": {
          "base_uri": "https://localhost:8080/",
          "height": 34
        }
      },
      "source": [
        "bisection(lambda x: -26 + 85 * x  - 91 * x**2 + 44 * x**3 - 8 * x**4 + x**5, -1,2, 0.01)"
      ],
      "execution_count": 13,
      "outputs": [
        {
          "output_type": "execute_result",
          "data": {
            "text/plain": [
              "0.552734375"
            ]
          },
          "metadata": {
            "tags": []
          },
          "execution_count": 13
        }
      ]
    },
    {
      "cell_type": "markdown",
      "metadata": {
        "id": "dAzuaRX95eSZ",
        "colab_type": "text"
      },
      "source": [
        "f(x)=4x−3^2x+2^3x−1"
      ]
    },
    {
      "cell_type": "code",
      "metadata": {
        "id": "o-u0gtAD5aAV",
        "colab_type": "code",
        "outputId": "cf3da1e3-3275-43a5-eb14-716804faf768",
        "colab": {
          "base_uri": "https://localhost:8080/",
          "height": 51
        }
      },
      "source": [
        "print(bisection(lambda x: 4**x - 3**(2*x) + 2**(3*x) - 1, -1,1, 0.01))\n",
        "print(bisection(lambda x: 4**x - 3**(2*x) + 2**(3*x) - 1, 1,2, 0.01))"
      ],
      "execution_count": 14,
      "outputs": [
        {
          "output_type": "stream",
          "text": [
            "0.0\n",
            "1.8984375\n"
          ],
          "name": "stdout"
        }
      ]
    },
    {
      "cell_type": "markdown",
      "metadata": {
        "id": "-0vXlcx3_Elf",
        "colab_type": "text"
      },
      "source": [
        "f(x)=3∗x+sin(x)−cos^3(x)"
      ]
    },
    {
      "cell_type": "code",
      "metadata": {
        "id": "poGqO8AO8Ffv",
        "colab_type": "code",
        "outputId": "089fc99e-1df4-4bbb-b2a1-979f44ab9f69",
        "colab": {
          "base_uri": "https://localhost:8080/",
          "height": 34
        }
      },
      "source": [
        "bisection(lambda x: 3*x + np.sin(x) - (np.cos(x))**3, 0,2, 0.01)"
      ],
      "execution_count": 15,
      "outputs": [
        {
          "output_type": "execute_result",
          "data": {
            "text/plain": [
              "0.2265625"
            ]
          },
          "metadata": {
            "tags": []
          },
          "execution_count": 15
        }
      ]
    },
    {
      "cell_type": "markdown",
      "metadata": {
        "id": "RdkWau0y_4BA",
        "colab_type": "text"
      },
      "source": [
        "f(x)=27x^3−3x+1"
      ]
    },
    {
      "cell_type": "code",
      "metadata": {
        "id": "rXCSYOOh_YCv",
        "colab_type": "code",
        "outputId": "04f27ebd-db9b-44e8-9969-090d2f26e48c",
        "colab": {
          "base_uri": "https://localhost:8080/",
          "height": 34
        }
      },
      "source": [
        "bisection(lambda x: 27*x**3 - 3*x +1, -1,2, 0.01)"
      ],
      "execution_count": 16,
      "outputs": [
        {
          "output_type": "execute_result",
          "data": {
            "text/plain": [
              "-0.443359375"
            ]
          },
          "metadata": {
            "tags": []
          },
          "execution_count": 16
        }
      ]
    },
    {
      "cell_type": "markdown",
      "metadata": {
        "id": "pG5BdzgXARK7",
        "colab_type": "text"
      },
      "source": [
        "\n",
        "\n",
        "---\n",
        "\n",
        "\n",
        "# Zadanie 2:\n",
        "Zaimplementuj metodą Newtona-Raphsona. Sprawdź jej działanie na powyższych funkcjach testowych. Punkt startowy i przedział poszukiwań dobierz samodzielnie (jakie warunki?)."
      ]
    },
    {
      "cell_type": "code",
      "metadata": {
        "id": "IZTi6kDjAFou",
        "colab_type": "code",
        "colab": {}
      },
      "source": [
        "def newton(f, df, x0, a, b, e):\n",
        "    if(f(a) * f(b) >= 0 or a >= b):\n",
        "      print(\"wrong interval\")\n",
        "      return\n",
        "    delta = abs(0-f(x0))\n",
        "    while delta > e:\n",
        "        x0 = x0 - f(x0)/df(x0)\n",
        "        delta = abs(0-f(x0))\n",
        "    return x0"
      ],
      "execution_count": 0,
      "outputs": []
    },
    {
      "cell_type": "markdown",
      "metadata": {
        "id": "4ZbHgIGNKmkP",
        "colab_type": "text"
      },
      "source": [
        "f(x) = 2x^2 - 2x + 1 funkcja nie ma miejsc zerowych i nie osiąga w żadnym punkcie wartości ujemnej, z czego wynika, iż każdy podany przedział będzie odrzucany jako błędny"
      ]
    },
    {
      "cell_type": "code",
      "metadata": {
        "id": "ttB6JU3W9vUQ",
        "colab_type": "code",
        "colab": {
          "base_uri": "https://localhost:8080/",
          "height": 34
        },
        "outputId": "f4b3172a-30fd-4923-c98a-0ace0b321193"
      },
      "source": [
        "newton(lambda x: 2*x**2-2*x+1,lambda x: 4*x- 2, 0, 2, 10, 0.01)"
      ],
      "execution_count": 18,
      "outputs": [
        {
          "output_type": "stream",
          "text": [
            "wrong interval\n"
          ],
          "name": "stdout"
        }
      ]
    },
    {
      "cell_type": "code",
      "metadata": {
        "id": "N_-Bj9aFDieP",
        "colab_type": "code",
        "outputId": "09f44a61-de60-4501-88c8-4999be232d4e",
        "colab": {
          "base_uri": "https://localhost:8080/",
          "height": 34
        }
      },
      "source": [
        "print(newton(lambda x: -26 + 85 * x  - 91 * x**2 + 44 * x**3 - 8 * x**4 + x**5, lambda x: 85 + 182*x + 132*x**2 - 32*x**3 + 5*x**4, 0, -1, 2, 0.01))"
      ],
      "execution_count": 19,
      "outputs": [
        {
          "output_type": "stream",
          "text": [
            "0.5565263698126522\n"
          ],
          "name": "stdout"
        }
      ]
    },
    {
      "cell_type": "code",
      "metadata": {
        "id": "0Yd2u_KeHT_y",
        "colab_type": "code",
        "outputId": "de8c9308-eeae-4268-c1a0-cc86628f7b1a",
        "colab": {
          "base_uri": "https://localhost:8080/",
          "height": 51
        }
      },
      "source": [
        "print('root =  ',newton(lambda x: 4**x - 3**(2*x) + 2**(3*x) - 1, lambda x:4**x*np.log(4) + 8**x* np.log(8) - 9**x*np.log(9), 0,-1, 1, 0.001))\n",
        "print('root =  ',newton(lambda x: 4**x - 3**(2*x) + 2**(3*x) - 1, lambda x:4**x*np.log(4) + 8**x* np.log(8) - 9**x*np.log(9), 2,  1,2,0.001))"
      ],
      "execution_count": 20,
      "outputs": [
        {
          "output_type": "stream",
          "text": [
            "root =   0\n",
            "root =   1.8928414887014902\n"
          ],
          "name": "stdout"
        }
      ]
    },
    {
      "cell_type": "code",
      "metadata": {
        "id": "XFz3c-0_Iv2g",
        "colab_type": "code",
        "outputId": "696b4af9-2e1e-4b5f-a12f-108aed0a31dc",
        "colab": {
          "base_uri": "https://localhost:8080/",
          "height": 34
        }
      },
      "source": [
        "print('root =  ',newton(lambda x: 3*x + np.sin(x) - (np.cos(x))**3, lambda x:3 +np.cos(x) + 3*(np.cos(x))**2*np.sin(x),  0,  0, 2, 0.001))"
      ],
      "execution_count": 21,
      "outputs": [
        {
          "output_type": "stream",
          "text": [
            "root =   0.23118234563283305\n"
          ],
          "name": "stdout"
        }
      ]
    },
    {
      "cell_type": "code",
      "metadata": {
        "id": "Qeq30WaIK3L4",
        "colab_type": "code",
        "outputId": "0807685e-af35-4d67-9d31-53cd00acc704",
        "colab": {
          "base_uri": "https://localhost:8080/",
          "height": 34
        }
      },
      "source": [
        "print('root =  ',newton(lambda x: 27*x**3 - 3*x +1, lambda x: 81*x**2 - 3, 0,-1,2, 0.0001))"
      ],
      "execution_count": 22,
      "outputs": [
        {
          "output_type": "stream",
          "text": [
            "root =   -0.44157292953841903\n"
          ],
          "name": "stdout"
        }
      ]
    },
    {
      "cell_type": "markdown",
      "metadata": {
        "id": "DgQc0NES3LKM",
        "colab_type": "text"
      },
      "source": [
        "\n",
        "\n",
        "---\n",
        "\n",
        "\n",
        "# Zadanie 3:\n",
        "Zaimplementuje metodę siecznych (Eulera). Przedział poszukiwań dobierz samodzielnie (jakie warunki?)."
      ]
    },
    {
      "cell_type": "code",
      "metadata": {
        "id": "koXUrNNt2xrP",
        "colab_type": "code",
        "colab": {}
      },
      "source": [
        "def secant(func, a, b, e):\n",
        "  x = a\n",
        "  if(func(a) * func(b) >=  0 or a >= b):\n",
        "    print(\"wrong interval\")\n",
        "    return\n",
        "  while(abs(func(x)) > e):\n",
        "    x = b - ((func(b) * (b - a)) / (func(b) - func(a)))\n",
        "    a = b\n",
        "    b = x\n",
        "  return float(x)\n",
        "  "
      ],
      "execution_count": 0,
      "outputs": []
    },
    {
      "cell_type": "markdown",
      "metadata": {
        "id": "aDQToRrFK6BA",
        "colab_type": "text"
      },
      "source": [
        "f(x) = 2x^2 - 2x + 1 \n",
        "funkcja nie ma miejsc zerowych i nie osiąga w żadnym punkcie wartości ujemnej, z czego wynika, iż każdy podany przedział będzie odrzucany jako błędny"
      ]
    },
    {
      "cell_type": "code",
      "metadata": {
        "id": "3qG1Bn9sKw9L",
        "colab_type": "code",
        "colab": {
          "base_uri": "https://localhost:8080/",
          "height": 51
        },
        "outputId": "a0f25bdc-c7ef-4039-e65b-a088e1b6ea12"
      },
      "source": [
        "print('root =  ',secant(lambda x: 2*x**2-2*x+1, 0, 10, 0.00001))"
      ],
      "execution_count": 48,
      "outputs": [
        {
          "output_type": "stream",
          "text": [
            "wrong interval\n",
            "root =   None\n"
          ],
          "name": "stdout"
        }
      ]
    },
    {
      "cell_type": "code",
      "metadata": {
        "id": "FHC0y0_Z48YB",
        "colab_type": "code",
        "outputId": "9e9e469d-519c-4f21-9250-da9b454f15d7",
        "colab": {
          "base_uri": "https://localhost:8080/",
          "height": 34
        }
      },
      "source": [
        "print('root =  ',secant(lambda x: -26 + 85 * x  - 91 * x**2 + 44 * x**3 - 8 * x**4 + x**5, 0, 10, 0.00001))"
      ],
      "execution_count": 49,
      "outputs": [
        {
          "output_type": "stream",
          "text": [
            "root =   0.5570255134151508\n"
          ],
          "name": "stdout"
        }
      ]
    },
    {
      "cell_type": "code",
      "metadata": {
        "id": "O2uRbwfH50G4",
        "colab_type": "code",
        "outputId": "d73620af-9c71-4112-ed38-a31b6ea9ad85",
        "colab": {
          "base_uri": "https://localhost:8080/",
          "height": 51
        }
      },
      "source": [
        "print('root =  ',secant(lambda x: 4**x - 3**(2*x) + 2**(3*x) - 1, -0.5,0.5, 0.01))\n",
        "print('root =  ',secant(lambda x: 4**x - 3**(2*x) + 2**(3*x) - 1, 1,2, 0.01))\n"
      ],
      "execution_count": 50,
      "outputs": [
        {
          "output_type": "stream",
          "text": [
            "root =   0.002541945333594149\n",
            "root =   1.8928228678132155\n"
          ],
          "name": "stdout"
        }
      ]
    },
    {
      "cell_type": "code",
      "metadata": {
        "id": "DVSslC7T7Dbf",
        "colab_type": "code",
        "outputId": "eb08b00a-228e-4133-89eb-dbca7df8c41f",
        "colab": {
          "base_uri": "https://localhost:8080/",
          "height": 34
        }
      },
      "source": [
        "print('root =  ',secant(lambda x: 3*x + np.sin(x) - (np.cos(x))**3, 0,2, 0.01))\n"
      ],
      "execution_count": 51,
      "outputs": [
        {
          "output_type": "stream",
          "text": [
            "root =   0.23108344253875207\n"
          ],
          "name": "stdout"
        }
      ]
    },
    {
      "cell_type": "code",
      "metadata": {
        "id": "uFX2KlLp7jcU",
        "colab_type": "code",
        "outputId": "9c6c0be3-7017-4867-af97-6f9df7ac50d2",
        "colab": {
          "base_uri": "https://localhost:8080/",
          "height": 34
        }
      },
      "source": [
        "print('root =  ',secant(lambda x: 27*x**3 - 3*x +1, -1,2, 0.01))"
      ],
      "execution_count": 28,
      "outputs": [
        {
          "output_type": "stream",
          "text": [
            "root =   -0.441821626874885\n"
          ],
          "name": "stdout"
        }
      ]
    },
    {
      "cell_type": "markdown",
      "metadata": {
        "id": "K3J3ER5r8BxM",
        "colab_type": "text"
      },
      "source": [
        "\n",
        "\n",
        "---\n",
        "\n",
        "\n",
        "\n",
        "## Wybierz jedną z metod rozwiązywania równań nieliniowych dostępna w bibliotece numpy lub scipy. Porównaj dokładność wszystkiech czterech metod."
      ]
    },
    {
      "cell_type": "code",
      "metadata": {
        "id": "uMae70cV72oW",
        "colab_type": "code",
        "outputId": "445fe6ee-1ad9-4e16-c60a-88d0a111ad65",
        "colab": {
          "base_uri": "https://localhost:8080/",
          "height": 170
        }
      },
      "source": [
        "from scipy import optimize\n",
        "x = optimize.root(lambda x: 27*x**3 - 3*x +1, 0, tol = 0.001)\n",
        "print(x)\n",
        "                  "
      ],
      "execution_count": 41,
      "outputs": [
        {
          "output_type": "stream",
          "text": [
            "    fjac: array([[-1.]])\n",
            "     fun: array([0.61509983])\n",
            " message: 'The iteration is not making good progress, as measured by the \\n  improvement from the last ten iterations.'\n",
            "    nfev: 22\n",
            "     qtf: array([-0.61509983])\n",
            "       r: array([-0.01080235])\n",
            "  status: 5\n",
            " success: False\n",
            "       x: array([0.19247065])\n"
          ],
          "name": "stdout"
        }
      ]
    },
    {
      "cell_type": "code",
      "metadata": {
        "id": "T8ljP_wUCQf9",
        "colab_type": "code",
        "outputId": "d2395ef0-6875-4c69-dc21-2de7b3343484",
        "colab": {
          "base_uri": "https://localhost:8080/",
          "height": 170
        }
      },
      "source": [
        "\n",
        "print(optimize.root(lambda x: -26 + 85 * x  - 91 * x**2 + 44 * x**3 - 8 * x**4 + x**5, 0, tol = 0.001))\n"
      ],
      "execution_count": 30,
      "outputs": [
        {
          "output_type": "stream",
          "text": [
            "    fjac: array([[-1.]])\n",
            "     fun: array([-6.0744465e-13])\n",
            " message: 'The solution converged.'\n",
            "    nfev: 10\n",
            "     qtf: array([7.34255315e-08])\n",
            "       r: array([-19.52886001])\n",
            "  status: 1\n",
            " success: True\n",
            "       x: array([0.55702552])\n"
          ],
          "name": "stdout"
        }
      ]
    },
    {
      "cell_type": "code",
      "metadata": {
        "id": "MGyVTHw1LIui",
        "colab_type": "code",
        "colab": {
          "base_uri": "https://localhost:8080/",
          "height": 170
        },
        "outputId": "ffc543b6-ef12-4baa-fd77-6ac3aba51f0c"
      },
      "source": [
        "print(optimize.root(lambda x:3*x + np.sin(x) - (np.cos(x))**3,  0, tol = 0.001))"
      ],
      "execution_count": 40,
      "outputs": [
        {
          "output_type": "stream",
          "text": [
            "    fjac: array([[-1.]])\n",
            "     fun: array([-1.11022302e-16])\n",
            " message: 'The solution converged.'\n",
            "    nfev: 8\n",
            "     qtf: array([1.12132525e-14])\n",
            "       r: array([-4.62450956])\n",
            "  status: 1\n",
            " success: True\n",
            "       x: array([0.2310996])\n"
          ],
          "name": "stdout"
        }
      ]
    },
    {
      "cell_type": "code",
      "metadata": {
        "id": "Ji3-kiU8LJCd",
        "colab_type": "code",
        "colab": {
          "base_uri": "https://localhost:8080/",
          "height": 323
        },
        "outputId": "d0bd3906-724d-4301-d6fb-b69049815a17"
      },
      "source": [
        "print(optimize.root(lambda x:  4**x - 3**(2*x) + 2**(3*x) - 1,0, tol = 0.001))\n",
        "print(optimize.root(lambda x:  4**x - 3**(2*x) + 2**(3*x) - 1,1, tol = 0.001))"
      ],
      "execution_count": 55,
      "outputs": [
        {
          "output_type": "stream",
          "text": [
            "    fjac: array([[-1.]])\n",
            "     fun: array([0.])\n",
            " message: 'The solution converged.'\n",
            "    nfev: 3\n",
            "     qtf: array([0.])\n",
            "       r: array([-1.26851134])\n",
            "  status: 1\n",
            " success: True\n",
            "       x: array([0.])\n",
            "    fjac: array([[-1.]])\n",
            "     fun: array([0.])\n",
            " message: 'The solution converged.'\n",
            "    nfev: 9\n",
            "     qtf: array([-5.25741672e-11])\n",
            "       r: array([-1.26851165])\n",
            "  status: 1\n",
            " success: True\n",
            "       x: array([5.52894407e-17])\n"
          ],
          "name": "stdout"
        }
      ]
    },
    {
      "cell_type": "markdown",
      "metadata": {
        "id": "9i5Hnho8HtU8",
        "colab_type": "text"
      },
      "source": [
        "# Porównanie działania funkcji\n",
        "\n",
        "\n",
        "\n",
        "*   uznałam że dla pierwszej funkcji nie ma sensu porównywać wyników, gdyż takowe nie istnieją\n",
        "*   w przypadku gdy funkcja optimize.root zakończy się niepowodzeniem, jako wartość rzeczywistą biorę wynik bijekcji\n",
        "\n",
        "\n"
      ]
    },
    {
      "cell_type": "code",
      "metadata": {
        "id": "WHSQQhOuE7D6",
        "colab_type": "code",
        "colab": {}
      },
      "source": [
        "def relative_error(val, real_val):\n",
        "  if(val is not None):\n",
        "    return abs(val - real_val)/abs(real_val)\n",
        "  if(val == 0):\n",
        "    return 0\n",
        "  print(\"type of variable is nonetype\")\n",
        "  return"
      ],
      "execution_count": 0,
      "outputs": []
    },
    {
      "cell_type": "code",
      "metadata": {
        "id": "Q8s9LgGxGPt3",
        "colab_type": "code",
        "outputId": "cfbf80a9-14d7-4b74-c138-0c4a32d931d7",
        "colab": {
          "base_uri": "https://localhost:8080/",
          "height": 1000
        }
      },
      "source": [
        "import time\n",
        "func = [lambda x: -26 + 85 * x  - 91 * x**2 + 44 * x**3 - 8 * x**4 + x**5, lambda x: 4**x - 3**(2*x) + 2**(3*x) - 1, lambda x: 4**x - 3**(2*x) + 2**(3*x) - 1,lambda x: 3*x + np.sin(x) - (np.cos(x))**3, lambda x: 27*x**3 - 3*x +1]\n",
        "funcStr = ['-26 + 85 * x  - 91 * x**2 + 44 * x**3 - 8 * x**4 + x**5', ' 4**x - 3**(2*x) + 2**(3*x) - 1',' 4**x - 3**(2*x) + 2**(3*x) - 1',' 3*x + np.sin(x) - (np.cos(x))**3', '27*x**3 - 3*x +1']\n",
        "rangesA = [0, 1, -0.5, 1, -1]\n",
        "rangesB = [10, 2,0.5, 2, 2]\n",
        "x0 = [-1, 2, 0, 2, 0, 0]\n",
        "dxFunc = [ lambda x: 85 + 182*x + 132*x**2 - 32*x**3 + 5*x**4, lambda x:4**x*np.log(4) + 8**x* np.log(8) - 9**x*np.log(9), lambda x:4**x*np.log(4) + 8**x* np.log(8) - 9**x*np.log(9), lambda x:3 +np.cos(x) + 3*(np.cos(x))**2*np.sin(x), lambda x: 81*x**2 - 3]\n",
        "e = [0.01, 0.001, 0.0001]\n",
        "for j in range (0, len(e)):\n",
        "  print('\\033[2;37;40m',\"e = \", e[j], '\\033[0m ')\n",
        "  for i in range (0, len(func)):\n",
        "    realValue = optimize.root(func[i], x0[i], tol = e[j]).x[0]\n",
        "    success =  optimize.root(func[i], x0[i], tol = e[j]).success\n",
        "    print(\"\\n\",'\\033[0;37;42m',funcStr[i], '\\033[0m ')\n",
        "    print(\"\\n\\n\",'\\033[31m' +\"scimpy optimize.root:   \",realValue, \", success:   \", success, '\\033[0m')\n",
        "\n",
        "\n",
        "    print('\\033[32m', \"\\n\\nbisection:\\n\",'\\033[0m ')\n",
        "    startb = time.time()\n",
        "    b = bisection(func[i], rangesA[i], rangesB[i], e[j])\n",
        "    endb = time.time()\n",
        "    print(\"root =  \",b)\n",
        "    if(success is False):\n",
        "      print(\"\\nunsuccesful scimpy function performance - relative error incorrect\")\n",
        "      realValue = b\n",
        "    print(\"relative error =   \",relative_error(b, realValue))\n",
        "    print(\"Function performance: \",endb - startb)\n",
        "    print(\"\\n\")\n",
        "\n",
        "\n",
        "    print('\\033[32m',\"newton:\\n\",'\\033[0m ')\n",
        "    startn = time.time()\n",
        "    n = newton(func[i], dxFunc[i], x0[i], rangesA[i], rangesB[i], e[j])\n",
        "    endn = time.time()\n",
        "    print(\"root =  \",n)\n",
        "    print(\"relative error =   \",relative_error(n, realValue))\n",
        "    print(\"Function performance: \",endn - startn)\n",
        "    print(\"\\n\")\n",
        "\n",
        "\n",
        "    print('\\033[32m',\"secant:\\n\",'\\033[0m ')\n",
        "    starts = time.time()\n",
        "    s = secant(func[i], float(rangesA[i]), float(rangesB[i]), float(e[j]))\n",
        "    ends = time.time()\n",
        "    print(\"root =  \",n)\n",
        "    print(\"relative error =   \",relative_error(s, realValue))\n",
        "    print(\"Function performance: \",ends - starts)\n",
        "    print(\"\\n-------------------------------------------\\n\")"
      ],
      "execution_count": 64,
      "outputs": [
        {
          "output_type": "stream",
          "text": [
            "\u001b[2;37;40m e =  0.01 \u001b[0m \n",
            "\n",
            " \u001b[0;37;42m -26 + 85 * x  - 91 * x**2 + 44 * x**3 - 8 * x**4 + x**5 \u001b[0m \n",
            "\n",
            "\n",
            " \u001b[31mscimpy optimize.root:    0.5570237518962053 , success:    True \u001b[0m\n",
            "\u001b[32m \n",
            "\n",
            "bisection:\n",
            " \u001b[0m \n",
            "root =   0.556640625\n",
            "relative error =    0.0006878106990969654\n",
            "Function performance:  5.0067901611328125e-05\n",
            "\n",
            "\n",
            "\u001b[32m newton:\n",
            " \u001b[0m \n",
            "root =   0.5575155833493114\n",
            "relative error =    0.0008829631616816542\n",
            "Function performance:  0.0003383159637451172\n",
            "\n",
            "\n",
            "\u001b[32m secant:\n",
            " \u001b[0m \n",
            "root =   0.5575155833493114\n",
            "relative error =    0.0007337106562811523\n",
            "Function performance:  3.743171691894531e-05\n",
            "\n",
            "-------------------------------------------\n",
            "\n",
            "\n",
            " \u001b[0;37;42m  4**x - 3**(2*x) + 2**(3*x) - 1 \u001b[0m \n",
            "\n",
            "\n",
            " \u001b[31mscimpy optimize.root:    1.892979486218316 , success:    True \u001b[0m\n",
            "\u001b[32m \n",
            "\n",
            "bisection:\n",
            " \u001b[0m \n",
            "root =   1.8984375\n",
            "relative error =    0.002883292619608721\n",
            "Function performance:  3.337860107421875e-05\n",
            "\n",
            "\n",
            "\u001b[32m newton:\n",
            " \u001b[0m \n",
            "root =   1.8928414887014902\n",
            "relative error =    7.28996366999962e-05\n",
            "Function performance:  7.891654968261719e-05\n",
            "\n",
            "\n",
            "\u001b[32m secant:\n",
            " \u001b[0m \n",
            "root =   1.8928414887014902\n",
            "relative error =    8.273645131431882e-05\n",
            "Function performance:  3.600120544433594e-05\n",
            "\n",
            "-------------------------------------------\n",
            "\n",
            "\n",
            " \u001b[0;37;42m  4**x - 3**(2*x) + 2**(3*x) - 1 \u001b[0m \n",
            "\n",
            "\n",
            " \u001b[31mscimpy optimize.root:    0.0 , success:    True \u001b[0m\n",
            "\u001b[32m \n",
            "\n",
            "bisection:\n",
            " \u001b[0m \n",
            "root =   0.0\n",
            "relative error =    nan\n",
            "Function performance:  7.152557373046875e-06\n",
            "\n",
            "\n",
            "\u001b[32m newton:\n",
            " \u001b[0m \n",
            "root =   0\n",
            "relative error =    nan\n",
            "Function performance:  9.298324584960938e-06\n",
            "\n",
            "\n",
            "\u001b[32m secant:\n",
            " \u001b[0m \n",
            "root =   0\n",
            "relative error =    inf\n",
            "Function performance:  2.0742416381835938e-05\n",
            "\n",
            "-------------------------------------------\n",
            "\n",
            "\n",
            " \u001b[0;37;42m  3*x + np.sin(x) - (np.cos(x))**3 \u001b[0m \n",
            "\n",
            "\n",
            " \u001b[31mscimpy optimize.root:    0.2310991468903457 , success:    True \u001b[0m\n",
            "\u001b[32m \n",
            "\n",
            "bisection:\n",
            " \u001b[0m \n",
            "wrong interval\n",
            "root =   None\n",
            "type of variable is nonetype\n",
            "relative error =    None\n",
            "Function performance:  7.176399230957031e-05\n",
            "\n",
            "\n",
            "\u001b[32m newton:\n",
            " \u001b[0m \n",
            "wrong interval\n",
            "root =   None\n",
            "type of variable is nonetype\n",
            "relative error =    None\n",
            "Function performance:  4.1961669921875e-05\n",
            "\n",
            "\n",
            "\u001b[32m secant:\n",
            " \u001b[0m \n",
            "wrong interval\n",
            "root =   None\n",
            "type of variable is nonetype\n",
            "relative error =    None\n",
            "Function performance:  3.9577484130859375e-05\n",
            "\n",
            "-------------------------------------------\n",
            "\n",
            "\n",
            " \u001b[0;37;42m 27*x**3 - 3*x +1 \u001b[0m \n",
            "\n",
            "\n",
            " \u001b[31mscimpy optimize.root:    0.19312169312245425 , success:    True \u001b[0m\n",
            "\u001b[32m \n",
            "\n",
            "bisection:\n",
            " \u001b[0m \n",
            "root =   -0.443359375\n",
            "relative error =    3.295751284237527\n",
            "Function performance:  2.7179718017578125e-05\n",
            "\n",
            "\n",
            "\u001b[32m newton:\n",
            " \u001b[0m \n",
            "root =   -0.44188769814296075\n",
            "relative error =    3.2881308205120665\n",
            "Function performance:  3.8623809814453125e-05\n",
            "\n",
            "\n",
            "\u001b[32m secant:\n",
            " \u001b[0m \n",
            "root =   -0.44188769814296075\n",
            "relative error =    3.287788698055457\n",
            "Function performance:  2.956390380859375e-05\n",
            "\n",
            "-------------------------------------------\n",
            "\n",
            "\u001b[2;37;40m e =  0.001 \u001b[0m \n",
            "\n",
            " \u001b[0;37;42m -26 + 85 * x  - 91 * x**2 + 44 * x**3 - 8 * x**4 + x**5 \u001b[0m \n",
            "\n",
            "\n",
            " \u001b[31mscimpy optimize.root:    0.5570237518962053 , success:    True \u001b[0m\n",
            "\u001b[32m \n",
            "\n",
            "bisection:\n",
            " \u001b[0m \n",
            "root =   0.5572509765625\n",
            "relative error =    0.00040792635057507746\n",
            "Function performance:  5.745887756347656e-05\n",
            "\n",
            "\n",
            "\u001b[32m newton:\n",
            " \u001b[0m \n",
            "root =   0.557074774712052\n",
            "relative error =    9.159899496743032e-05\n",
            "Function performance:  0.0003883838653564453\n",
            "\n",
            "\n",
            "\u001b[32m secant:\n",
            " \u001b[0m \n",
            "root =   0.557074774712052\n",
            "relative error =    4.839574285875405e-06\n",
            "Function performance:  3.910064697265625e-05\n",
            "\n",
            "-------------------------------------------\n",
            "\n",
            "\n",
            " \u001b[0;37;42m  4**x - 3**(2*x) + 2**(3*x) - 1 \u001b[0m \n",
            "\n",
            "\n",
            " \u001b[31mscimpy optimize.root:    1.8928414903853925 , success:    True \u001b[0m\n",
            "\u001b[32m \n",
            "\n",
            "bisection:\n",
            " \u001b[0m \n",
            "root =   1.8935546875\n",
            "relative error =    0.00037678649703640964\n",
            "Function performance:  4.553794860839844e-05\n",
            "\n",
            "\n",
            "\u001b[32m newton:\n",
            " \u001b[0m \n",
            "root =   1.8928414887014902\n",
            "relative error =    8.896161455906825e-10\n",
            "Function performance:  8.344650268554688e-05\n",
            "\n",
            "\n",
            "\u001b[32m secant:\n",
            " \u001b[0m \n",
            "root =   1.8928414887014902\n",
            "relative error =    9.838421374208407e-06\n",
            "Function performance:  3.8623809814453125e-05\n",
            "\n",
            "-------------------------------------------\n",
            "\n",
            "\n",
            " \u001b[0;37;42m  4**x - 3**(2*x) + 2**(3*x) - 1 \u001b[0m \n",
            "\n",
            "\n",
            " \u001b[31mscimpy optimize.root:    0.0 , success:    True \u001b[0m\n",
            "\u001b[32m \n",
            "\n",
            "bisection:\n",
            " \u001b[0m \n",
            "root =   0.0\n",
            "relative error =    nan\n",
            "Function performance:  7.867813110351562e-06\n",
            "\n",
            "\n",
            "\u001b[32m newton:\n",
            " \u001b[0m \n",
            "root =   0\n",
            "relative error =    nan\n",
            "Function performance:  7.62939453125e-06\n",
            "\n",
            "\n",
            "\u001b[32m secant:\n",
            " \u001b[0m \n",
            "root =   0\n",
            "relative error =    inf\n",
            "Function performance:  3.147125244140625e-05\n",
            "\n",
            "-------------------------------------------\n",
            "\n",
            "\n",
            " \u001b[0;37;42m  3*x + np.sin(x) - (np.cos(x))**3 \u001b[0m \n",
            "\n",
            "\n",
            " \u001b[31mscimpy optimize.root:    0.23109960341267127 , success:    True \u001b[0m\n",
            "\u001b[32m \n",
            "\n",
            "bisection:\n",
            " \u001b[0m \n",
            "wrong interval\n",
            "root =   None\n",
            "type of variable is nonetype\n",
            "relative error =    None\n",
            "Function performance:  5.984306335449219e-05\n",
            "\n",
            "\n",
            "\u001b[32m newton:\n",
            " \u001b[0m \n",
            "wrong interval\n",
            "root =   None\n",
            "type of variable is nonetype\n",
            "relative error =    None\n",
            "Function performance:  5.173683166503906e-05\n",
            "\n",
            "\n",
            "\u001b[32m secant:\n",
            " \u001b[0m \n",
            "wrong interval\n",
            "root =   None\n",
            "type of variable is nonetype\n",
            "relative error =    None\n",
            "Function performance:  4.267692565917969e-05\n",
            "\n",
            "-------------------------------------------\n",
            "\n",
            "\n",
            " \u001b[0;37;42m 27*x**3 - 3*x +1 \u001b[0m \n",
            "\n",
            "\n",
            " \u001b[31mscimpy optimize.root:    0.19247065145578618 , success:    False \u001b[0m\n",
            "\u001b[32m \n",
            "\n",
            "bisection:\n",
            " \u001b[0m \n",
            "root =   -0.441162109375\n",
            "\n",
            "unsuccesful scimpy function performance - relative error incorrect\n",
            "relative error =    0.0\n",
            "Function performance:  3.504753112792969e-05\n",
            "\n",
            "\n",
            "\u001b[32m newton:\n",
            " \u001b[0m \n",
            "root =   -0.44157292953841903\n",
            "relative error =    0.0009312226836548784\n",
            "Function performance:  4.172325134277344e-05\n",
            "\n",
            "\n",
            "\u001b[32m secant:\n",
            " \u001b[0m \n",
            "root =   -0.44157292953841903\n",
            "relative error =    0.0009367683347120732\n",
            "Function performance:  2.384185791015625e-05\n",
            "\n",
            "-------------------------------------------\n",
            "\n",
            "\u001b[2;37;40m e =  0.0001 \u001b[0m \n",
            "\n",
            " \u001b[0;37;42m -26 + 85 * x  - 91 * x**2 + 44 * x**3 - 8 * x**4 + x**5 \u001b[0m \n",
            "\n",
            "\n",
            " \u001b[31mscimpy optimize.root:    0.557025515637912 , success:    True \u001b[0m\n",
            "\u001b[32m \n",
            "\n",
            "bisection:\n",
            " \u001b[0m \n",
            "root =   0.5570220947265625\n",
            "relative error =    6.141390750493598e-06\n",
            "Function performance:  6.580352783203125e-05\n",
            "\n",
            "\n",
            "\u001b[32m newton:\n",
            " \u001b[0m \n",
            "root =   0.5570304611248118\n",
            "relative error =    8.878384851209317e-06\n",
            "Function performance:  0.0004296302795410156\n",
            "\n",
            "\n",
            "\u001b[32m secant:\n",
            " \u001b[0m \n",
            "root =   0.5570304611248118\n",
            "relative error =    8.00591608065867e-06\n",
            "Function performance:  5.316734313964844e-05\n",
            "\n",
            "-------------------------------------------\n",
            "\n",
            "\n",
            " \u001b[0;37;42m  4**x - 3**(2*x) + 2**(3*x) - 1 \u001b[0m \n",
            "\n",
            "\n",
            " \u001b[31mscimpy optimize.root:    1.8928404584014562 , success:    True \u001b[0m\n",
            "\u001b[32m \n",
            "\n",
            "bisection:\n",
            " \u001b[0m \n",
            "root =   1.89288330078125\n",
            "relative error =    2.2633909584739222e-05\n",
            "Function performance:  5.435943603515625e-05\n",
            "\n",
            "\n",
            "\u001b[32m newton:\n",
            " \u001b[0m \n",
            "root =   1.8928414887014902\n",
            "relative error =    5.44314249720344e-07\n",
            "Function performance:  7.581710815429688e-05\n",
            "\n",
            "\n",
            "\u001b[32m secant:\n",
            " \u001b[0m \n",
            "root =   1.8928414887014902\n",
            "relative error =    1.5273840234449492e-08\n",
            "Function performance:  6.0558319091796875e-05\n",
            "\n",
            "-------------------------------------------\n",
            "\n",
            "\n",
            " \u001b[0;37;42m  4**x - 3**(2*x) + 2**(3*x) - 1 \u001b[0m \n",
            "\n",
            "\n",
            " \u001b[31mscimpy optimize.root:    0.0 , success:    True \u001b[0m\n",
            "\u001b[32m \n",
            "\n",
            "bisection:\n",
            " \u001b[0m \n",
            "root =   0.0\n",
            "relative error =    nan\n",
            "Function performance:  7.3909759521484375e-06\n",
            "\n",
            "\n",
            "\u001b[32m newton:\n",
            " \u001b[0m \n",
            "root =   0\n",
            "relative error =    nan\n",
            "Function performance:  6.9141387939453125e-06\n",
            "\n",
            "\n",
            "\u001b[32m secant:\n",
            " \u001b[0m \n",
            "root =   0\n",
            "relative error =    inf\n",
            "Function performance:  2.5033950805664062e-05\n",
            "\n",
            "-------------------------------------------\n",
            "\n",
            "\n",
            " \u001b[0;37;42m  3*x + np.sin(x) - (np.cos(x))**3 \u001b[0m \n",
            "\n",
            "\n",
            " \u001b[31mscimpy optimize.root:    0.23109960341267127 , success:    True \u001b[0m\n",
            "\u001b[32m \n",
            "\n",
            "bisection:\n",
            " \u001b[0m \n",
            "wrong interval\n",
            "root =   None\n",
            "type of variable is nonetype\n",
            "relative error =    None\n",
            "Function performance:  4.124641418457031e-05\n",
            "\n",
            "\n",
            "\u001b[32m newton:\n",
            " \u001b[0m \n",
            "wrong interval\n",
            "root =   None\n",
            "type of variable is nonetype\n",
            "relative error =    None\n",
            "Function performance:  0.0011112689971923828\n",
            "\n",
            "\n",
            "\u001b[32m secant:\n",
            " \u001b[0m \n",
            "wrong interval\n",
            "root =   None\n",
            "type of variable is nonetype\n",
            "relative error =    None\n",
            "Function performance:  7.033348083496094e-05\n",
            "\n",
            "-------------------------------------------\n",
            "\n",
            "\n",
            " \u001b[0;37;42m 27*x**3 - 3*x +1 \u001b[0m \n",
            "\n",
            "\n",
            " \u001b[31mscimpy optimize.root:    0.19247065145578618 , success:    False \u001b[0m\n",
            "\u001b[32m \n",
            "\n",
            "bisection:\n",
            " \u001b[0m \n",
            "root =   -0.441619873046875\n",
            "\n",
            "unsuccesful scimpy function performance - relative error incorrect\n",
            "relative error =    0.0\n",
            "Function performance:  2.7894973754882812e-05\n",
            "\n",
            "\n",
            "\u001b[32m newton:\n",
            " \u001b[0m \n",
            "root =   -0.44157292953841903\n",
            "relative error =    0.00010629845104589026\n",
            "Function performance:  2.8133392333984375e-05\n",
            "\n",
            "\n",
            "\u001b[32m secant:\n",
            " \u001b[0m \n",
            "root =   -0.44157292953841903\n",
            "relative error =    0.00010075854836585373\n",
            "Function performance:  1.5974044799804688e-05\n",
            "\n",
            "-------------------------------------------\n",
            "\n"
          ],
          "name": "stdout"
        },
        {
          "output_type": "stream",
          "text": [
            "/usr/local/lib/python3.6/dist-packages/ipykernel_launcher.py:3: RuntimeWarning: invalid value encountered in double_scalars\n",
            "  This is separate from the ipykernel package so we can avoid doing imports until\n",
            "/usr/local/lib/python3.6/dist-packages/ipykernel_launcher.py:3: RuntimeWarning: divide by zero encountered in double_scalars\n",
            "  This is separate from the ipykernel package so we can avoid doing imports until\n"
          ],
          "name": "stderr"
        }
      ]
    },
    {
      "cell_type": "markdown",
      "metadata": {
        "id": "Qyb-_lo0In0b",
        "colab_type": "text"
      },
      "source": [
        "# Spostrzeżenia:\n",
        "\n",
        "*   wbudowana funkcja biblioteki scipy nie radzi sobie ze znalezieniem pierwiastków funkcji  27*x**3 - 3*x +1\n",
        "*   najszybciej wśród zaimplementowanych przeze mnie metod działa metoda Newtona, a najwolniej bijekcja\n",
        "\n",
        "*   wadą metody Newtona jest konieczność znajomości pochodnych funkcji\n",
        "*   dla dokładniejszych e zaimplementowana przeze mnie metoda siecznych zwraca element typu NoneType\n",
        "\n",
        "\n",
        "\n"
      ]
    },
    {
      "cell_type": "code",
      "metadata": {
        "id": "ewER2WIwMw0_",
        "colab_type": "code",
        "colab": {}
      },
      "source": [
        ""
      ],
      "execution_count": 0,
      "outputs": []
    }
  ]
}