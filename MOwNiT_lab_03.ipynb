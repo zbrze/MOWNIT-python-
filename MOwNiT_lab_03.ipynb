{
  "nbformat": 4,
  "nbformat_minor": 0,
  "metadata": {
    "kernelspec": {
      "display_name": "Python 3",
      "language": "python",
      "name": "python3"
    },
    "language_info": {
      "codemirror_mode": {
        "name": "ipython",
        "version": 3
      },
      "file_extension": ".py",
      "mimetype": "text/x-python",
      "name": "python",
      "nbconvert_exporter": "python",
      "pygments_lexer": "ipython3",
      "version": "3.7.5"
    },
    "colab": {
      "name": "MOwNiT-lab-03.ipynb",
      "provenance": [],
      "collapsed_sections": []
    }
  },
  "cells": [
    {
      "cell_type": "markdown",
      "metadata": {
        "id": "tSHQRM0nn4D5",
        "colab_type": "text"
      },
      "source": [
        "# Interpolacja "
      ]
    },
    {
      "cell_type": "markdown",
      "metadata": {
        "id": "80C4sjjun4D8",
        "colab_type": "text"
      },
      "source": [
        "### Zadanie 1\n",
        "Stablicuj następujące funkcje: sqrt(x), sin(x), x^3+2x w czterech punktach należących do przedziału 0 do 10."
      ]
    },
    {
      "cell_type": "code",
      "metadata": {
        "id": "TVodJy0Zn6NR",
        "colab_type": "code",
        "outputId": "4f9a198c-c281-442e-f564-ab312e1ea05a",
        "colab": {
          "base_uri": "https://localhost:8080/",
          "height": 68
        }
      },
      "source": [
        "import numpy as np\n",
        "def lookupTab(fx, steps):\n",
        "  val_x = np.array(np.linspace(0, 10, steps))\n",
        "  array_y = np.zeros([steps])\n",
        "  for i in range(len(val_x)):\n",
        "    array_y[i] = fx(val_x[i])\n",
        "  return array_y\n",
        "\n",
        "lookup_sine = lookupTab(lambda x : np.sin(x), 4)\n",
        "print(lookup_sine)\n",
        "\n",
        "lookup_sqrt = lookupTab(lambda x : np.sqrt(x), 4)\n",
        "print(lookup_sqrt)\n",
        "\n",
        "\n",
        "lookup_func3 = lookupTab(lambda x : x**3+2*x, 4)\n",
        "print(lookup_func3)"
      ],
      "execution_count": 2,
      "outputs": [
        {
          "output_type": "stream",
          "text": [
            "[ 0.         -0.19056796  0.37415123 -0.54402111]\n",
            "[0.         1.82574186 2.5819889  3.16227766]\n",
            "[   0.           43.7037037   309.62962963 1020.        ]\n"
          ],
          "name": "stdout"
        }
      ]
    },
    {
      "cell_type": "markdown",
      "metadata": {
        "id": "L_ltO2Uqn4D_",
        "colab_type": "text"
      },
      "source": [
        "### Zadanie 2 \n",
        "Napisz algorytm znajdujący wielomian interpolujący Lagrange dla powyższych stablicowanych funkcji."
      ]
    },
    {
      "cell_type": "code",
      "metadata": {
        "id": "2elQ0B8an68k",
        "colab_type": "code",
        "outputId": "86dc6327-7d5b-4a82-b5f6-5ba6e8fdea80",
        "colab": {
          "base_uri": "https://localhost:8080/",
          "height": 527
        }
      },
      "source": [
        "\n",
        "import scipy\n",
        "from scipy.interpolate import lagrange\n",
        "import numpy as np\n",
        "\n",
        "\n",
        "def lagrangePoly(val_y):\n",
        "    val_x  = np.array(np.linspace(0, 10, len(val_y)))\n",
        "    n = len(val_y)\n",
        "    poly = np.zeros(n)\n",
        "    def basis(i):    #dodatkowa fcja obliczająca mianownik\n",
        "      p = 1\n",
        "      for j in (j for j in range(0, n) if (j != i)):\n",
        "           p *= (val_x[i] - val_x[j])\n",
        "      return p\n",
        "    for i in range(len(val_y)):\n",
        "        prod = 1\n",
        "        prod = val_y[i] / basis(i)\n",
        "        exp = [prod] + (n-1)*[0]\n",
        "        for j in (j for j in range(n) if (j != i)):\n",
        "            for k in range(n-1,0,-1):\n",
        "                exp[k] += exp[k-1]\n",
        "                exp[k-1] *= (-val_x[j])\n",
        "        for j in range(n):\n",
        "          poly[j] += exp[j]\n",
        "    return(np.around(poly, decimals =20))\n",
        "\n",
        "\n",
        "\n",
        "val_x  = np.array(np.linspace(0, 10, len(val_y)))\n",
        "print(\"Lagrange polynomial for: \\n\")\n",
        "print(\"f(x) = sin(x)\\n\")\n",
        "val_y = lookupTab(lambda x : np.sin(x), 4)\n",
        "print(\"my algorithm: \",lagrangePoly(val_y)[::-1])\n",
        "print(\"\\nscimpy func: \",scipy.interpolate.lagrange(val_x, val_y))\n",
        "print(\"\\n ===================================\")\n",
        "print(\"\\nLagrange polynomial for: \\n\")\n",
        "print(\"f(x) = sqrt(x)\\n\")\n",
        "val_y = lookupTab(lambda x : np.sqrt(x), 4)\n",
        "print(\"my algorithm: \",lagrangePoly(val_y)[::-1])\n",
        "print(\"\\nscimpy func: \",scipy.interpolate.lagrange(val_x, val_y))\n",
        "print(\"\\n ===================================\")\n",
        "print(\"\\nLagrange polynomial for: \\n\")\n",
        "print(\"f(x) =  x**3+2*x\\n\")\n",
        "val_y = lookupTab(lambda x :  (x**3+2*x), 4)\n",
        "print(\"my algorithm: \",lagrangePoly(val_y)[::-1])                # wartości współczynników dla ostatniej funkcji są bardzo małe, a zaimplementowany przeze mnie algorytm nie ma wystarczającej dokładności\n",
        "print(\"\\nscimpy func: \",scipy.interpolate.lagrange(val_x, val_y)) #z czego wynikają różnice między wynikiem otrzymanym z tej fcji a wynikiem fcji z scimpy"
      ],
      "execution_count": 20,
      "outputs": [
        {
          "output_type": "stream",
          "text": [
            "Lagrange polynomial for: \n",
            "\n",
            "f(x) = sin(x)\n",
            "\n",
            "my algorithm:  [-0.0100718   0.13470596 -0.39428133  0.        ]\n",
            "\n",
            "scimpy func:            3          2\n",
            "-0.01007 x + 0.1347 x - 0.3943 x\n",
            "\n",
            " ===================================\n",
            "\n",
            "Lagrange polynomial for: \n",
            "\n",
            "f(x) = sqrt(x)\n",
            "\n",
            "my algorithm:  [ 0.00402091 -0.08833641  0.79750043  0.        ]\n",
            "\n",
            "scimpy func:            3           2\n",
            "0.004021 x - 0.08834 x + 0.7975 x\n",
            "\n",
            " ===================================\n",
            "\n",
            "Lagrange polynomial for: \n",
            "\n",
            "f(x) =  x**3+2*x\n",
            "\n",
            "my algorithm:  [1. 0. 2. 0.]\n",
            "\n",
            "scimpy func:     3             2\n",
            "1 x - 7.105e-15 x + 2 x\n"
          ],
          "name": "stdout"
        }
      ]
    },
    {
      "cell_type": "markdown",
      "metadata": {
        "id": "aBhx_vaun4EC",
        "colab_type": "text"
      },
      "source": [
        "### Zadanie 3\n",
        "Porównaj wartość dokładną z wynikiem interpolacji dla punktów znajdujących się pomiędzy węzłami wielomianu (w połowie odległości) interpolującego. Oszacuj dokładność interpolacji. \n"
      ]
    },
    {
      "cell_type": "code",
      "metadata": {
        "id": "SbSHkkaln7u-",
        "colab_type": "code",
        "colab": {
          "base_uri": "https://localhost:8080/",
          "height": 476
        },
        "outputId": "7fc7a0c0-fe87-480d-b3d3-6e33a5f3f25d"
      },
      "source": [
        "import statistics\n",
        "\n",
        "def getPoins(steps):\n",
        "    val_x=np.linspace(0, 10, steps)\n",
        "    points=np.zeros([len(val_x)-1])\n",
        "    for i in range(len(val_x)-1):\n",
        "        points[i]=(val_x[i+1]-val_x[i])/2+val_x[i]\n",
        "    return points\n",
        "\n",
        "def interpolatePoints(fx, steps):\n",
        "  points = getPoins(steps)\n",
        "  results = np.zeros(len(points))\n",
        "  for i in range(len(points)):\n",
        "    polynomial = lagrangePoly(lookupTab(fx, steps))\n",
        "    for j in range(0, len(polynomial)):\n",
        "      results[i]+=polynomial[j]*(points[i]**j)\n",
        "\n",
        "  return results\n",
        "\n",
        "\n",
        "def ComparePrecision(fx, steps):\n",
        "  interpolationResults = interpolatePoints(fx, steps)\n",
        "  points = getPoins(steps)\n",
        "  print(\"results of interpolation:  \", interpolationResults)\n",
        "  print(\"accurate results:  \", fx(points))\n",
        "  diff = np.zeros(len(points))\n",
        "  for i in range(0, len(fx(points))):\n",
        "    diff[i] = abs(interpolationResults[i] - fx(points)[i])\n",
        "  print(\"variance:  \",statistics.variance(diff))\n",
        "  print(\"median:  \", statistics.median(diff))\n",
        "  print(\"standard deviation: \",statistics.stdev(diff))\n",
        "\n",
        "\n",
        "print(\"sin()x \\n\")\n",
        "ComparePrecision(lambda x: np.sin(x), 4)\n",
        "\n",
        "\n",
        "print(\"\\n \\n \\nsqrt()x \\n\")\n",
        "ComparePrecision(lambda x: np.sqrt(x), 4)\n",
        "\n",
        "print(\"\\n \\n \\nx**3+2*x \\n\")\n",
        "ComparePrecision(lambda x: (x**3+2*x), 4)"
      ],
      "execution_count": 27,
      "outputs": [
        {
          "output_type": "stream",
          "text": [
            "sin()x \n",
            "\n",
            "results of interpolation:   [-0.32958104  0.13726691  0.24031267]\n",
            "accurate results:   [ 0.99540796 -0.95892427  0.88729411]\n",
            "variance:   0.11897201548493072\n",
            "median:   1.096191182172574\n",
            "standard deviation:  0.3449232023000638\n",
            "\n",
            " \n",
            " \n",
            "sqrt()x \n",
            "\n",
            "results of interpolation:   [1.10240382 2.2817062  2.83828203]\n",
            "accurate results:   [1.29099445 2.23606798 2.88675135]\n",
            "variance:   0.006679565213717396\n",
            "median:   0.048469316500423965\n",
            "standard deviation:  0.0817286070707032\n",
            "\n",
            " \n",
            " \n",
            "x**3+2*x \n",
            "\n",
            "results of interpolation:   [  7.96296296 135.         595.37037037]\n",
            "accurate results:   [  7.96296296 135.         595.37037037]\n",
            "variance:   2.059715823532062e-27\n",
            "median:   5.684341886080802e-14\n",
            "standard deviation:  4.538409218583161e-14\n"
          ],
          "name": "stdout"
        }
      ]
    },
    {
      "cell_type": "markdown",
      "metadata": {
        "id": "Y4fgbF32n4EF",
        "colab_type": "text"
      },
      "source": [
        "### Zadanie 4\n",
        "Powtórz powyższe kroki dla 3, 5 i 8 węzłów interpolacji - podsumuj badania. "
      ]
    },
    {
      "cell_type": "code",
      "metadata": {
        "id": "jHURckMtn8rO",
        "colab_type": "code",
        "colab": {
          "base_uri": "https://localhost:8080/",
          "height": 1802
        },
        "outputId": "4e966611-3637-418f-e061-9231815ddf49"
      },
      "source": [
        "\n",
        "  \n",
        "print(\"3 steps\\n\\n\")\n",
        "print(\"sin()x \\n\")\n",
        "ComparePrecision(lambda x: np.sin(x), 3)\n",
        "\n",
        "\n",
        "print(\"\\n \\n \\nsqrt()x \\n\")\n",
        "ComparePrecision(lambda x: np.sqrt(x), 3)\n",
        "\n",
        "print(\"\\n \\n \\nx**3+2*x \\n\")\n",
        "ComparePrecision(lambda x: (x**3+2*x), 3)\n",
        "\n",
        "print(\"\\n========================================\")\n",
        "print(\"\\n\\n5 steps\\n\\n\")\n",
        "print(\"sin()x \\n\")\n",
        "ComparePrecision(lambda x: np.sin(x), 5)\n",
        "\n",
        "\n",
        "print(\"\\n \\n \\nsqrt()x \\n\")\n",
        "ComparePrecision(lambda x: np.sqrt(x), 5)\n",
        "\n",
        "print(\"\\n \\n \\nx**3+2*x \\n\")\n",
        "ComparePrecision(lambda x: (x**3+2*x),5)\n",
        "print(\"\\n========================================\")\n",
        "print(\"\\n\\n8 steps\\n\\n\")\n",
        "print(\"sin()x \\n\")\n",
        "ComparePrecision(lambda x: np.sin(x), 8)\n",
        "\n",
        "\n",
        "print(\"\\n \\n \\nsqrt()x \\n\")\n",
        "ComparePrecision(lambda x: np.sqrt(x), 8)\n",
        "\n",
        "print(\"\\n \\n \\nx**3+2*x \\n\")\n",
        "ComparePrecision(lambda x: (x**3+2*x),8)\n",
        "\n",
        "\n",
        "print(\"po przeanalizowaniu wyników dla kolejno 3, 5 i 8 węzłów interpolacji, wnioskujemy że wynik interpolacji jest tym dokładniejszy, im więcej węzłów rozpatrzymy\")\n"
      ],
      "execution_count": 23,
      "outputs": [
        {
          "output_type": "stream",
          "text": [
            "3 steps\n",
            "\n",
            "\n",
            "sin()x \n",
            "\n",
            "results of interpolation:   [-0.65119057 -0.92320112]\n",
            "accurate results:   [0.59847214 0.93799998]\n",
            "variance:   0.1869896000694319\n",
            "median:   1.5554319052978727\n",
            "standard deviation:  0.43242294119233765\n",
            "\n",
            " \n",
            " \n",
            "sqrt()x \n",
            "\n",
            "results of interpolation:   [1.28176628 2.86290511]\n",
            "accurate results:   [1.58113883 2.73861279]\n",
            "variance:   0.015326544574625576\n",
            "median:   0.21183243632127458\n",
            "standard deviation:  0.12380042235237154\n",
            "\n",
            " \n",
            " \n",
            "x**3+2*x \n",
            "\n",
            "results of interpolation:   [-26.25 483.75]\n",
            "accurate results:   [ 20.625 436.875]\n",
            "variance:   8.17890986533145e-27\n",
            "median:   46.87499999999995\n",
            "standard deviation:  9.043732562018544e-14\n",
            "\n",
            "========================================\n",
            "\n",
            "\n",
            "5 steps\n",
            "\n",
            "\n",
            "sin()x \n",
            "\n",
            "results of interpolation:   [ 1.40542894 -0.5530228  -0.30681659  1.5325092 ]\n",
            "accurate results:   [ 0.94898462 -0.57156132 -0.03317922  0.62472395]\n",
            "variance:   0.1405722662103963\n",
            "median:   0.3650408466810219\n",
            "standard deviation:  0.3749296816876417\n",
            "\n",
            " \n",
            " \n",
            "sqrt()x \n",
            "\n",
            "results of interpolation:   [0.982066   1.95960176 2.48538063 2.98306748]\n",
            "accurate results:   [1.11803399 1.93649167 2.5        2.95803989]\n",
            "variance:   0.0033295223715706806\n",
            "median:   0.02406883559081996\n",
            "standard deviation:  0.057702013583328965\n",
            "\n",
            " \n",
            " \n",
            "x**3+2*x \n",
            "\n",
            "results of interpolation:   [  4.453125  60.234375 256.640625 687.421875]\n",
            "accurate results:   [  4.453125  60.234375 256.640625 687.421875]\n",
            "variance:   8.9868191318772e-25\n",
            "median:   3.3573144264664734e-13\n",
            "standard deviation:  9.479883507658309e-13\n",
            "\n",
            "========================================\n",
            "\n",
            "\n",
            "8 steps\n",
            "\n",
            "\n",
            "sin()x \n",
            "\n",
            "results of interpolation:   [ 0.53048403  0.87180583 -0.43122873 -0.94790818  0.13179257  1.02511634\n",
            "  0.04873348]\n",
            "accurate results:   [ 0.6550779   0.84078711 -0.41672165 -0.95892427  0.14487449  0.999995\n",
            "  0.13861589]\n",
            "variance:   0.002006495021377448\n",
            "median:   0.025121332246795802\n",
            "standard deviation:  0.0447939172363553\n",
            "\n",
            " \n",
            " \n",
            "sqrt()x \n",
            "\n",
            "results of interpolation:   [0.77291161 1.47029347 1.88798872 2.23710816 2.53440947 2.80497143\n",
            " 3.0401945 ]\n",
            "accurate results:   [0.84515425 1.46385011 1.88982237 2.23606798 2.53546276 2.80305955\n",
            " 3.047247  ]\n",
            "variance:   0.0006868999761003606\n",
            "median:   0.0019118797796982001\n",
            "standard deviation:  0.026208776699807274\n",
            "\n",
            " \n",
            " \n",
            "x**3+2*x \n",
            "\n",
            "results of interpolation:   [  1.79300292  14.12536443  52.696793   135.         278.52769679\n",
            " 500.77259475 819.22740525]\n",
            "accurate results:   [  1.79300292  14.12536443  52.696793   135.         278.52769679\n",
            " 500.77259475 819.22740525]\n",
            "variance:   7.851387092692321e-21\n",
            "median:   3.799982550845016e-11\n",
            "standard deviation:  8.860805320450462e-11\n",
            "po przeanalizowaniu wyników dla kolejno 3, 5 i 8 węzłów interpolacji, wnioskujemy że wynik interpolacji jest tym dokładniejszy, im więcej węzłów rozpatrzymy\n"
          ],
          "name": "stdout"
        }
      ]
    },
    {
      "cell_type": "code",
      "metadata": {
        "id": "hBhFzo0c3bck",
        "colab_type": "code",
        "colab": {}
      },
      "source": [
        ""
      ],
      "execution_count": 0,
      "outputs": []
    }
  ]
}