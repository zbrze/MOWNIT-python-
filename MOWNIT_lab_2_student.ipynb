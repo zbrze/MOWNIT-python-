{
  "nbformat": 4,
  "nbformat_minor": 0,
  "metadata": {
    "kernelspec": {
      "display_name": "Python 3",
      "language": "python",
      "name": "python3"
    },
    "language_info": {
      "codemirror_mode": {
        "name": "ipython",
        "version": 3
      },
      "file_extension": ".py",
      "mimetype": "text/x-python",
      "name": "python",
      "nbconvert_exporter": "python",
      "pygments_lexer": "ipython3",
      "version": "3.7.5"
    },
    "colab": {
      "name": "MOWNIT-lab-2-student.ipynb",
      "provenance": [],
      "collapsed_sections": []
    }
  },
  "cells": [
    {
      "cell_type": "markdown",
      "metadata": {
        "id": "YNVH4uFSKELz",
        "colab_type": "text"
      },
      "source": [
        "## Algebra liniowa - biblioteki numeryczne \n",
        "W środowisku języka Python dostępne są dwie biblioteki numeryczne numpy i scipy. Dokumentacja: https://numpy.org/doc/, https://docs.scipy.org/doc/. Znajdź informacje wyjaśniające różnice między tymi bibliotekami. \n",
        "\n",
        "### Zadanie 1\n",
        "Napisz krótki program, który wyświetli informację o wersji biblioteki oraz jej konfiguracji. Zwróć uwagę z jakich bibliotek numerycznych korzystają biblioteki Python'a"
      ]
    },
    {
      "cell_type": "code",
      "metadata": {
        "id": "iW-xkRehKEL7",
        "colab_type": "code",
        "colab": {}
      },
      "source": [
        "import numpy as np\n",
        "print(\"wersja biblioteki:\", np.__version__)\n",
        "print()\n",
        "print()\n",
        "print(np.show_config())\n"
      ],
      "execution_count": 0,
      "outputs": []
    },
    {
      "cell_type": "code",
      "metadata": {
        "id": "k4RHPRCUKEMC",
        "colab_type": "code",
        "colab": {}
      },
      "source": [
        "import scipy as scp\n",
        "print(\"wersja biblioteki:\",scp.__version__)\n",
        "print()\n",
        "print()\n",
        "print(scp.show_config())"
      ],
      "execution_count": 0,
      "outputs": []
    },
    {
      "cell_type": "markdown",
      "metadata": {
        "id": "tSP6IiO5KEMK",
        "colab_type": "text"
      },
      "source": [
        "### Zadanie 2 \n",
        "Napisz program, który wyświetla wbudowaną pomoc dla funkcji: dodawanie wektorów, "
      ]
    },
    {
      "cell_type": "code",
      "metadata": {
        "id": "7-AhWluvKEMN",
        "colab_type": "code",
        "colab": {}
      },
      "source": [
        "import numpy as np\n",
        "np.lookfor('adding vectors')\n",
        "print()\n",
        "help(np.broadcast)\n"
      ],
      "execution_count": 0,
      "outputs": []
    },
    {
      "cell_type": "markdown",
      "metadata": {
        "id": "QL5XKUknKEMY",
        "colab_type": "text"
      },
      "source": [
        "### Zadanie 3\n",
        "Napisz programy, które testują wektory danych pod kątem obecności elementów zerowych lub nieskończonych (sprawdź różne warianty takich funkcji). \n",
        "Napisz program porównujące wektory i macierze (według wartości elementów)."
      ]
    },
    {
      "cell_type": "code",
      "metadata": {
        "id": "B6FOFvejKEMa",
        "colab_type": "code",
        "colab": {}
      },
      "source": [
        "import numpy as np\n",
        "vector1 =  [float(i) for i in input().split()]\n",
        "print(\"Zero elements\")\n",
        "print (\"Orginal vector: \", vector1) \n",
        "print()\n",
        "print(\"Using flatnonzero()\")\n",
        "print (\"Index of non zero elements :\\n\", np.flatnonzero(vector1) )\n",
        "print()\n",
        "print(\"using count_nonzero()\")\n",
        "print(\"number of non zero elements :\\n\", np.count_nonzero(vector1))\n",
        "print()\n",
        "print(\"using all()\")\n",
        "print(\"check if every value in vector is zero : \\n\",np.all(vector1==0))\n",
        "print()\n",
        "print(\"using any()\")\n",
        "print(\"check if there is any non zero value in vector :\\n\",np.any(vector1))\n",
        "print(\"---------------------------------------------\")\n",
        "print()\n",
        "print(\"Infinite elements\")\n",
        "print()\n",
        "\n",
        "vector2 = [float(i) for i in input().split()]\n",
        "print(\"orginal vector2: \\n\", vector2)\n",
        "print(\"\\nUsing np.isfinite()\")\n",
        "print(\"Is Finite : \\n\", np.isfinite(vector2))\n",
        "print(\"\\nUsing np.asarray_chkfinite()\")\n",
        "print(\"If there are infinite values in vector the error will occur \\n\")\n",
        "print(np.asarray_chkfinite(vector2))\n"
      ],
      "execution_count": 0,
      "outputs": []
    },
    {
      "cell_type": "code",
      "metadata": {
        "id": "pa0ZcF5a2Jb1",
        "colab_type": "code",
        "colab": {}
      },
      "source": [
        "#napisz program porównujące wektory\n",
        "import numpy as np\n",
        "print(\"first vector\")\n",
        "vector1 = [float(i) for i in input().split()]\n",
        "print(vector1)\n",
        "print(\"second vector\")\n",
        "vector2 = [float(i) for i in input().split()]\n",
        "print(vector2)\n",
        "print(\"Are the vectors equal?:\")\n",
        "np.array_equal(vector1, vector2)\n"
      ],
      "execution_count": 0,
      "outputs": []
    },
    {
      "cell_type": "code",
      "metadata": {
        "id": "Hdea-i1tBGc7",
        "colab_type": "code",
        "colab": {}
      },
      "source": [
        "# i macierze\n",
        "import numpy as np\n",
        "print(\"First matrix\")\n",
        "R = int(input(\"Enter the number of rows:\")) \n",
        "C = int(input(\"Enter the number of columns:\")) \n",
        "print(\"Enter values\") \n",
        "values = list(map(float, input().split())) \n",
        "matrix1 = np.array(values).reshape(R, C) \n",
        "print(matrix1) \n",
        "print(\"First matrix\")\n",
        "R1 = int(input(\"Enter the number of rows:\")) \n",
        "C1 = int(input(\"Enter the number of columns:\")) \n",
        "print(\"Enter values\") \n",
        "values = list(map(float, input().split())) \n",
        "matrix2 = np.array(values).reshape(R, C) \n",
        "print(matrix2)\n",
        "print(\"Are the matrixes equal?:\")\n",
        "np.array_equal(vector1, vector2)"
      ],
      "execution_count": 0,
      "outputs": []
    },
    {
      "cell_type": "markdown",
      "metadata": {
        "id": "b-vMxDJdKEMj",
        "colab_type": "text"
      },
      "source": [
        "### Zadanie 4 \n",
        "Napisz program, który wylicza ile danych w bajtach zajmuje wektor lub macierz"
      ]
    },
    {
      "cell_type": "code",
      "metadata": {
        "id": "HUPPyAGXKEMm",
        "colab_type": "code",
        "colab": {}
      },
      "source": [
        "import numpy as np\n",
        "print(\"matrix\")\n",
        "R = int(input(\"Enter the number of rows:\")) \n",
        "C = int(input(\"Enter the number of columns:\")) \n",
        "print(\"Enter values\") \n",
        "values = list(map(float, input().split())) \n",
        "matrix = np.array(values).reshape(R, C) \n",
        "print(matrix) \n",
        "print(bytearray(matrix))\n",
        "print(len(bytearray(matrix)))\n",
        "print()\n",
        "print(\"vector\")\n",
        "vector = [int(i) for i in input().split()]\n",
        "print(vector)\n",
        "print(bytearray(vector))\n",
        "print(len(bytearray(vector)))"
      ],
      "execution_count": 0,
      "outputs": []
    },
    {
      "cell_type": "markdown",
      "metadata": {
        "id": "Sv8SQIQhKEMv",
        "colab_type": "text"
      },
      "source": [
        "### Zadanie 5\n",
        "Napisz kilka programów, które demonstrują jak można w numpy tworzyć wektory i macierze wypełnione różnymi danymi lub mającymi pewną szczególną postać, np. , danymi losowymi, danymi z podanego zakresy, macierze identyczności, ... "
      ]
    },
    {
      "cell_type": "code",
      "metadata": {
        "id": "tUS5f0dkKEMx",
        "colab_type": "code",
        "colab": {}
      },
      "source": [
        "import numpy as np\n",
        "\n",
        "print(np.arange(20))\n",
        "print()\n",
        "\n",
        "print( np.zeros((4,4)))\n",
        "print()\n",
        "print(np.empty((2,3)))\n",
        "print()\n",
        "print(np.full((4,2), 3))\n",
        "print()\n",
        "print(np.identity(4)) \n",
        "print()\n",
        "print(np.linspace(0, 10, num=10)) \n",
        "print()\n",
        "print(np.indices((4,4))) \n",
        "print()\n",
        "np.random.seed(0)\n",
        "print(np.random.randint(10, size=6))"
      ],
      "execution_count": 0,
      "outputs": []
    },
    {
      "cell_type": "markdown",
      "metadata": {
        "id": "wN62-JSBKEM5",
        "colab_type": "text"
      },
      "source": [
        "### Zadania 6\n",
        "Napisz programy wykonujący podstawowe operacje algebry: dodawanie wektórów, mnożenie wektorów, mnożenia macierzy. Najpierw napisz je w wersji szkolnej, nie zastanawiając się nad jakąkolwiek optymalizacją. Następnie spróbuj zmienić organizację obliczeń tak by uzyskać poprawę wydajności. Na koniec porównaj swoje metody do dedykowanych funkcji z bibliotek NumPy i SciPy. \n"
      ]
    },
    {
      "cell_type": "code",
      "metadata": {
        "id": "O9fNZXtCKEM8",
        "colab_type": "code",
        "colab": {}
      },
      "source": [
        "import numpy as np\n",
        "import time           #do mierzenia czasu działania funkcji\n",
        "\n",
        "def addvectors(vector1, vector2):\n",
        "  if len(vector1) != len(vector2):\n",
        "    return\n",
        "  vector3 = np.empty(len(vector2))\n",
        "  for i in range (0, len(vector2)):\n",
        "    vector3[i] = vector2[i] + vector1[i]\n",
        "  return vector3\n",
        "\n",
        "def crossproduct(vector1, vector2):\n",
        "  vector3 = np.empty(len(vector1))\n",
        "  vector3[0] = vector1[1] * vector2[2] - vector1[2] * vector2[1]; \n",
        "  vector3[1] = vector1[2] * vector2[0] - vector1[0] * vector2[2]; \n",
        "  vector3[2] = vector1[0] * vector2[1] - vector1[1] * vector2[0]; \n",
        "  return vector3;\n",
        "\n",
        "def multiplymatrix(matrix1, matrix2):\n",
        "  if(matrix1.shape[1] != matrix2.shape[0]):\n",
        "    print(\"niepoprawny rozmiar\")\n",
        "    return\n",
        "  matrix3 = np.full((matrix1.shape[0], matrix2.shape[1]), 0)\n",
        "  for i in range (0,  matrix1.shape[0]):\n",
        "    for j in range (0, matrix2.shape[1] ):\n",
        "       for k in range (0,matrix1.shape[1]):\n",
        "         matrix3[i][j] += matrix1[i][k] * matrix2[k][j] \n",
        "  return matrix3\n",
        "\n",
        "print(\"multiplying matrix \\n\")\n",
        "print(\"First matrix\")\n",
        "R = int(input(\"Enter the number of rows:\")) \n",
        "C = int(input(\"Enter the number of columns:\")) \n",
        "print(\"Enter values\") \n",
        "values = list(map(float, input().split())) \n",
        "matrix1 = np.array(values).reshape(R, C) \n",
        "print(matrix1) \n",
        "print(\"Second matrix\")\n",
        "R = int(input(\"Enter the number of rows:\")) \n",
        "C = int(input(\"Enter the number of columns:\")) \n",
        "print(\"Enter values\") \n",
        "values = list(map(float, input().split())) \n",
        "matrix2 = np.array(values).reshape(R, C) \n",
        "print(matrix2)\n",
        "start = time.time()\n",
        "print(multiplymatrix(matrix1, matrix2))\n",
        "end = time.time()\n",
        "print(\"My programm performance: \",end - start)\n",
        "print()\n",
        "start = time.time()\n",
        "print(np.matmul(matrix1, matrix2))\n",
        "end = time.time()\n",
        "print(\"Function performance: \",end - start)\n",
        "print(\"\\n -------------------------------------------------------------------\\n\")\n",
        "print(\"vector1\")\n",
        "vector1 = [int(i) for i in input().split()]\n",
        "print(vector1)\n",
        "print(\"vector2\")\n",
        "vector2 = [int(i) for i in input().split()]\n",
        "print(vector2)\n",
        "print(\"adding vectors: \")\n",
        "start = time.time()\n",
        "print(addvectors(vector1, vector2))\n",
        "end = time.time()\n",
        "print(\"My programm performance: \",end - start)\n",
        "print()\n",
        "start = time.time()\n",
        "print(np.add(vector1, vector2))\n",
        "end = time.time()\n",
        "print(\"Function performance: \",end - start)\n",
        "print(\"\\n\\n\")\n",
        "print(\"cross product: \")\n",
        "vector1 = [8, 8, 9]\n",
        "vector2 = [1, 5, 5]\n",
        "print(vector1)\n",
        "print(vector2)\n",
        "start = time.time()\n",
        "print(crossproduct(vector1, vector2))\n",
        "end = time.time()\n",
        "print(\"My programm performance: \",end - start)\n",
        "print()\n",
        "start = time.time()\n",
        "print(np.cross(vector1, vector2))\n",
        "end = time.time()\n",
        "print(\"Function performance: \",end - start)\n"
      ],
      "execution_count": 0,
      "outputs": []
    },
    {
      "cell_type": "code",
      "metadata": {
        "id": "xvdVl-zw1ocA",
        "colab_type": "code",
        "colab": {}
      },
      "source": [
        ""
      ],
      "execution_count": 0,
      "outputs": []
    }
  ]
}