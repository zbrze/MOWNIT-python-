{
  "nbformat": 4,
  "nbformat_minor": 0,
  "metadata": {
    "kernelspec": {
      "display_name": "Python 3",
      "language": "python",
      "name": "python3"
    },
    "language_info": {
      "codemirror_mode": {
        "name": "ipython",
        "version": 3
      },
      "file_extension": ".py",
      "mimetype": "text/x-python",
      "name": "python",
      "nbconvert_exporter": "python",
      "pygments_lexer": "ipython3",
      "version": "3.7.5"
    },
    "colab": {
      "name": "MOWNIT-lab-2-student.ipynb",
      "provenance": [],
      "collapsed_sections": []
    }
  },
  "cells": [
    {
      "cell_type": "markdown",
      "metadata": {
        "id": "YNVH4uFSKELz",
        "colab_type": "text"
      },
      "source": [
        "## Algebra liniowa - biblioteki numeryczne \n",
        "W środowisku języka Python dostępne są dwie biblioteki numeryczne numpy i scipy. Dokumentacja: https://numpy.org/doc/, https://docs.scipy.org/doc/. Znajdź informacje wyjaśniające różnice między tymi bibliotekami. \n",
        "\n",
        "### Zadanie 1\n",
        "Napisz krótki program, który wyświetli informację o wersji biblioteki oraz jej konfiguracji. Zwróć uwagę z jakich bibliotek numerycznych korzystają biblioteki Python'a"
      ]
    },
    {
      "cell_type": "code",
      "metadata": {
        "id": "iW-xkRehKEL7",
        "colab_type": "code",
        "outputId": "36367513-9e44-4620-f0e4-3bb6366c38c5",
        "colab": {
          "base_uri": "https://localhost:8080/",
          "height": 527
        }
      },
      "source": [
        "import numpy as np\n",
        "print(\"wersja biblioteki:\", np.__version__)\n",
        "print()\n",
        "print()\n",
        "print(np.show_config())\n"
      ],
      "execution_count": 0,
      "outputs": [
        {
          "output_type": "stream",
          "text": [
            "wersja biblioteki: 1.18.2\n",
            "\n",
            "\n",
            "blas_mkl_info:\n",
            "  NOT AVAILABLE\n",
            "blis_info:\n",
            "  NOT AVAILABLE\n",
            "openblas_info:\n",
            "    libraries = ['openblas', 'openblas']\n",
            "    library_dirs = ['/usr/local/lib']\n",
            "    language = c\n",
            "    define_macros = [('HAVE_CBLAS', None)]\n",
            "blas_opt_info:\n",
            "    libraries = ['openblas', 'openblas']\n",
            "    library_dirs = ['/usr/local/lib']\n",
            "    language = c\n",
            "    define_macros = [('HAVE_CBLAS', None)]\n",
            "lapack_mkl_info:\n",
            "  NOT AVAILABLE\n",
            "openblas_lapack_info:\n",
            "    libraries = ['openblas', 'openblas']\n",
            "    library_dirs = ['/usr/local/lib']\n",
            "    language = c\n",
            "    define_macros = [('HAVE_CBLAS', None)]\n",
            "lapack_opt_info:\n",
            "    libraries = ['openblas', 'openblas']\n",
            "    library_dirs = ['/usr/local/lib']\n",
            "    language = c\n",
            "    define_macros = [('HAVE_CBLAS', None)]\n",
            "None\n"
          ],
          "name": "stdout"
        }
      ]
    },
    {
      "cell_type": "code",
      "metadata": {
        "id": "k4RHPRCUKEMC",
        "colab_type": "code",
        "outputId": "10e6b430-08f4-4d79-8384-a7d350e220ae",
        "colab": {
          "base_uri": "https://localhost:8080/",
          "height": 527
        }
      },
      "source": [
        "import scipy as scp\n",
        "print(\"wersja biblioteki:\",scp.__version__)\n",
        "print()\n",
        "print()\n",
        "print(scp.show_config())"
      ],
      "execution_count": 0,
      "outputs": [
        {
          "output_type": "stream",
          "text": [
            "wersja biblioteki: 1.4.1\n",
            "\n",
            "\n",
            "lapack_mkl_info:\n",
            "  NOT AVAILABLE\n",
            "openblas_lapack_info:\n",
            "    libraries = ['openblas', 'openblas']\n",
            "    library_dirs = ['/usr/local/lib']\n",
            "    language = c\n",
            "    define_macros = [('HAVE_CBLAS', None)]\n",
            "lapack_opt_info:\n",
            "    libraries = ['openblas', 'openblas']\n",
            "    library_dirs = ['/usr/local/lib']\n",
            "    language = c\n",
            "    define_macros = [('HAVE_CBLAS', None)]\n",
            "blas_mkl_info:\n",
            "  NOT AVAILABLE\n",
            "blis_info:\n",
            "  NOT AVAILABLE\n",
            "openblas_info:\n",
            "    libraries = ['openblas', 'openblas']\n",
            "    library_dirs = ['/usr/local/lib']\n",
            "    language = c\n",
            "    define_macros = [('HAVE_CBLAS', None)]\n",
            "blas_opt_info:\n",
            "    libraries = ['openblas', 'openblas']\n",
            "    library_dirs = ['/usr/local/lib']\n",
            "    language = c\n",
            "    define_macros = [('HAVE_CBLAS', None)]\n",
            "None\n"
          ],
          "name": "stdout"
        }
      ]
    },
    {
      "cell_type": "markdown",
      "metadata": {
        "id": "tSP6IiO5KEMK",
        "colab_type": "text"
      },
      "source": [
        "### Zadanie 2 \n",
        "Napisz program, który wyświetla wbudowaną pomoc dla funkcji: dodawanie wektorów, "
      ]
    },
    {
      "cell_type": "code",
      "metadata": {
        "id": "7-AhWluvKEMN",
        "colab_type": "code",
        "outputId": "22f4f817-e3fd-4ec3-a90b-ce74347fcc6e",
        "colab": {
          "base_uri": "https://localhost:8080/",
          "height": 3162
        }
      },
      "source": [
        "import numpy as np\n",
        "np.lookfor('adding vectors')\n",
        "print()\n",
        "help(np.broadcast)\n"
      ],
      "execution_count": 0,
      "outputs": [
        {
          "output_type": "stream",
          "text": [
            "Search results for 'adding vectors'\n",
            "-----------------------------------\n",
            "numpy.broadcast\n",
            "    Produce an object that mimics broadcasting.\n",
            "\n",
            "Help on class broadcast in module numpy:\n",
            "\n",
            "class broadcast(builtins.object)\n",
            " |  Produce an object that mimics broadcasting.\n",
            " |  \n",
            " |  Parameters\n",
            " |  ----------\n",
            " |  in1, in2, ... : array_like\n",
            " |      Input parameters.\n",
            " |  \n",
            " |  Returns\n",
            " |  -------\n",
            " |  b : broadcast object\n",
            " |      Broadcast the input parameters against one another, and\n",
            " |      return an object that encapsulates the result.\n",
            " |      Amongst others, it has ``shape`` and ``nd`` properties, and\n",
            " |      may be used as an iterator.\n",
            " |  \n",
            " |  See Also\n",
            " |  --------\n",
            " |  broadcast_arrays\n",
            " |  broadcast_to\n",
            " |  \n",
            " |  Examples\n",
            " |  --------\n",
            " |  \n",
            " |  Manually adding two vectors, using broadcasting:\n",
            " |  \n",
            " |  >>> x = np.array([[1], [2], [3]])\n",
            " |  >>> y = np.array([4, 5, 6])\n",
            " |  >>> b = np.broadcast(x, y)\n",
            " |  \n",
            " |  >>> out = np.empty(b.shape)\n",
            " |  >>> out.flat = [u+v for (u,v) in b]\n",
            " |  >>> out\n",
            " |  array([[5.,  6.,  7.],\n",
            " |         [6.,  7.,  8.],\n",
            " |         [7.,  8.,  9.]])\n",
            " |  \n",
            " |  Compare against built-in broadcasting:\n",
            " |  \n",
            " |  >>> x + y\n",
            " |  array([[5, 6, 7],\n",
            " |         [6, 7, 8],\n",
            " |         [7, 8, 9]])\n",
            " |  \n",
            " |  Methods defined here:\n",
            " |  \n",
            " |  __iter__(self, /)\n",
            " |      Implement iter(self).\n",
            " |  \n",
            " |  __new__(*args, **kwargs) from builtins.type\n",
            " |      Create and return a new object.  See help(type) for accurate signature.\n",
            " |  \n",
            " |  __next__(self, /)\n",
            " |      Implement next(self).\n",
            " |  \n",
            " |  reset(...)\n",
            " |      reset()\n",
            " |      \n",
            " |      Reset the broadcasted result's iterator(s).\n",
            " |      \n",
            " |      Parameters\n",
            " |      ----------\n",
            " |      None\n",
            " |      \n",
            " |      Returns\n",
            " |      -------\n",
            " |      None\n",
            " |      \n",
            " |      Examples\n",
            " |      --------\n",
            " |      >>> x = np.array([1, 2, 3])\n",
            " |      >>> y = np.array([[4], [5], [6]])\n",
            " |      >>> b = np.broadcast(x, y)\n",
            " |      >>> b.index\n",
            " |      0\n",
            " |      >>> next(b), next(b), next(b)\n",
            " |      ((1, 4), (2, 4), (3, 4))\n",
            " |      >>> b.index\n",
            " |      3\n",
            " |      >>> b.reset()\n",
            " |      >>> b.index\n",
            " |      0\n",
            " |  \n",
            " |  ----------------------------------------------------------------------\n",
            " |  Data descriptors defined here:\n",
            " |  \n",
            " |  index\n",
            " |      current index in broadcasted result\n",
            " |      \n",
            " |      Examples\n",
            " |      --------\n",
            " |      >>> x = np.array([[1], [2], [3]])\n",
            " |      >>> y = np.array([4, 5, 6])\n",
            " |      >>> b = np.broadcast(x, y)\n",
            " |      >>> b.index\n",
            " |      0\n",
            " |      >>> next(b), next(b), next(b)\n",
            " |      ((1, 4), (1, 5), (1, 6))\n",
            " |      >>> b.index\n",
            " |      3\n",
            " |  \n",
            " |  iters\n",
            " |      tuple of iterators along ``self``'s \"components.\"\n",
            " |      \n",
            " |      Returns a tuple of `numpy.flatiter` objects, one for each \"component\"\n",
            " |      of ``self``.\n",
            " |      \n",
            " |      See Also\n",
            " |      --------\n",
            " |      numpy.flatiter\n",
            " |      \n",
            " |      Examples\n",
            " |      --------\n",
            " |      >>> x = np.array([1, 2, 3])\n",
            " |      >>> y = np.array([[4], [5], [6]])\n",
            " |      >>> b = np.broadcast(x, y)\n",
            " |      >>> row, col = b.iters\n",
            " |      >>> next(row), next(col)\n",
            " |      (1, 4)\n",
            " |  \n",
            " |  nd\n",
            " |      Number of dimensions of broadcasted result. For code intended for NumPy\n",
            " |      1.12.0 and later the more consistent `ndim` is preferred.\n",
            " |      \n",
            " |      Examples\n",
            " |      --------\n",
            " |      >>> x = np.array([1, 2, 3])\n",
            " |      >>> y = np.array([[4], [5], [6]])\n",
            " |      >>> b = np.broadcast(x, y)\n",
            " |      >>> b.nd\n",
            " |      2\n",
            " |  \n",
            " |  ndim\n",
            " |      Number of dimensions of broadcasted result. Alias for `nd`.\n",
            " |      \n",
            " |      .. versionadded:: 1.12.0\n",
            " |      \n",
            " |      Examples\n",
            " |      --------\n",
            " |      >>> x = np.array([1, 2, 3])\n",
            " |      >>> y = np.array([[4], [5], [6]])\n",
            " |      >>> b = np.broadcast(x, y)\n",
            " |      >>> b.ndim\n",
            " |      2\n",
            " |  \n",
            " |  numiter\n",
            " |      Number of iterators possessed by the broadcasted result.\n",
            " |      \n",
            " |      Examples\n",
            " |      --------\n",
            " |      >>> x = np.array([1, 2, 3])\n",
            " |      >>> y = np.array([[4], [5], [6]])\n",
            " |      >>> b = np.broadcast(x, y)\n",
            " |      >>> b.numiter\n",
            " |      2\n",
            " |  \n",
            " |  shape\n",
            " |      Shape of broadcasted result.\n",
            " |      \n",
            " |      Examples\n",
            " |      --------\n",
            " |      >>> x = np.array([1, 2, 3])\n",
            " |      >>> y = np.array([[4], [5], [6]])\n",
            " |      >>> b = np.broadcast(x, y)\n",
            " |      >>> b.shape\n",
            " |      (3, 3)\n",
            " |  \n",
            " |  size\n",
            " |      Total size of broadcasted result.\n",
            " |      \n",
            " |      Examples\n",
            " |      --------\n",
            " |      >>> x = np.array([1, 2, 3])\n",
            " |      >>> y = np.array([[4], [5], [6]])\n",
            " |      >>> b = np.broadcast(x, y)\n",
            " |      >>> b.size\n",
            " |      9\n",
            "\n"
          ],
          "name": "stdout"
        }
      ]
    },
    {
      "cell_type": "markdown",
      "metadata": {
        "id": "QL5XKUknKEMY",
        "colab_type": "text"
      },
      "source": [
        "### Zadanie 3\n",
        "Napisz programy, które testują wektory danych pod kątem obecności elementów zerowych lub nieskończonych (sprawdź różne warianty takich funkcji). \n",
        "Napisz program porównujące wektory i macierze (według wartości elementów)."
      ]
    },
    {
      "cell_type": "code",
      "metadata": {
        "id": "B6FOFvejKEMa",
        "colab_type": "code",
        "outputId": "10303152-1c4d-4b0f-ec15-d9ae2ad0d1e6",
        "colab": {
          "base_uri": "https://localhost:8080/",
          "height": 877
        }
      },
      "source": [
        "import numpy as np\n",
        "vector1 =  [float(i) for i in input().split()]\n",
        "print(\"Zero elements\")\n",
        "print (\"Orginal vector: \", vector1) \n",
        "print()\n",
        "print(\"Using flatnonzero()\")\n",
        "print (\"Index of non zero elements :\\n\", np.flatnonzero(vector1) )\n",
        "print()\n",
        "print(\"using count_nonzero()\")\n",
        "print(\"number of non zero elements :\\n\", np.count_nonzero(vector1))\n",
        "print()\n",
        "print(\"using all()\")\n",
        "print(\"check if every value in vector is zero : \\n\",np.all(vector1==0))\n",
        "print()\n",
        "print(\"using any()\")\n",
        "print(\"check if there is any non zero value in vector :\\n\",np.any(vector1))\n",
        "print(\"---------------------------------------------\")\n",
        "print()\n",
        "print(\"Infinite elements\")\n",
        "print()\n",
        "\n",
        "vector2 = [np.inf, 8, 0, 9, np.inf]\n",
        "print(\"orginal vector2: \\n\", vector2)\n",
        "print(\"\\nUsing np.isfinite()\")\n",
        "print(\"Is Finite : \\n\", np.isfinite(vector2))\n",
        "print(\"\\nUsing np.asarray_chkfinite()\")\n",
        "print(\"If there are infinite values in vector the error will occur \\n\")\n",
        "print(np.asarray_chkfinite(vector2))\n"
      ],
      "execution_count": 0,
      "outputs": [
        {
          "output_type": "stream",
          "text": [
            "1 2 2 0 9 8 0 0\n",
            "Zero elements\n",
            "Orginal vector:  [1.0, 2.0, 2.0, 0.0, 9.0, 8.0, 0.0, 0.0]\n",
            "\n",
            "Using flatnonzero()\n",
            "Index of non zero elements :\n",
            " [0 1 2 4 5]\n",
            "\n",
            "using count_nonzero()\n",
            "number of non zero elements :\n",
            " 5\n",
            "\n",
            "using all()\n",
            "check if every value in vector is zero : \n",
            " False\n",
            "\n",
            "using any()\n",
            "check if there is any non zero value in vector :\n",
            " True\n",
            "---------------------------------------------\n",
            "\n",
            "Infinite elements\n",
            "\n",
            "orginal vector2: \n",
            " [inf, 8, 0, 9, inf]\n",
            "\n",
            "Using np.isfinite()\n",
            "Is Finite : \n",
            " [False  True  True  True False]\n",
            "\n",
            "Using np.asarray_chkfinite()\n",
            "If there are infinite values in vector the error will occur \n",
            "\n"
          ],
          "name": "stdout"
        },
        {
          "output_type": "error",
          "ename": "ValueError",
          "evalue": "ignored",
          "traceback": [
            "\u001b[0;31m---------------------------------------------------------------------------\u001b[0m",
            "\u001b[0;31mValueError\u001b[0m                                Traceback (most recent call last)",
            "\u001b[0;32m<ipython-input-16-b4de84fed5f9>\u001b[0m in \u001b[0;36m<module>\u001b[0;34m()\u001b[0m\n\u001b[1;32m     26\u001b[0m \u001b[0mprint\u001b[0m\u001b[0;34m(\u001b[0m\u001b[0;34m\"\\nUsing np.asarray_chkfinite()\"\u001b[0m\u001b[0;34m)\u001b[0m\u001b[0;34m\u001b[0m\u001b[0;34m\u001b[0m\u001b[0m\n\u001b[1;32m     27\u001b[0m \u001b[0mprint\u001b[0m\u001b[0;34m(\u001b[0m\u001b[0;34m\"If there are infinite values in vector the error will occur \\n\"\u001b[0m\u001b[0;34m)\u001b[0m\u001b[0;34m\u001b[0m\u001b[0;34m\u001b[0m\u001b[0m\n\u001b[0;32m---> 28\u001b[0;31m \u001b[0mprint\u001b[0m\u001b[0;34m(\u001b[0m\u001b[0mnp\u001b[0m\u001b[0;34m.\u001b[0m\u001b[0masarray_chkfinite\u001b[0m\u001b[0;34m(\u001b[0m\u001b[0mvector2\u001b[0m\u001b[0;34m)\u001b[0m\u001b[0;34m)\u001b[0m\u001b[0;34m\u001b[0m\u001b[0;34m\u001b[0m\u001b[0m\n\u001b[0m",
            "\u001b[0;32m/usr/local/lib/python3.6/dist-packages/numpy/lib/function_base.py\u001b[0m in \u001b[0;36masarray_chkfinite\u001b[0;34m(a, dtype, order)\u001b[0m\n\u001b[1;32m    497\u001b[0m     \u001b[0;32mif\u001b[0m \u001b[0ma\u001b[0m\u001b[0;34m.\u001b[0m\u001b[0mdtype\u001b[0m\u001b[0;34m.\u001b[0m\u001b[0mchar\u001b[0m \u001b[0;32min\u001b[0m \u001b[0mtypecodes\u001b[0m\u001b[0;34m[\u001b[0m\u001b[0;34m'AllFloat'\u001b[0m\u001b[0;34m]\u001b[0m \u001b[0;32mand\u001b[0m \u001b[0;32mnot\u001b[0m \u001b[0mnp\u001b[0m\u001b[0;34m.\u001b[0m\u001b[0misfinite\u001b[0m\u001b[0;34m(\u001b[0m\u001b[0ma\u001b[0m\u001b[0;34m)\u001b[0m\u001b[0;34m.\u001b[0m\u001b[0mall\u001b[0m\u001b[0;34m(\u001b[0m\u001b[0;34m)\u001b[0m\u001b[0;34m:\u001b[0m\u001b[0;34m\u001b[0m\u001b[0;34m\u001b[0m\u001b[0m\n\u001b[1;32m    498\u001b[0m         raise ValueError(\n\u001b[0;32m--> 499\u001b[0;31m             \"array must not contain infs or NaNs\")\n\u001b[0m\u001b[1;32m    500\u001b[0m     \u001b[0;32mreturn\u001b[0m \u001b[0ma\u001b[0m\u001b[0;34m\u001b[0m\u001b[0;34m\u001b[0m\u001b[0m\n\u001b[1;32m    501\u001b[0m \u001b[0;34m\u001b[0m\u001b[0m\n",
            "\u001b[0;31mValueError\u001b[0m: array must not contain infs or NaNs"
          ]
        }
      ]
    },
    {
      "cell_type": "code",
      "metadata": {
        "id": "pa0ZcF5a2Jb1",
        "colab_type": "code",
        "outputId": "c390e03c-aa8c-4d69-d056-ca39657befd9",
        "colab": {
          "base_uri": "https://localhost:8080/",
          "height": 153
        }
      },
      "source": [
        "#napisz program porównujące wektory\n",
        "import numpy as np\n",
        "print(\"first vector\")\n",
        "vector1 = [float(i) for i in input().split()]\n",
        "print(vector1)\n",
        "print(\"second vector\")\n",
        "vector2 = [float(i) for i in input().split()]\n",
        "print(vector2)\n",
        "print(\"Are the vectors equal?:\")\n",
        "np.array_equal(vector1, vector2)\n"
      ],
      "execution_count": 0,
      "outputs": [
        {
          "output_type": "stream",
          "text": [
            "first vector\n",
            "1 1 2 4\n",
            "[1.0, 1.0, 2.0, 4.0]\n",
            "second vector\n",
            "2 2 1 2\n",
            "[2.0, 2.0, 1.0, 2.0]\n",
            "Are the vectors equal?:\n"
          ],
          "name": "stdout"
        },
        {
          "output_type": "execute_result",
          "data": {
            "text/plain": [
              "False"
            ]
          },
          "metadata": {
            "tags": []
          },
          "execution_count": 6
        }
      ]
    },
    {
      "cell_type": "code",
      "metadata": {
        "id": "Hdea-i1tBGc7",
        "colab_type": "code",
        "outputId": "e52c42ac-2d25-434b-a4b5-a6b9a56eaac1",
        "colab": {
          "base_uri": "https://localhost:8080/",
          "height": 289
        }
      },
      "source": [
        "# i macierze\n",
        "import numpy as np\n",
        "print(\"First matrix\")\n",
        "R = int(input(\"Enter the number of rows:\")) \n",
        "C = int(input(\"Enter the number of columns:\")) \n",
        "print(\"Enter values\") \n",
        "values = list(map(float, input().split())) \n",
        "matrix1 = np.array(values).reshape(R, C) \n",
        "print(matrix1) \n",
        "print(\"First matrix\")\n",
        "R1 = int(input(\"Enter the number of rows:\")) \n",
        "C1 = int(input(\"Enter the number of columns:\")) \n",
        "print(\"Enter values\") \n",
        "values = list(map(float, input().split())) \n",
        "matrix2 = np.array(values).reshape(R, C) \n",
        "print(matrix2)\n",
        "print(\"Are the matrixes equal?:\")\n",
        "np.array_equal(matrix1, matrix2)"
      ],
      "execution_count": 0,
      "outputs": [
        {
          "output_type": "stream",
          "text": [
            "First matrix\n",
            "Enter the number of rows:2\n",
            "Enter the number of columns:2\n",
            "Enter values\n",
            "2 2 2 2\n",
            "[[2. 2.]\n",
            " [2. 2.]]\n",
            "First matrix\n",
            "Enter the number of rows:2\n",
            "Enter the number of columns:2\n",
            "Enter values\n",
            "2 2 2 2\n",
            "[[2. 2.]\n",
            " [2. 2.]]\n",
            "Are the matrixes equal?:\n"
          ],
          "name": "stdout"
        },
        {
          "output_type": "execute_result",
          "data": {
            "text/plain": [
              "True"
            ]
          },
          "metadata": {
            "tags": []
          },
          "execution_count": 10
        }
      ]
    },
    {
      "cell_type": "markdown",
      "metadata": {
        "id": "b-vMxDJdKEMj",
        "colab_type": "text"
      },
      "source": [
        "### Zadanie 4 \n",
        "Napisz program, który wylicza ile danych w bajtach zajmuje wektor lub macierz"
      ]
    },
    {
      "cell_type": "code",
      "metadata": {
        "id": "HUPPyAGXKEMm",
        "colab_type": "code",
        "outputId": "adf9b39a-5ad4-4d6c-b4e8-5a4d6f8eaae1",
        "colab": {
          "base_uri": "https://localhost:8080/",
          "height": 289
        }
      },
      "source": [
        "import numpy as np\n",
        "print(\"matrix\")\n",
        "R = int(input(\"Enter the number of rows:\")) \n",
        "C = int(input(\"Enter the number of columns:\")) \n",
        "print(\"Enter values\") \n",
        "values = list(map(float, input().split())) \n",
        "matrix = np.array(values).reshape(R, C) \n",
        "print(matrix) \n",
        "print(bytearray(matrix))\n",
        "print(len(bytearray(matrix)))\n",
        "print()\n",
        "print(\"vector\")\n",
        "vector = [int(i) for i in input().split()]\n",
        "print(vector)\n",
        "print(bytearray(vector))\n",
        "print(len(bytearray(vector)))"
      ],
      "execution_count": 0,
      "outputs": [
        {
          "output_type": "stream",
          "text": [
            "matrix\n",
            "Enter the number of rows:3\n",
            "Enter the number of columns:2\n",
            "Enter values\n",
            "11 22 12 13 14 15\n",
            "[[11. 22.]\n",
            " [12. 13.]\n",
            " [14. 15.]]\n",
            "bytearray(b'\\x00\\x00\\x00\\x00\\x00\\x00&@\\x00\\x00\\x00\\x00\\x00\\x006@\\x00\\x00\\x00\\x00\\x00\\x00(@\\x00\\x00\\x00\\x00\\x00\\x00*@\\x00\\x00\\x00\\x00\\x00\\x00,@\\x00\\x00\\x00\\x00\\x00\\x00.@')\n",
            "48\n",
            "\n",
            "vector\n",
            "1 1 2 2\n",
            "[1, 1, 2, 2]\n",
            "bytearray(b'\\x01\\x01\\x02\\x02')\n",
            "4\n"
          ],
          "name": "stdout"
        }
      ]
    },
    {
      "cell_type": "markdown",
      "metadata": {
        "id": "Sv8SQIQhKEMv",
        "colab_type": "text"
      },
      "source": [
        "### Zadanie 5\n",
        "Napisz kilka programów, które demonstrują jak można w numpy tworzyć wektory i macierze wypełnione różnymi danymi lub mającymi pewną szczególną postać, np. , danymi losowymi, danymi z podanego zakresy, macierze identyczności, ... "
      ]
    },
    {
      "cell_type": "code",
      "metadata": {
        "id": "tUS5f0dkKEMx",
        "colab_type": "code",
        "outputId": "d38091af-a0f7-4beb-dd6a-26b5e16a45b3",
        "colab": {
          "base_uri": "https://localhost:8080/",
          "height": 595
        }
      },
      "source": [
        "import numpy as np\n",
        "\n",
        "print(np.arange(20))\n",
        "print()\n",
        "\n",
        "print( np.zeros((4,4)))\n",
        "print()\n",
        "print(np.empty((2,3)))\n",
        "print()\n",
        "print(np.full((4,2), 3))\n",
        "print()\n",
        "print(np.identity(4)) \n",
        "print()\n",
        "print(np.linspace(0, 10, num=10)) \n",
        "print()\n",
        "print(np.indices((4,4))) \n",
        "print()\n",
        "np.random.seed(0)\n",
        "print(np.random.randint(10, size=6))"
      ],
      "execution_count": 0,
      "outputs": [
        {
          "output_type": "stream",
          "text": [
            "[ 0  1  2  3  4  5  6  7  8  9 10 11 12 13 14 15 16 17 18 19]\n",
            "\n",
            "[[0. 0. 0. 0.]\n",
            " [0. 0. 0. 0.]\n",
            " [0. 0. 0. 0.]\n",
            " [0. 0. 0. 0.]]\n",
            "\n",
            "[[1. 2. 3.]\n",
            " [3. 2. 1.]]\n",
            "\n",
            "[[3 3]\n",
            " [3 3]\n",
            " [3 3]\n",
            " [3 3]]\n",
            "\n",
            "[[1. 0. 0. 0.]\n",
            " [0. 1. 0. 0.]\n",
            " [0. 0. 1. 0.]\n",
            " [0. 0. 0. 1.]]\n",
            "\n",
            "[ 0.          1.11111111  2.22222222  3.33333333  4.44444444  5.55555556\n",
            "  6.66666667  7.77777778  8.88888889 10.        ]\n",
            "\n",
            "[[[0 0 0 0]\n",
            "  [1 1 1 1]\n",
            "  [2 2 2 2]\n",
            "  [3 3 3 3]]\n",
            "\n",
            " [[0 1 2 3]\n",
            "  [0 1 2 3]\n",
            "  [0 1 2 3]\n",
            "  [0 1 2 3]]]\n",
            "\n",
            "[5 0 3 3 7 9]\n"
          ],
          "name": "stdout"
        }
      ]
    },
    {
      "cell_type": "markdown",
      "metadata": {
        "id": "wN62-JSBKEM5",
        "colab_type": "text"
      },
      "source": [
        "### Zadania 6\n",
        "Napisz programy wykonujący podstawowe operacje algebry: dodawanie wektórów, mnożenie wektorów, mnożenia macierzy. Najpierw napisz je w wersji szkolnej, nie zastanawiając się nad jakąkolwiek optymalizacją. Następnie spróbuj zmienić organizację obliczeń tak by uzyskać poprawę wydajności. Na koniec porównaj swoje metody do dedykowanych funkcji z bibliotek NumPy i SciPy. \n"
      ]
    },
    {
      "cell_type": "code",
      "metadata": {
        "id": "O9fNZXtCKEM8",
        "colab_type": "code",
        "outputId": "e7ab1940-e2e8-4e4a-b73b-eb64c50b5362",
        "colab": {
          "base_uri": "https://localhost:8080/",
          "height": 918
        }
      },
      "source": [
        "import numpy as np\n",
        "import time           #do mierzenia czasu działania funkcji\n",
        "\n",
        "def addvectors(vector1, vector2):\n",
        "  if len(vector1) != len(vector2):\n",
        "    return\n",
        "  vector3 = np.empty(len(vector2))\n",
        "  for i in range (0, len(vector2)):\n",
        "    vector3[i] = vector2[i] + vector1[i]\n",
        "  return vector3\n",
        "\n",
        "def crossproduct(vector1, vector2):\n",
        "  vector3 = np.empty(len(vector1))\n",
        "  vector3[0] = vector1[1] * vector2[2] - vector1[2] * vector2[1]; \n",
        "  vector3[1] = vector1[2] * vector2[0] - vector1[0] * vector2[2]; \n",
        "  vector3[2] = vector1[0] * vector2[1] - vector1[1] * vector2[0]; \n",
        "  return vector3;\n",
        "\n",
        "def multiplymatrix(matrix1, matrix2):\n",
        "  if(matrix1.shape[1] != matrix2.shape[0]):\n",
        "    print(\"niepoprawny rozmiar\")\n",
        "    return\n",
        "  matrix3 = np.full((matrix1.shape[0], matrix2.shape[1]), 0)\n",
        "  for i in range (0,  matrix1.shape[0]):\n",
        "    for j in range (0, matrix2.shape[1] ):\n",
        "       for k in range (0,matrix1.shape[1]):\n",
        "         matrix3[i][j] += matrix1[i][k] * matrix2[k][j] \n",
        "  return matrix3\n",
        "\n",
        "print(\"multiplying matrix \\n\")\n",
        "print(\"First matrix\")\n",
        "R = int(input(\"Enter the number of rows:\")) \n",
        "C = int(input(\"Enter the number of columns:\")) \n",
        "print(\"Enter values\") \n",
        "values = list(map(float, input().split())) \n",
        "matrix1 = np.array(values).reshape(R, C) \n",
        "print(matrix1) \n",
        "print(\"Second matrix\")\n",
        "R = int(input(\"Enter the number of rows:\")) \n",
        "C = int(input(\"Enter the number of columns:\")) \n",
        "print(\"Enter values\") \n",
        "values = list(map(float, input().split())) \n",
        "matrix2 = np.array(values).reshape(R, C) \n",
        "print(matrix2)\n",
        "start = time.time()\n",
        "print(multiplymatrix(matrix1, matrix2))\n",
        "end = time.time()\n",
        "print(\"My programm performance: \",end - start)\n",
        "print()\n",
        "start = time.time()\n",
        "print(np.matmul(matrix1, matrix2))\n",
        "end = time.time()\n",
        "print(\"Function performance: \",end - start)\n",
        "print(\"\\n -------------------------------------------------------------------\\n\")\n",
        "print(\"vector1\")\n",
        "vector1 = [int(i) for i in input().split()]\n",
        "print(vector1)\n",
        "print(\"vector2\")\n",
        "vector2 = [int(i) for i in input().split()]\n",
        "print(vector2)\n",
        "print(\"adding vectors: \")\n",
        "start = time.time()\n",
        "print(addvectors(vector1, vector2))\n",
        "end = time.time()\n",
        "print(\"My programm performance: \",end - start)\n",
        "print()\n",
        "start = time.time()\n",
        "print(np.add(vector1, vector2))\n",
        "end = time.time()\n",
        "print(\"Function performance: \",end - start)\n",
        "print(\"\\n\\n\")\n",
        "print(\"cross product: \")\n",
        "vector1 = [8, 8, 9]\n",
        "vector2 = [1, 5, 5]\n",
        "print(vector1)\n",
        "print(vector2)\n",
        "start = time.time()\n",
        "print(crossproduct(vector1, vector2))\n",
        "end = time.time()\n",
        "print(\"My programm performance: \",end - start)\n",
        "print()\n",
        "start = time.time()\n",
        "print(np.cross(vector1, vector2))\n",
        "end = time.time()\n",
        "print(\"Function performance: \",end - start)\n"
      ],
      "execution_count": 0,
      "outputs": [
        {
          "output_type": "stream",
          "text": [
            "multiplying matrix \n",
            "\n",
            "First matrix\n",
            "Enter the number of rows:3\n",
            "Enter the number of columns:3\n",
            "Enter values\n",
            "1 2 3 1 2 3 1 2 3\n",
            "[[1. 2. 3.]\n",
            " [1. 2. 3.]\n",
            " [1. 2. 3.]]\n",
            "Second matrix\n",
            "Enter the number of rows:3\n",
            "Enter the number of columns:3\n",
            "Enter values\n",
            "1 0 0 1 0 0 1 1 1\n",
            "[[1. 0. 0.]\n",
            " [1. 0. 0.]\n",
            " [1. 1. 1.]]\n",
            "[[6 3 3]\n",
            " [6 3 3]\n",
            " [6 3 3]]\n",
            "My programm performance:  0.00033593177795410156\n",
            "\n",
            "[[6. 3. 3.]\n",
            " [6. 3. 3.]\n",
            " [6. 3. 3.]]\n",
            "Function performance:  0.005074739456176758\n",
            "\n",
            " -------------------------------------------------------------------\n",
            "\n",
            "vector1\n",
            "1 2 2 3\n",
            "[1, 2, 2, 3]\n",
            "vector2\n",
            "1 2 5 16\n",
            "[1, 2, 5, 16]\n",
            "adding vectors: \n",
            "[ 2.  4.  7. 19.]\n",
            "My programm performance:  0.00039839744567871094\n",
            "\n",
            "[ 2  4  7 19]\n",
            "Function performance:  0.00016546249389648438\n",
            "\n",
            "\n",
            "\n",
            "cross product: \n",
            "[8, 8, 9]\n",
            "[1, 5, 5]\n",
            "[ -5. -31.  32.]\n",
            "My programm performance:  0.00024318695068359375\n",
            "\n",
            "[ -5 -31  32]\n",
            "Function performance:  0.0011680126190185547\n"
          ],
          "name": "stdout"
        }
      ]
    },
    {
      "cell_type": "code",
      "metadata": {
        "id": "xvdVl-zw1ocA",
        "colab_type": "code",
        "colab": {}
      },
      "source": [
        ""
      ],
      "execution_count": 0,
      "outputs": []
    }
  ]
}
