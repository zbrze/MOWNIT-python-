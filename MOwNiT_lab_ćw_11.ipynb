{
  "nbformat": 4,
  "nbformat_minor": 0,
  "metadata": {
    "kernelspec": {
      "display_name": "Python 3",
      "language": "python",
      "name": "python3"
    },
    "language_info": {
      "codemirror_mode": {
        "name": "ipython",
        "version": 3
      },
      "file_extension": ".py",
      "mimetype": "text/x-python",
      "name": "python",
      "nbconvert_exporter": "python",
      "pygments_lexer": "ipython3",
      "version": "3.8.2"
    },
    "colab": {
      "name": "MOwNiT - lab. ćw. 11.ipynb",
      "provenance": [],
      "collapsed_sections": [],
      "include_colab_link": true
    }
  },
  "cells": [
    {
      "cell_type": "markdown",
      "metadata": {
        "id": "view-in-github",
        "colab_type": "text"
      },
      "source": [
        "<a href=\"https://colab.research.google.com/github/zbrze/MOWNIT-python-/blob/master/MOwNiT_lab_%C4%87w_11.ipynb\" target=\"_parent\"><img src=\"https://colab.research.google.com/assets/colab-badge.svg\" alt=\"Open In Colab\"/></a>"
      ]
    },
    {
      "cell_type": "markdown",
      "metadata": {
        "id": "y5olCahG2EVA",
        "colab_type": "text"
      },
      "source": [
        "## Rozwiązywanie układów równań liniowych metodami interacyjnymi \n",
        "\n",
        "### Zadanie 1\n",
        "Zaimplementuj metodę Jacobiego. Podaj warunki jej stosowalności. Wygeneruj co najmniej trzy odpowiednie macierze o różnych wielkościach i sprawdź działanie swojej metody. Zwróć uwagę na zbieżność tej metody. \n",
        "\n",
        "### Zadanie 2\n",
        "Zaimplementuj metodę Gaussa-Seidla i kolejnych nadrelaksacji (successive over-relaxation). Podaj warunki stosowalności tych metod. Przeprowadź badanie działania swoich implementacji analogicznie jak w poprzednim zadaniu. Porównaj zbieżność wszystkich trzech metod. \n",
        "\n"
      ]
    },
    {
      "cell_type": "markdown",
      "metadata": {
        "id": "mPn_VSSa2Ili",
        "colab_type": "text"
      },
      "source": [
        "# Zadanie 1\n",
        "Zaimplementuj metodę Jacobiego. Podaj warunki jej stosowalności. Wygeneruj co najmniej trzy odpowiednie macierze o różnych wielkościach i sprawdź działanie swojej metody. Zwróć uwagę na zbieżność tej metody."
      ]
    },
    {
      "cell_type": "markdown",
      "metadata": {
        "id": "GoWCugsTUf53",
        "colab_type": "text"
      },
      "source": [
        "### **Twierdzenie o zbieżności metody Jacobiego**\n",
        "\n",
        "W metodzie Jacobiego warunek dostateczny zbieżności, |B|<1, jest spełniony np. wtedy, gdy macierz A ma dominującą przekątną,\n",
        "\n",
        "\n",
        "\n",
        "\n",
        "![alt text](http://wazniak.mimuw.edu.pl/images/math/a/5/b/a5baccabbc68a36366a3cfdb604c2c44.png)"
      ]
    },
    {
      "cell_type": "markdown",
      "metadata": {
        "id": "DKbseEjA4rCd",
        "colab_type": "text"
      },
      "source": [
        "macierz D musi być odwracalna - na przekątej macierzy nie mogą znajdować się zera"
      ]
    },
    {
      "cell_type": "code",
      "metadata": {
        "id": "ft8NvPVV2EVj",
        "colab_type": "code",
        "colab": {}
      },
      "source": [
        " import numpy as np\n",
        "\n",
        " def Jacobi_method(A, B, max_iter, epsilon):\n",
        "   D = np.diag(np.diag(A))\n",
        "   LU = A - D\n",
        "   X = np.zeros_like(B)\n",
        "   try:\n",
        "     D_invert = np.linalg.inv(D)\n",
        "   except: \n",
        "     print(\"Matrix is not invertible\")\n",
        "     return\n",
        "   for i in range(max_iter):\n",
        "     X_new = np.zeros_like(x)\n",
        "     X_new = np.dot(D_invert,B) - np.dot(D_invert,np.dot(LU, X))\n",
        "     if np.linalg.norm(X_new - X) < epsilon:\n",
        "            return X_new\n",
        "     X = X_new\n",
        "   return X\n"
      ],
      "execution_count": 0,
      "outputs": []
    },
    {
      "cell_type": "code",
      "metadata": {
        "id": "SdhUt_4g9fC4",
        "colab_type": "code",
        "colab": {}
      },
      "source": [
        "def relative_error(val, real_val):\n",
        "  return abs(val - real_val)/abs(real_val)"
      ],
      "execution_count": 0,
      "outputs": []
    },
    {
      "cell_type": "code",
      "metadata": {
        "id": "83Yr-IYu7ImC",
        "colab_type": "code",
        "colab": {
          "base_uri": "https://localhost:8080/",
          "height": 497
        },
        "outputId": "176136fe-b872-474b-b6f5-ed4f626190f7"
      },
      "source": [
        "import statistics as s\n",
        "import copy \n",
        "matrix1_4 = np.array([[11.0, -2.3, 0.5, 11], [1.0, 42.0, 4.5, 0.6], [-2.0, 7.0, 20.0, 0.3], [-5.0, 1.0, 9.0, 26]]).reshape(4,4)\n",
        "matrix2_4 = np.array([6.0, 6.0, 2.0, 20.0])\n",
        "print(\"A: \\n\",matrix1_4)\n",
        "print(\"B: \\n\",matrix2_4)\n",
        "numpy = np.linalg.solve(matrix1_4, matrix2_4)\n",
        "print(\"numpy solution:\\n \", numpy)\n",
        "iterations = [5, 10, 40, 100]\n",
        "print('\\033[91m', \"\\nJacobi method: \")\n",
        "for i in range(len(iterations)):\n",
        "  j = Jacobi_method(copy.deepcopy(matrix1_4), copy.deepcopy(matrix2_4), iterations[i], 0.0000000000001)\n",
        "  print(\"\\n\",'\\033[94m', iterations[i], \"iterations: \\n\", '\\033[0m', j, )\n",
        "  print('\\033[90m', \"Median of relative error:  \", '\\033[0m', s.median(relative_error(j, numpy)))"
      ],
      "execution_count": 150,
      "outputs": [
        {
          "output_type": "stream",
          "text": [
            "A: \n",
            " [[11.  -2.3  0.5 11. ]\n",
            " [ 1.  42.   4.5  0.6]\n",
            " [-2.   7.  20.   0.3]\n",
            " [-5.   1.   9.  26. ]]\n",
            "B: \n",
            " [ 6.  6.  2. 20.]\n",
            "numpy solution:\n",
            "  [-0.15316795  0.13323193  0.02717336  0.72524493]\n",
            "\u001b[91m \n",
            "Jacobi method: \n",
            "\n",
            " \u001b[94m 5 iterations: \n",
            " \u001b[0m [-0.12904585  0.13379769  0.02937436  0.73365731]\n",
            "\u001b[90m Median of relative error:   \u001b[0m 0.04629891305469469\n",
            "\n",
            " \u001b[94m 10 iterations: \n",
            " \u001b[0m [-0.15373653  0.13318992  0.02723328  0.72531102]\n",
            "\u001b[90m Median of relative error:   \u001b[0m 0.0012603132360158847\n",
            "\n",
            " \u001b[94m 40 iterations: \n",
            " \u001b[0m [-0.15316795  0.13323193  0.02717336  0.72524493]\n",
            "\u001b[90m Median of relative error:   \u001b[0m 4.952289567524091e-14\n",
            "\n",
            " \u001b[94m 100 iterations: \n",
            " \u001b[0m [-0.15316795  0.13323193  0.02717336  0.72524493]\n",
            "\u001b[90m Median of relative error:   \u001b[0m 2.2999106685219785e-14\n"
          ],
          "name": "stdout"
        }
      ]
    },
    {
      "cell_type": "code",
      "metadata": {
        "id": "Ivv6jXkQ7A2k",
        "colab_type": "code",
        "colab": {
          "base_uri": "https://localhost:8080/",
          "height": 532
        },
        "outputId": "c46edb5e-10b7-4e9f-aeec-951423949939"
      },
      "source": [
        "matrix1_6 = np.array([[100.0, -1.0, 2.0, -3.0, 11.0 , 0.9], [1.0, 200.0, -4.0, 5.0, 12.5, -2.9], [-2.0, 4.0, 300.0, -6.0, 16.7, - 41.0], [3.0, -5.0, 6.0, 400.0, 0.9, -21.0],\n",
        "                    [41.0, -35.0, 6.0, 21.0, 180.9, -1.0], [3.0, -5.0, 6.0, 9.0, 0.9, -2001.0]]).reshape(6, 6)\n",
        "matrix2_6 = np.array([16.0, -26.0, 12.0, -174.0, 21.0, 89.0])\n",
        "print(\"A: \\n\",matrix1_6)\n",
        "print(\"B: \\n\",matrix2_6)\n",
        "numpy = np.linalg.solve(matrix1_6, matrix2_6)\n",
        "print(\"numpy solution:\\n \", numpy)\n",
        "print('\\033[91m',\"\\nJacobi method: \")\n",
        "for i in range(len(iterations)):\n",
        "  j = Jacobi_method(copy.deepcopy(matrix1_6), copy.deepcopy(matrix2_6), iterations[i], 0.0000000000001)\n",
        "  print(\"\\n\",'\\033[94m', iterations[i], \"iterations: \\n\", '\\033[0m', j, )\n",
        "  print('\\033[90m', \"Median of relative error:  \", '\\033[0m', s.median(relative_error(j, numpy)))"
      ],
      "execution_count": 151,
      "outputs": [
        {
          "output_type": "stream",
          "text": [
            "A: \n",
            " [[ 1.000e+02 -1.000e+00  2.000e+00 -3.000e+00  1.100e+01  9.000e-01]\n",
            " [ 1.000e+00  2.000e+02 -4.000e+00  5.000e+00  1.250e+01 -2.900e+00]\n",
            " [-2.000e+00  4.000e+00  3.000e+02 -6.000e+00  1.670e+01 -4.100e+01]\n",
            " [ 3.000e+00 -5.000e+00  6.000e+00  4.000e+02  9.000e-01 -2.100e+01]\n",
            " [ 4.100e+01 -3.500e+01  6.000e+00  2.100e+01  1.809e+02 -1.000e+00]\n",
            " [ 3.000e+00 -5.000e+00  6.000e+00  9.000e+00  9.000e-01 -2.001e+03]]\n",
            "B: \n",
            " [  16.  -26.   12. -174.   21.   89.]\n",
            "numpy solution:\n",
            "  [ 0.13323294 -0.12686123  0.02129683 -0.4405614   0.11152839 -0.04582853]\n",
            "\u001b[91m \n",
            "Jacobi method: \n",
            "\n",
            " \u001b[94m 5 iterations: \n",
            " \u001b[0m [ 0.133245   -0.12685425  0.02130297 -0.44056082  0.11153346 -0.04582867]\n",
            "\u001b[90m Median of relative error:   \u001b[0m 5.020011114705853e-05\n",
            "\n",
            " \u001b[94m 10 iterations: \n",
            " \u001b[0m [ 0.13323294 -0.12686123  0.02129683 -0.4405614   0.11152839 -0.04582853]\n",
            "\u001b[90m Median of relative error:   \u001b[0m 1.3072842659262236e-09\n",
            "\n",
            " \u001b[94m 40 iterations: \n",
            " \u001b[0m [ 0.13323294 -0.12686123  0.02129683 -0.4405614   0.11152839 -0.04582853]\n",
            "\u001b[90m Median of relative error:   \u001b[0m 7.312725387714325e-15\n",
            "\n",
            " \u001b[94m 100 iterations: \n",
            " \u001b[0m [ 0.13323294 -0.12686123  0.02129683 -0.4405614   0.11152839 -0.04582853]\n",
            "\u001b[90m Median of relative error:   \u001b[0m 7.312725387714325e-15\n"
          ],
          "name": "stdout"
        }
      ]
    },
    {
      "cell_type": "code",
      "metadata": {
        "id": "hG2aitRE7GrP",
        "colab_type": "code",
        "colab": {
          "base_uri": "https://localhost:8080/",
          "height": 924
        },
        "outputId": "fceedc18-fb7d-4ba7-aade-f28c5539472c"
      },
      "source": [
        "matrix1_11 = np.array([[1123.0, 3.3, 4.0, 11.0, 123.0, 100.0, -1.0, 2.0, -3.0, 11.0 , 0.9], [15.0, 6800.0, -23.0, 1.0, 11.0, 41.0, -35.0, 6.0, 21.0, 180.9, -1.0], \n",
        "                    [-13.0, 12.0, 7198.0, 30.0, -5.0, 3.0, -5.0, 6.0, 9.0, 0.9, -201.0], [-3.3, 9.0, 15.0, 980, 9.9, 100.0, -1.0, 2.0, -3.0, 11.0 , 0.9],\n",
        "                    [11, 0.3, 4.2, 5.0, 4421.1, 3.0, -5.0, 6.0, 400.0, 0.9, -21.0], [11, 3.0, 4.2, 25.0, 3.0, 3211.0, -85.0, 6.0, 41.0, 0.9, -1.0],\n",
        "                    [-13.0, 12.0, 8.0, 30.0, -5.0, 3.0, -3225.0, 60.0, -9.0, 0.9, 9.0], [-43.0, 12.0, 7.0, 30.0, -5.0, 3.0, 6.0, 3218.0,  9.0, 0.9, -2.0],\n",
        "                    [-13.0, 12.0, -8.0, 30.0, -5.0, 3.0, -5.0,  9.0, 6099.0, 0.9, -1.0], [-13.0, 12.0, 71.0, 30.0, -5.0, 3.0, -25.0, 6.0, 0.9, 8819.0, 5.0],\n",
        "                    [-13.0, 12.0, 7198.0, 30.0, -5.0, 3.0, -5.0, 6.0, 9.0, 0.9, 9801.0]]).reshape(11, 11)\n",
        "matrix2_11 = np.array([11.0, 43.1, 321.0, 16.0, -26.0, 12.0, -174.0, 16.0, 890.0, 321.0, 998.0])\n",
        "print(\"A: \\n\",matrix1_11)\n",
        "print(\"B: \\n\",matrix2_11)\n",
        "numpy = np.linalg.solve(matrix1_11, matrix2_11)\n",
        "print(\"numpy solution:\\n \", numpy)\n",
        "print('\\033[91m', \"\\nJacobi method: \")\n",
        "for i in range(len(iterations)):\n",
        "  j = Jacobi_method(copy.deepcopy(matrix1_11), copy.deepcopy(matrix2_11), iterations[i], 0.0000000000001)\n",
        "  print(\"\\n\",'\\033[94m', iterations[i], \"iterations: \\n\", '\\033[0m', j, )\n",
        "  print('\\033[90m', \"Median of relative error:  \", '\\033[0m', s.median(relative_error(j, numpy)))"
      ],
      "execution_count": 152,
      "outputs": [
        {
          "output_type": "stream",
          "text": [
            "A: \n",
            " [[ 1.1230e+03  3.3000e+00  4.0000e+00  1.1000e+01  1.2300e+02  1.0000e+02\n",
            "  -1.0000e+00  2.0000e+00 -3.0000e+00  1.1000e+01  9.0000e-01]\n",
            " [ 1.5000e+01  6.8000e+03 -2.3000e+01  1.0000e+00  1.1000e+01  4.1000e+01\n",
            "  -3.5000e+01  6.0000e+00  2.1000e+01  1.8090e+02 -1.0000e+00]\n",
            " [-1.3000e+01  1.2000e+01  7.1980e+03  3.0000e+01 -5.0000e+00  3.0000e+00\n",
            "  -5.0000e+00  6.0000e+00  9.0000e+00  9.0000e-01 -2.0100e+02]\n",
            " [-3.3000e+00  9.0000e+00  1.5000e+01  9.8000e+02  9.9000e+00  1.0000e+02\n",
            "  -1.0000e+00  2.0000e+00 -3.0000e+00  1.1000e+01  9.0000e-01]\n",
            " [ 1.1000e+01  3.0000e-01  4.2000e+00  5.0000e+00  4.4211e+03  3.0000e+00\n",
            "  -5.0000e+00  6.0000e+00  4.0000e+02  9.0000e-01 -2.1000e+01]\n",
            " [ 1.1000e+01  3.0000e+00  4.2000e+00  2.5000e+01  3.0000e+00  3.2110e+03\n",
            "  -8.5000e+01  6.0000e+00  4.1000e+01  9.0000e-01 -1.0000e+00]\n",
            " [-1.3000e+01  1.2000e+01  8.0000e+00  3.0000e+01 -5.0000e+00  3.0000e+00\n",
            "  -3.2250e+03  6.0000e+01 -9.0000e+00  9.0000e-01  9.0000e+00]\n",
            " [-4.3000e+01  1.2000e+01  7.0000e+00  3.0000e+01 -5.0000e+00  3.0000e+00\n",
            "   6.0000e+00  3.2180e+03  9.0000e+00  9.0000e-01 -2.0000e+00]\n",
            " [-1.3000e+01  1.2000e+01 -8.0000e+00  3.0000e+01 -5.0000e+00  3.0000e+00\n",
            "  -5.0000e+00  9.0000e+00  6.0990e+03  9.0000e-01 -1.0000e+00]\n",
            " [-1.3000e+01  1.2000e+01  7.1000e+01  3.0000e+01 -5.0000e+00  3.0000e+00\n",
            "  -2.5000e+01  6.0000e+00  9.0000e-01  8.8190e+03  5.0000e+00]\n",
            " [-1.3000e+01  1.2000e+01  7.1980e+03  3.0000e+01 -5.0000e+00  3.0000e+00\n",
            "  -5.0000e+00  6.0000e+00  9.0000e+00  9.0000e-01  9.8010e+03]]\n",
            "B: \n",
            " [  11.    43.1  321.    16.   -26.    12.  -174.    16.   890.   321.\n",
            "  998. ]\n",
            "numpy solution:\n",
            "  [ 0.01126945  0.00535359  0.04626522  0.01550684 -0.01880833  0.00310102\n",
            "  0.0540916   0.00434827  0.14595022  0.03606818  0.06768646]\n",
            "\u001b[91m \n",
            "Jacobi method: \n",
            "\n",
            " \u001b[94m 5 iterations: \n",
            " \u001b[0m [ 0.01126988  0.00535351  0.04626455  0.01550716 -0.01880842  0.00310099\n",
            "  0.05409147  0.00434829  0.14595019  0.03606834  0.0677008 ]\n",
            "\u001b[90m Median of relative error:   \u001b[0m 9.927128371791282e-06\n",
            "\n",
            " \u001b[94m 10 iterations: \n",
            " \u001b[0m [ 0.01126945  0.00535359  0.04626522  0.01550684 -0.01880833  0.00310102\n",
            "  0.0540916   0.00434827  0.14595022  0.03606818  0.06768646]\n",
            "\u001b[90m Median of relative error:   \u001b[0m 3.109964377491197e-10\n",
            "\n",
            " \u001b[94m 40 iterations: \n",
            " \u001b[0m [ 0.01126945  0.00535359  0.04626522  0.01550684 -0.01880833  0.00310102\n",
            "  0.0540916   0.00434827  0.14595022  0.03606818  0.06768646]\n",
            "\u001b[90m Median of relative error:   \u001b[0m 2.5656088791635504e-15\n",
            "\n",
            " \u001b[94m 100 iterations: \n",
            " \u001b[0m [ 0.01126945  0.00535359  0.04626522  0.01550684 -0.01880833  0.00310102\n",
            "  0.0540916   0.00434827  0.14595022  0.03606818  0.06768646]\n",
            "\u001b[90m Median of relative error:   \u001b[0m 2.5656088791635504e-15\n"
          ],
          "name": "stdout"
        }
      ]
    },
    {
      "cell_type": "markdown",
      "metadata": {
        "id": "C53GtrDvXKnl",
        "colab_type": "text"
      },
      "source": [
        "# Zadanie 2\n",
        "Zaimplementuj metodę Gaussa-Seidla "
      ]
    },
    {
      "cell_type": "markdown",
      "metadata": {
        "id": "Cyu92REMAgrf",
        "colab_type": "text"
      },
      "source": [
        "Jeśli macierz  A jest diagonalnie dominująca, to metoda Gaussa--Seidela jest zbieżna dla dowolnego wektora startowego"
      ]
    },
    {
      "cell_type": "code",
      "metadata": {
        "id": "qeKXvD3b8juI",
        "colab_type": "code",
        "colab": {}
      },
      "source": [
        "def Gauss_Seidel(A, B, max_iter, epsilon):\n",
        "  DL = np.tril(A)\n",
        "  U = A - DL\n",
        "  DL_inv = np.linalg.inv(DL)\n",
        "  X = np.zeros_like(B)\n",
        "  for i in range(max_iter):\n",
        "    X_new = np.zeros_like(X)\n",
        "    X_new = np.dot(DL_inv, B - np.dot(U, X))\n",
        "    if np.linalg.norm(X_new - X) < epsilon:\n",
        "            return X_new\n",
        "    X = X_new\n",
        "  return X"
      ],
      "execution_count": 0,
      "outputs": []
    },
    {
      "cell_type": "code",
      "metadata": {
        "id": "wb7ozJVpHrGY",
        "colab_type": "code",
        "colab": {
          "base_uri": "https://localhost:8080/",
          "height": 497
        },
        "outputId": "2e5546de-bc7e-4f0e-c4ec-9eb3a818a50e"
      },
      "source": [
        "print(\"A: \\n\",matrix1_4)\n",
        "print(\"B: \\n\",matrix2_4)\n",
        "numpy = np.linalg.solve(matrix1_4, matrix2_4)\n",
        "print(\"numpy solution:\\n \", numpy)\n",
        "iterations = [5, 10, 40, 100]\n",
        "print('\\033[91m',\"\\nGauss-Seidel method: \")\n",
        "for i in range(len(iterations)):\n",
        "  j = Gauss_Seidel(copy.deepcopy(matrix1_4), copy.deepcopy(matrix2_4), iterations[i], 0.0000000000001)\n",
        "  print(\"\\n\",'\\033[94m', iterations[i], \"iterations: \\n\", '\\033[0m', j, )\n",
        "  print('\\033[90m', \"Median of relative error:  \", '\\033[0m', s.median(relative_error(j, numpy)))"
      ],
      "execution_count": 154,
      "outputs": [
        {
          "output_type": "stream",
          "text": [
            "A: \n",
            " [[11.  -2.3  0.5 11. ]\n",
            " [ 1.  42.   4.5  0.6]\n",
            " [-2.   7.  20.   0.3]\n",
            " [-5.   1.   9.  26. ]]\n",
            "B: \n",
            " [ 6.  6.  2. 20.]\n",
            "numpy solution:\n",
            "  [-0.15316795  0.13323193  0.02717336  0.72524493]\n",
            "\u001b[91m \n",
            "Gauss-Seidel method: \n",
            "\n",
            " \u001b[94m 5 iterations: \n",
            " \u001b[0m [-0.15280393  0.13325354  0.02720796  0.72530212]\n",
            "\u001b[90m Median of relative error:   \u001b[0m 0.0007177749795263399\n",
            "\n",
            " \u001b[94m 10 iterations: \n",
            " \u001b[0m [-0.15316798  0.13323192  0.02717335  0.72524492]\n",
            "\u001b[90m Median of relative error:   \u001b[0m 5.271097163613712e-08\n",
            "\n",
            " \u001b[94m 40 iterations: \n",
            " \u001b[0m [-0.15316795  0.13323193  0.02717336  0.72524493]\n",
            "\u001b[90m Median of relative error:   \u001b[0m 1.2438607204464262e-14\n",
            "\n",
            " \u001b[94m 100 iterations: \n",
            " \u001b[0m [-0.15316795  0.13323193  0.02717336  0.72524493]\n",
            "\u001b[90m Median of relative error:   \u001b[0m 1.2438607204464262e-14\n"
          ],
          "name": "stdout"
        }
      ]
    },
    {
      "cell_type": "code",
      "metadata": {
        "id": "M23x4E11IEh8",
        "colab_type": "code",
        "colab": {
          "base_uri": "https://localhost:8080/",
          "height": 532
        },
        "outputId": "3f60f031-b8b9-4b12-cfbf-cd12fba89fde"
      },
      "source": [
        "print(\"A: \\n\",matrix1_6)\n",
        "print(\"B: \\n\",matrix2_6)\n",
        "numpy = np.linalg.solve(matrix1_6, matrix2_6)\n",
        "print(\"numpy solution:\\n \", numpy)\n",
        "print('\\033[91m',\"\\nGauss-Seidel method: \")\n",
        "for i in range(len(iterations)):\n",
        "  j = Gauss_Seidel(copy.deepcopy(matrix1_6), copy.deepcopy(matrix2_6), iterations[i], 0.0000000000001)\n",
        "  print(\"\\n\",'\\033[94m', iterations[i], \"iterations: \\n\", '\\033[0m', j, )\n",
        "  print('\\033[90m', \"Median of relative error:  \", '\\033[0m', s.median(relative_error(j, numpy)))"
      ],
      "execution_count": 155,
      "outputs": [
        {
          "output_type": "stream",
          "text": [
            "A: \n",
            " [[ 1.000e+02 -1.000e+00  2.000e+00 -3.000e+00  1.100e+01  9.000e-01]\n",
            " [ 1.000e+00  2.000e+02 -4.000e+00  5.000e+00  1.250e+01 -2.900e+00]\n",
            " [-2.000e+00  4.000e+00  3.000e+02 -6.000e+00  1.670e+01 -4.100e+01]\n",
            " [ 3.000e+00 -5.000e+00  6.000e+00  4.000e+02  9.000e-01 -2.100e+01]\n",
            " [ 4.100e+01 -3.500e+01  6.000e+00  2.100e+01  1.809e+02 -1.000e+00]\n",
            " [ 3.000e+00 -5.000e+00  6.000e+00  9.000e+00  9.000e-01 -2.001e+03]]\n",
            "B: \n",
            " [  16.  -26.   12. -174.   21.   89.]\n",
            "numpy solution:\n",
            "  [ 0.13323294 -0.12686123  0.02129683 -0.4405614   0.11152839 -0.04582853]\n",
            "\u001b[91m \n",
            "Gauss-Seidel method: \n",
            "\n",
            " \u001b[94m 5 iterations: \n",
            " \u001b[0m [ 0.13323294 -0.12686123  0.02129683 -0.4405614   0.11152839 -0.04582853]\n",
            "\u001b[90m Median of relative error:   \u001b[0m 3.4278778241656495e-09\n",
            "\n",
            " \u001b[94m 10 iterations: \n",
            " \u001b[0m [ 0.13323294 -0.12686123  0.02129683 -0.4405614   0.11152839 -0.04582853]\n",
            "\u001b[90m Median of relative error:   \u001b[0m 4.369182843591023e-16\n",
            "\n",
            " \u001b[94m 40 iterations: \n",
            " \u001b[0m [ 0.13323294 -0.12686123  0.02129683 -0.4405614   0.11152839 -0.04582853]\n",
            "\u001b[90m Median of relative error:   \u001b[0m 4.369182843591023e-16\n",
            "\n",
            " \u001b[94m 100 iterations: \n",
            " \u001b[0m [ 0.13323294 -0.12686123  0.02129683 -0.4405614   0.11152839 -0.04582853]\n",
            "\u001b[90m Median of relative error:   \u001b[0m 4.369182843591023e-16\n"
          ],
          "name": "stdout"
        }
      ]
    },
    {
      "cell_type": "code",
      "metadata": {
        "id": "VLeEUIWQIBw6",
        "colab_type": "code",
        "colab": {
          "base_uri": "https://localhost:8080/",
          "height": 924
        },
        "outputId": "edf452dd-7db2-49d8-8250-c751467714c4"
      },
      "source": [
        "print(\"A: \\n\",matrix1_11)\n",
        "print(\"B: \\n\",matrix2_11)\n",
        "numpy = np.linalg.solve(matrix1_11, matrix2_11)\n",
        "print(\"numpy solution:\\n \", numpy)\n",
        "print('\\033[91m',\"\\nGauss-Seidel method: \")\n",
        "for i in range(len(iterations)):\n",
        "  j = Gauss_Seidel(copy.deepcopy(matrix1_11), copy.deepcopy(matrix2_11), iterations[i], 0.0000000000001)\n",
        "  print(\"\\n\",'\\033[94m', iterations[i], \"iterations: \\n\", '\\033[0m', j, )\n",
        "  print('\\033[90m', \"Median of relative error:  \", '\\033[0m', s.median(relative_error(j, numpy)))"
      ],
      "execution_count": 156,
      "outputs": [
        {
          "output_type": "stream",
          "text": [
            "A: \n",
            " [[ 1.1230e+03  3.3000e+00  4.0000e+00  1.1000e+01  1.2300e+02  1.0000e+02\n",
            "  -1.0000e+00  2.0000e+00 -3.0000e+00  1.1000e+01  9.0000e-01]\n",
            " [ 1.5000e+01  6.8000e+03 -2.3000e+01  1.0000e+00  1.1000e+01  4.1000e+01\n",
            "  -3.5000e+01  6.0000e+00  2.1000e+01  1.8090e+02 -1.0000e+00]\n",
            " [-1.3000e+01  1.2000e+01  7.1980e+03  3.0000e+01 -5.0000e+00  3.0000e+00\n",
            "  -5.0000e+00  6.0000e+00  9.0000e+00  9.0000e-01 -2.0100e+02]\n",
            " [-3.3000e+00  9.0000e+00  1.5000e+01  9.8000e+02  9.9000e+00  1.0000e+02\n",
            "  -1.0000e+00  2.0000e+00 -3.0000e+00  1.1000e+01  9.0000e-01]\n",
            " [ 1.1000e+01  3.0000e-01  4.2000e+00  5.0000e+00  4.4211e+03  3.0000e+00\n",
            "  -5.0000e+00  6.0000e+00  4.0000e+02  9.0000e-01 -2.1000e+01]\n",
            " [ 1.1000e+01  3.0000e+00  4.2000e+00  2.5000e+01  3.0000e+00  3.2110e+03\n",
            "  -8.5000e+01  6.0000e+00  4.1000e+01  9.0000e-01 -1.0000e+00]\n",
            " [-1.3000e+01  1.2000e+01  8.0000e+00  3.0000e+01 -5.0000e+00  3.0000e+00\n",
            "  -3.2250e+03  6.0000e+01 -9.0000e+00  9.0000e-01  9.0000e+00]\n",
            " [-4.3000e+01  1.2000e+01  7.0000e+00  3.0000e+01 -5.0000e+00  3.0000e+00\n",
            "   6.0000e+00  3.2180e+03  9.0000e+00  9.0000e-01 -2.0000e+00]\n",
            " [-1.3000e+01  1.2000e+01 -8.0000e+00  3.0000e+01 -5.0000e+00  3.0000e+00\n",
            "  -5.0000e+00  9.0000e+00  6.0990e+03  9.0000e-01 -1.0000e+00]\n",
            " [-1.3000e+01  1.2000e+01  7.1000e+01  3.0000e+01 -5.0000e+00  3.0000e+00\n",
            "  -2.5000e+01  6.0000e+00  9.0000e-01  8.8190e+03  5.0000e+00]\n",
            " [-1.3000e+01  1.2000e+01  7.1980e+03  3.0000e+01 -5.0000e+00  3.0000e+00\n",
            "  -5.0000e+00  6.0000e+00  9.0000e+00  9.0000e-01  9.8010e+03]]\n",
            "B: \n",
            " [  11.    43.1  321.    16.   -26.    12.  -174.    16.   890.   321.\n",
            "  998. ]\n",
            "numpy solution:\n",
            "  [ 0.01126945  0.00535359  0.04626522  0.01550684 -0.01880833  0.00310102\n",
            "  0.0540916   0.00434827  0.14595022  0.03606818  0.06768646]\n",
            "\u001b[91m \n",
            "Gauss-Seidel method: \n",
            "\n",
            " \u001b[94m 5 iterations: \n",
            " \u001b[0m [ 0.01126946  0.00535359  0.04626522  0.01550684 -0.01880833  0.00310102\n",
            "  0.0540916   0.00434827  0.14595022  0.03606818  0.06768646]\n",
            "\u001b[90m Median of relative error:   \u001b[0m 1.6070287993964497e-09\n",
            "\n",
            " \u001b[94m 10 iterations: \n",
            " \u001b[0m [ 0.01126945  0.00535359  0.04626522  0.01550684 -0.01880833  0.00310102\n",
            "  0.0540916   0.00434827  0.14595022  0.03606818  0.06768646]\n",
            "\u001b[90m Median of relative error:   \u001b[0m 4.1006095614109364e-16\n",
            "\n",
            " \u001b[94m 40 iterations: \n",
            " \u001b[0m [ 0.01126945  0.00535359  0.04626522  0.01550684 -0.01880833  0.00310102\n",
            "  0.0540916   0.00434827  0.14595022  0.03606818  0.06768646]\n",
            "\u001b[90m Median of relative error:   \u001b[0m 4.1006095614109364e-16\n",
            "\n",
            " \u001b[94m 100 iterations: \n",
            " \u001b[0m [ 0.01126945  0.00535359  0.04626522  0.01550684 -0.01880833  0.00310102\n",
            "  0.0540916   0.00434827  0.14595022  0.03606818  0.06768646]\n",
            "\u001b[90m Median of relative error:   \u001b[0m 4.1006095614109364e-16\n"
          ],
          "name": "stdout"
        }
      ]
    },
    {
      "cell_type": "markdown",
      "metadata": {
        "id": "EVVaV5RSi14X",
        "colab_type": "text"
      },
      "source": [
        "### Zaimplementuj metodę kolejnych nadrelaksacji (successive over-relaxation)"
      ]
    },
    {
      "cell_type": "code",
      "metadata": {
        "id": "9mBFoAHHfBga",
        "colab_type": "code",
        "colab": {}
      },
      "source": [
        "def SOR(A, B, max_iter, epsilon, omega):\n",
        "  D = np.diag(np.diag(A))\n",
        "  L = np.tril(A - D)\n",
        "  U = A - D - L\n",
        "  D_inv = np.linalg.inv(D)\n",
        "  D_inv_omega = np.dot(D_inv, omega)\n",
        "  X = np.zeros_like(B)\n",
        "  for i in range(max_iter):\n",
        "    X_new = np.zeros_like(X)\n",
        "    X_new = np.add(np.dot((1- omega), X), np.dot(D_inv_omega, B - np.dot(X, L) - np.dot(X, U)))\n",
        "    if np.linalg.norm(X_new - X) < epsilon:\n",
        "            return X_new\n",
        "    X = X_new\n",
        "  return X"
      ],
      "execution_count": 0,
      "outputs": []
    },
    {
      "cell_type": "code",
      "metadata": {
        "id": "WwUq1yuI2t-L",
        "colab_type": "code",
        "colab": {
          "base_uri": "https://localhost:8080/",
          "height": 497
        },
        "outputId": "5cc3819f-5600-4a16-c259-f7beb566b8cc"
      },
      "source": [
        "print(\"A: \\n\",matrix1_4)\n",
        "print(\"B: \\n\",matrix2_4)\n",
        "numpy = np.linalg.solve(matrix1_4, matrix2_4)\n",
        "print(\"numpy solution:\\n \", numpy)\n",
        "iterations = [5, 10, 40, 100]\n",
        "print('\\033[91m',\"\\nSuccessive over-relaxation method: \")\n",
        "for i in range(len(iterations)):\n",
        "  j = SOR(copy.deepcopy(matrix1_4), copy.deepcopy(matrix2_4), iterations[i], 0.0000000000001, 1.2)\n",
        "  print(\"\\n\",'\\033[94m', iterations[i], \"iterations: \\n\", '\\033[0m', j, )\n",
        "  print('\\033[90m', \"Median of relative error:  \", '\\033[0m', s.median(relative_error(j, numpy)))"
      ],
      "execution_count": 158,
      "outputs": [
        {
          "output_type": "stream",
          "text": [
            "A: \n",
            " [[11.  -2.3  0.5 11. ]\n",
            " [ 1.  42.   4.5  0.6]\n",
            " [-2.   7.  20.   0.3]\n",
            " [-5.   1.   9.  26. ]]\n",
            "B: \n",
            " [ 6.  6.  2. 20.]\n",
            "numpy solution:\n",
            "  [-0.15316795  0.13323193  0.02717336  0.72524493]\n",
            "\u001b[91m \n",
            "Successive over-relaxation method: \n",
            "\n",
            " \u001b[94m 5 iterations: \n",
            " \u001b[0m [ 0.78616169  0.1958558  -0.22358621  0.46474956]\n",
            "\u001b[90m Median of relative error:   \u001b[0m 3.3013570043189926\n",
            "\n",
            " \u001b[94m 10 iterations: \n",
            " \u001b[0m [ 0.70348034  0.19824314 -0.168662    0.47094503]\n",
            "\u001b[90m Median of relative error:   \u001b[0m 3.040412117568208\n",
            "\n",
            " \u001b[94m 40 iterations: \n",
            " \u001b[0m [ 0.7082081  0.1993039 -0.1726975  0.4669976]\n",
            "\u001b[90m Median of relative error:   \u001b[0m 3.0598262700480245\n",
            "\n",
            " \u001b[94m 100 iterations: \n",
            " \u001b[0m [ 0.7082081   0.19930389 -0.1726975   0.46699761]\n",
            "\u001b[90m Median of relative error:   \u001b[0m 3.0598262670900045\n"
          ],
          "name": "stdout"
        }
      ]
    },
    {
      "cell_type": "code",
      "metadata": {
        "id": "oI0-mpPJ2-yj",
        "colab_type": "code",
        "colab": {
          "base_uri": "https://localhost:8080/",
          "height": 532
        },
        "outputId": "7990deaa-d41c-421f-eaff-e822b62a6ef5"
      },
      "source": [
        "print(\"A: \\n\",matrix1_6)\n",
        "print(\"B: \\n\",matrix2_6)\n",
        "numpy = np.linalg.solve(matrix1_6, matrix2_6)\n",
        "print(\"numpy solution:\\n \", numpy)\n",
        "print('\\033[91m',\"\\nSuccessive over-relaxation method: \")\n",
        "for i in range(len(iterations)):\n",
        "  j = SOR(copy.deepcopy(matrix1_6), copy.deepcopy(matrix2_6), iterations[i], 0.0000000000001, 1.2)\n",
        "  print(\"\\n\",'\\033[94m', iterations[i], \"iterations: \\n\", '\\033[0m', j, )\n",
        "  print('\\033[90m', \"Median of relative error:  \", '\\033[0m', s.median(relative_error(j, numpy)))"
      ],
      "execution_count": 159,
      "outputs": [
        {
          "output_type": "stream",
          "text": [
            "A: \n",
            " [[ 1.000e+02 -1.000e+00  2.000e+00 -3.000e+00  1.100e+01  9.000e-01]\n",
            " [ 1.000e+00  2.000e+02 -4.000e+00  5.000e+00  1.250e+01 -2.900e+00]\n",
            " [-2.000e+00  4.000e+00  3.000e+02 -6.000e+00  1.670e+01 -4.100e+01]\n",
            " [ 3.000e+00 -5.000e+00  6.000e+00  4.000e+02  9.000e-01 -2.100e+01]\n",
            " [ 4.100e+01 -3.500e+01  6.000e+00  2.100e+01  1.809e+02 -1.000e+00]\n",
            " [ 3.000e+00 -5.000e+00  6.000e+00  9.000e+00  9.000e-01 -2.001e+03]]\n",
            "B: \n",
            " [  16.  -26.   12. -174.   21.   89.]\n",
            "numpy solution:\n",
            "  [ 0.13323294 -0.12686123  0.02129683 -0.4405614   0.11152839 -0.04582853]\n",
            "\u001b[91m \n",
            "Successive over-relaxation method: \n",
            "\n",
            " \u001b[94m 5 iterations: \n",
            " \u001b[0m [ 0.12998362 -0.12235688  0.04479053 -0.43708867  0.11509355 -0.04069045]\n",
            "\u001b[90m Median of relative error:   \u001b[0m 0.0337362760873891\n",
            "\n",
            " \u001b[94m 10 iterations: \n",
            " \u001b[0m [ 0.12933117 -0.12207911  0.04476325 -0.43695061  0.11490011 -0.04063159]\n",
            "\u001b[90m Median of relative error:   \u001b[0m 0.03396377542734884\n",
            "\n",
            " \u001b[94m 40 iterations: \n",
            " \u001b[0m [ 0.12933411 -0.12208047  0.04476366 -0.43695063  0.11490106 -0.04063159]\n",
            "\u001b[90m Median of relative error:   \u001b[0m 0.033962689841321426\n",
            "\n",
            " \u001b[94m 100 iterations: \n",
            " \u001b[0m [ 0.12933411 -0.12208047  0.04476366 -0.43695063  0.11490106 -0.04063159]\n",
            "\u001b[90m Median of relative error:   \u001b[0m 0.033962689841321426\n"
          ],
          "name": "stdout"
        }
      ]
    },
    {
      "cell_type": "code",
      "metadata": {
        "id": "q-i9d3baKHoM",
        "colab_type": "code",
        "colab": {
          "base_uri": "https://localhost:8080/",
          "height": 924
        },
        "outputId": "e7c251f0-85f8-46b3-9398-c7f4e98c041e"
      },
      "source": [
        "print(\"A: \\n\",matrix1_11)\n",
        "print(\"B: \\n\",matrix2_11)\n",
        "numpy = np.linalg.solve(matrix1_11, matrix2_11)\n",
        "print(\"numpy solution:\\n \", numpy)\n",
        "print('\\033[91m',\"\\nSuccessive over-relaxation method: \")\n",
        "for i in range(len(iterations)):\n",
        "  j = SOR(copy.deepcopy(matrix1_11), copy.deepcopy(matrix2_11), iterations[i], 0.0000000000001, 1.2)\n",
        "  print(\"\\n\",'\\033[94m', iterations[i], \"iterations: \\n\", '\\033[0m', j, )\n",
        "  print('\\033[90m', \"Median of relative error:  \", '\\033[0m', s.median(relative_error(j, numpy)))"
      ],
      "execution_count": 160,
      "outputs": [
        {
          "output_type": "stream",
          "text": [
            "A: \n",
            " [[ 1.1230e+03  3.3000e+00  4.0000e+00  1.1000e+01  1.2300e+02  1.0000e+02\n",
            "  -1.0000e+00  2.0000e+00 -3.0000e+00  1.1000e+01  9.0000e-01]\n",
            " [ 1.5000e+01  6.8000e+03 -2.3000e+01  1.0000e+00  1.1000e+01  4.1000e+01\n",
            "  -3.5000e+01  6.0000e+00  2.1000e+01  1.8090e+02 -1.0000e+00]\n",
            " [-1.3000e+01  1.2000e+01  7.1980e+03  3.0000e+01 -5.0000e+00  3.0000e+00\n",
            "  -5.0000e+00  6.0000e+00  9.0000e+00  9.0000e-01 -2.0100e+02]\n",
            " [-3.3000e+00  9.0000e+00  1.5000e+01  9.8000e+02  9.9000e+00  1.0000e+02\n",
            "  -1.0000e+00  2.0000e+00 -3.0000e+00  1.1000e+01  9.0000e-01]\n",
            " [ 1.1000e+01  3.0000e-01  4.2000e+00  5.0000e+00  4.4211e+03  3.0000e+00\n",
            "  -5.0000e+00  6.0000e+00  4.0000e+02  9.0000e-01 -2.1000e+01]\n",
            " [ 1.1000e+01  3.0000e+00  4.2000e+00  2.5000e+01  3.0000e+00  3.2110e+03\n",
            "  -8.5000e+01  6.0000e+00  4.1000e+01  9.0000e-01 -1.0000e+00]\n",
            " [-1.3000e+01  1.2000e+01  8.0000e+00  3.0000e+01 -5.0000e+00  3.0000e+00\n",
            "  -3.2250e+03  6.0000e+01 -9.0000e+00  9.0000e-01  9.0000e+00]\n",
            " [-4.3000e+01  1.2000e+01  7.0000e+00  3.0000e+01 -5.0000e+00  3.0000e+00\n",
            "   6.0000e+00  3.2180e+03  9.0000e+00  9.0000e-01 -2.0000e+00]\n",
            " [-1.3000e+01  1.2000e+01 -8.0000e+00  3.0000e+01 -5.0000e+00  3.0000e+00\n",
            "  -5.0000e+00  9.0000e+00  6.0990e+03  9.0000e-01 -1.0000e+00]\n",
            " [-1.3000e+01  1.2000e+01  7.1000e+01  3.0000e+01 -5.0000e+00  3.0000e+00\n",
            "  -2.5000e+01  6.0000e+00  9.0000e-01  8.8190e+03  5.0000e+00]\n",
            " [-1.3000e+01  1.2000e+01  7.1980e+03  3.0000e+01 -5.0000e+00  3.0000e+00\n",
            "  -5.0000e+00  6.0000e+00  9.0000e+00  9.0000e-01  9.8010e+03]]\n",
            "B: \n",
            " [  11.    43.1  321.    16.   -26.    12.  -174.    16.   890.   321.\n",
            "  998. ]\n",
            "numpy solution:\n",
            "  [ 0.01126945  0.00535359  0.04626522  0.01550684 -0.01880833  0.00310102\n",
            "  0.0540916   0.00434827  0.14595022  0.03606818  0.06768646]\n",
            "\u001b[91m \n",
            "Successive over-relaxation method: \n",
            "\n",
            " \u001b[94m 5 iterations: \n",
            " \u001b[0m [ 0.01301568  0.00584447 -0.056549    0.00776915 -0.00599482  0.0028383\n",
            "  0.05329823  0.00343751  0.14633566  0.0362489   0.10048441]\n",
            "\u001b[90m Median of relative error:   \u001b[0m 0.15495257816184446\n",
            "\n",
            " \u001b[94m 10 iterations: \n",
            " \u001b[0m [ 0.01314345  0.00582073 -0.05627147  0.00745424 -0.00595896  0.00276202\n",
            "  0.05325028  0.00340211  0.14629071  0.03622868  0.10060667]\n",
            "\u001b[90m Median of relative error:   \u001b[0m 0.16628991732428294\n",
            "\n",
            " \u001b[94m 40 iterations: \n",
            " \u001b[0m [ 0.01314347  0.00582073 -0.0562707   0.00745419 -0.00595897  0.00276205\n",
            "  0.05325031  0.00340212  0.14629069  0.03622869  0.10060679]\n",
            "\u001b[90m Median of relative error:   \u001b[0m 0.1662919446282587\n",
            "\n",
            " \u001b[94m 100 iterations: \n",
            " \u001b[0m [ 0.01314347  0.00582073 -0.0562707   0.00745419 -0.00595897  0.00276205\n",
            "  0.05325031  0.00340212  0.14629069  0.03622869  0.10060679]\n",
            "\u001b[90m Median of relative error:   \u001b[0m 0.1662919446282587\n"
          ],
          "name": "stdout"
        }
      ]
    }
  ]
}