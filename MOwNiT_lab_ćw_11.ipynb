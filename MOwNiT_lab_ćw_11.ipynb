{
  "nbformat": 4,
  "nbformat_minor": 0,
  "metadata": {
    "kernelspec": {
      "display_name": "Python 3",
      "language": "python",
      "name": "python3"
    },
    "language_info": {
      "codemirror_mode": {
        "name": "ipython",
        "version": 3
      },
      "file_extension": ".py",
      "mimetype": "text/x-python",
      "name": "python",
      "nbconvert_exporter": "python",
      "pygments_lexer": "ipython3",
      "version": "3.8.2"
    },
    "colab": {
      "name": "MOwNiT - lab. ćw. 11.ipynb",
      "provenance": [],
      "collapsed_sections": [],
      "include_colab_link": true
    }
  },
  "cells": [
    {
      "cell_type": "markdown",
      "metadata": {
        "id": "view-in-github",
        "colab_type": "text"
      },
      "source": [
        "<a href=\"https://colab.research.google.com/github/zbrze/MOWNIT-python-/blob/master/MOwNiT_lab_%C4%87w_11.ipynb\" target=\"_parent\"><img src=\"https://colab.research.google.com/assets/colab-badge.svg\" alt=\"Open In Colab\"/></a>"
      ]
    },
    {
      "cell_type": "markdown",
      "metadata": {
        "id": "y5olCahG2EVA",
        "colab_type": "text"
      },
      "source": [
        "## Rozwiązywanie układów równań liniowych metodami interacyjnymi \n",
        "\n",
        "### Zadanie 1\n",
        "Zaimplementuj metodę Jacobiego. Podaj warunki jej stosowalności. Wygeneruj co najmniej trzy odpowiednie macierze o różnych wielkościach i sprawdź działanie swojej metody. Zwróć uwagę na zbieżność tej metody. \n",
        "\n",
        "### Zadanie 2\n",
        "Zaimplementuj metodę Gaussa-Seidla i kolejnych nadrelaksacji (successive over-relaxation). Podaj warunki stosowalności tych metod. Przeprowadź badanie działania swoich implementacji analogicznie jak w poprzednim zadaniu. Porównaj zbieżność wszystkich trzech metod. \n",
        "\n"
      ]
    },
    {
      "cell_type": "markdown",
      "metadata": {
        "id": "mPn_VSSa2Ili",
        "colab_type": "text"
      },
      "source": [
        "# Zadanie 1\n",
        "Zaimplementuj metodę Jacobiego. Podaj warunki jej stosowalności. Wygeneruj co najmniej trzy odpowiednie macierze o różnych wielkościach i sprawdź działanie swojej metody. Zwróć uwagę na zbieżność tej metody."
      ]
    },
    {
      "cell_type": "markdown",
      "metadata": {
        "id": "GoWCugsTUf53",
        "colab_type": "text"
      },
      "source": [
        "### **Twierdzenie o zbieżności metody Jacobiego**\n",
        "\n",
        "W metodzie Jacobiego warunek dostateczny zbieżności, |B|<1, jest spełniony np. wtedy, gdy macierz A ma dominującą przekątną,\n",
        "\n",
        "\n",
        "\n",
        "\n",
        "![alt text](http://wazniak.mimuw.edu.pl/images/math/a/5/b/a5baccabbc68a36366a3cfdb604c2c44.png)"
      ]
    },
    {
      "cell_type": "markdown",
      "metadata": {
        "id": "DKbseEjA4rCd",
        "colab_type": "text"
      },
      "source": [
        "macierz D musi być odwracalna - na przekątej macierzy nie mogą znajdować się zera"
      ]
    },
    {
      "cell_type": "code",
      "metadata": {
        "id": "ft8NvPVV2EVj",
        "colab_type": "code",
        "colab": {}
      },
      "source": [
        " import numpy as np\n",
        "\n",
        " def Jacobi_method(A, B, max_iter, epsilon):\n",
        "   D = np.diag(np.diag(A))\n",
        "   LU = A - D\n",
        "   X = np.zeros_like(B)\n",
        "   try:\n",
        "     D_invert = np.linalg.inv(D)\n",
        "   except: \n",
        "     print(\"Matrix is not invertible\")\n",
        "     return\n",
        "   for i in range(max_iter):\n",
        "     X_new = np.zeros_like(X)\n",
        "     X_new = np.dot(D_invert,B) - np.dot(D_invert,np.dot(LU, X))\n",
        "     if np.linalg.norm(X_new - X) < epsilon:\n",
        "            return X_new\n",
        "     X = X_new\n",
        "   return X\n"
      ],
      "execution_count": 0,
      "outputs": []
    },
    {
      "cell_type": "code",
      "metadata": {
        "id": "SdhUt_4g9fC4",
        "colab_type": "code",
        "colab": {}
      },
      "source": [
        "def relative_error(val, real_val):\n",
        "  return abs(val - real_val)/abs(real_val)"
      ],
      "execution_count": 0,
      "outputs": []
    },
    {
      "cell_type": "code",
      "metadata": {
        "id": "83Yr-IYu7ImC",
        "colab_type": "code",
        "outputId": "1b27052e-6b5a-42fb-9358-9cb4c5ac7086",
        "colab": {
          "base_uri": "https://localhost:8080/",
          "height": 497
        }
      },
      "source": [
        "import statistics as s\n",
        "import copy \n",
        "matrix1_4 = np.array([[11.0, -2.3, 0.5, 11], [1.0, 42.0, 4.5, 0.6], [-2.0, 7.0, 20.0, 0.3], [-5.0, 1.0, 9.0, 26]]).reshape(4,4)\n",
        "matrix2_4 = np.array([6.0, 6.0, 2.0, 20.0])\n",
        "print(\"A: \\n\",matrix1_4)\n",
        "print(\"B: \\n\",matrix2_4)\n",
        "numpy = np.linalg.solve(matrix1_4, matrix2_4)\n",
        "print(\"numpy solution:\\n \", numpy)\n",
        "iterations = [5, 10, 40, 100]\n",
        "print('\\033[91m', \"\\nJacobi method: \")\n",
        "for i in range(len(iterations)):\n",
        "  j = Jacobi_method(copy.deepcopy(matrix1_4), copy.deepcopy(matrix2_4), iterations[i], 0.0000000000001)\n",
        "  print(\"\\n\",'\\033[94m', iterations[i], \"iterations: \\n\", '\\033[0m', j, )\n",
        "  print('\\033[90m', \"Median of relative error:  \", '\\033[0m', s.median(relative_error(j, numpy)))"
      ],
      "execution_count": 3,
      "outputs": [
        {
          "output_type": "stream",
          "text": [
            "A: \n",
            " [[11.  -2.3  0.5 11. ]\n",
            " [ 1.  42.   4.5  0.6]\n",
            " [-2.   7.  20.   0.3]\n",
            " [-5.   1.   9.  26. ]]\n",
            "B: \n",
            " [ 6.  6.  2. 20.]\n",
            "numpy solution:\n",
            "  [-0.15316795  0.13323193  0.02717336  0.72524493]\n",
            "\u001b[91m \n",
            "Jacobi method: \n",
            "\n",
            " \u001b[94m 5 iterations: \n",
            " \u001b[0m [-0.12904585  0.13379769  0.02937436  0.73365731]\n",
            "\u001b[90m Median of relative error:   \u001b[0m 0.04629891305469469\n",
            "\n",
            " \u001b[94m 10 iterations: \n",
            " \u001b[0m [-0.15373653  0.13318992  0.02723328  0.72531102]\n",
            "\u001b[90m Median of relative error:   \u001b[0m 0.0012603132360158847\n",
            "\n",
            " \u001b[94m 40 iterations: \n",
            " \u001b[0m [-0.15316795  0.13323193  0.02717336  0.72524493]\n",
            "\u001b[90m Median of relative error:   \u001b[0m 4.952289567524091e-14\n",
            "\n",
            " \u001b[94m 100 iterations: \n",
            " \u001b[0m [-0.15316795  0.13323193  0.02717336  0.72524493]\n",
            "\u001b[90m Median of relative error:   \u001b[0m 2.2999106685219785e-14\n"
          ],
          "name": "stdout"
        }
      ]
    },
    {
      "cell_type": "code",
      "metadata": {
        "id": "Ivv6jXkQ7A2k",
        "colab_type": "code",
        "outputId": "06a808e5-ba80-4fa9-cda2-6c1096e18900",
        "colab": {
          "base_uri": "https://localhost:8080/",
          "height": 532
        }
      },
      "source": [
        "matrix1_6 = np.array([[100.0, -1.0, 2.0, -3.0, 11.0 , 0.9], [1.0, 200.0, -4.0, 5.0, 12.5, -2.9], [-2.0, 4.0, 300.0, -6.0, 16.7, - 41.0], [3.0, -5.0, 6.0, 400.0, 0.9, -21.0],\n",
        "                    [41.0, -35.0, 6.0, 21.0, 180.9, -1.0], [3.0, -5.0, 6.0, 9.0, 0.9, -2001.0]]).reshape(6, 6)\n",
        "matrix2_6 = np.array([16.0, -26.0, 12.0, -174.0, 21.0, 89.0])\n",
        "print(\"A: \\n\",matrix1_6)\n",
        "print(\"B: \\n\",matrix2_6)\n",
        "numpy = np.linalg.solve(matrix1_6, matrix2_6)\n",
        "print(\"numpy solution:\\n \", numpy)\n",
        "print('\\033[91m',\"\\nJacobi method: \")\n",
        "for i in range(len(iterations)):\n",
        "  j = Jacobi_method(copy.deepcopy(matrix1_6), copy.deepcopy(matrix2_6), iterations[i], 0.0000000000001)\n",
        "  print(\"\\n\",'\\033[94m', iterations[i], \"iterations: \\n\", '\\033[0m', j, )\n",
        "  print('\\033[90m', \"Median of relative error:  \", '\\033[0m', s.median(relative_error(j, numpy)))"
      ],
      "execution_count": 4,
      "outputs": [
        {
          "output_type": "stream",
          "text": [
            "A: \n",
            " [[ 1.000e+02 -1.000e+00  2.000e+00 -3.000e+00  1.100e+01  9.000e-01]\n",
            " [ 1.000e+00  2.000e+02 -4.000e+00  5.000e+00  1.250e+01 -2.900e+00]\n",
            " [-2.000e+00  4.000e+00  3.000e+02 -6.000e+00  1.670e+01 -4.100e+01]\n",
            " [ 3.000e+00 -5.000e+00  6.000e+00  4.000e+02  9.000e-01 -2.100e+01]\n",
            " [ 4.100e+01 -3.500e+01  6.000e+00  2.100e+01  1.809e+02 -1.000e+00]\n",
            " [ 3.000e+00 -5.000e+00  6.000e+00  9.000e+00  9.000e-01 -2.001e+03]]\n",
            "B: \n",
            " [  16.  -26.   12. -174.   21.   89.]\n",
            "numpy solution:\n",
            "  [ 0.13323294 -0.12686123  0.02129683 -0.4405614   0.11152839 -0.04582853]\n",
            "\u001b[91m \n",
            "Jacobi method: \n",
            "\n",
            " \u001b[94m 5 iterations: \n",
            " \u001b[0m [ 0.133245   -0.12685425  0.02130297 -0.44056082  0.11153346 -0.04582867]\n",
            "\u001b[90m Median of relative error:   \u001b[0m 5.020011114705853e-05\n",
            "\n",
            " \u001b[94m 10 iterations: \n",
            " \u001b[0m [ 0.13323294 -0.12686123  0.02129683 -0.4405614   0.11152839 -0.04582853]\n",
            "\u001b[90m Median of relative error:   \u001b[0m 1.3072842659262236e-09\n",
            "\n",
            " \u001b[94m 40 iterations: \n",
            " \u001b[0m [ 0.13323294 -0.12686123  0.02129683 -0.4405614   0.11152839 -0.04582853]\n",
            "\u001b[90m Median of relative error:   \u001b[0m 7.312725387714325e-15\n",
            "\n",
            " \u001b[94m 100 iterations: \n",
            " \u001b[0m [ 0.13323294 -0.12686123  0.02129683 -0.4405614   0.11152839 -0.04582853]\n",
            "\u001b[90m Median of relative error:   \u001b[0m 7.312725387714325e-15\n"
          ],
          "name": "stdout"
        }
      ]
    },
    {
      "cell_type": "code",
      "metadata": {
        "id": "hG2aitRE7GrP",
        "colab_type": "code",
        "outputId": "ebc10d76-f8a2-4282-a98c-6fe6ce4aab2e",
        "colab": {
          "base_uri": "https://localhost:8080/",
          "height": 924
        }
      },
      "source": [
        "matrix1_11 = np.array([[1123.0, 3.3, 4.0, 11.0, 123.0, 100.0, -1.0, 2.0, -3.0, 11.0 , 0.9], [15.0, 6800.0, -23.0, 1.0, 11.0, 41.0, -35.0, 6.0, 21.0, 180.9, -1.0], \n",
        "                    [-13.0, 12.0, 7198.0, 30.0, -5.0, 3.0, -5.0, 6.0, 9.0, 0.9, -201.0], [-3.3, 9.0, 15.0, 980, 9.9, 100.0, -1.0, 2.0, -3.0, 11.0 , 0.9],\n",
        "                    [11, 0.3, 4.2, 5.0, 4421.1, 3.0, -5.0, 6.0, 400.0, 0.9, -21.0], [11, 3.0, 4.2, 25.0, 3.0, 3211.0, -85.0, 6.0, 41.0, 0.9, -1.0],\n",
        "                    [-13.0, 12.0, 8.0, 30.0, -5.0, 3.0, -3225.0, 60.0, -9.0, 0.9, 9.0], [-43.0, 12.0, 7.0, 30.0, -5.0, 3.0, 6.0, 3218.0,  9.0, 0.9, -2.0],\n",
        "                    [-13.0, 12.0, -8.0, 30.0, -5.0, 3.0, -5.0,  9.0, 6099.0, 0.9, -1.0], [-13.0, 12.0, 71.0, 30.0, -5.0, 3.0, -25.0, 6.0, 0.9, 8819.0, 5.0],\n",
        "                    [-13.0, 12.0, 7198.0, 30.0, -5.0, 3.0, -5.0, 6.0, 9.0, 0.9, 9801.0]]).reshape(11, 11)\n",
        "matrix2_11 = np.array([11.0, 43.1, 321.0, 16.0, -26.0, 12.0, -174.0, 16.0, 890.0, 321.0, 998.0])\n",
        "print(\"A: \\n\",matrix1_11)\n",
        "print(\"B: \\n\",matrix2_11)\n",
        "numpy = np.linalg.solve(matrix1_11, matrix2_11)\n",
        "print(\"numpy solution:\\n \", numpy)\n",
        "print('\\033[91m', \"\\nJacobi method: \")\n",
        "for i in range(len(iterations)):\n",
        "  j = Jacobi_method(copy.deepcopy(matrix1_11), copy.deepcopy(matrix2_11), iterations[i], 0.0000000000001)\n",
        "  print(\"\\n\",'\\033[94m', iterations[i], \"iterations: \\n\", '\\033[0m', j, )\n",
        "  print('\\033[90m', \"Median of relative error:  \", '\\033[0m', s.median(relative_error(j, numpy)))"
      ],
      "execution_count": 5,
      "outputs": [
        {
          "output_type": "stream",
          "text": [
            "A: \n",
            " [[ 1.1230e+03  3.3000e+00  4.0000e+00  1.1000e+01  1.2300e+02  1.0000e+02\n",
            "  -1.0000e+00  2.0000e+00 -3.0000e+00  1.1000e+01  9.0000e-01]\n",
            " [ 1.5000e+01  6.8000e+03 -2.3000e+01  1.0000e+00  1.1000e+01  4.1000e+01\n",
            "  -3.5000e+01  6.0000e+00  2.1000e+01  1.8090e+02 -1.0000e+00]\n",
            " [-1.3000e+01  1.2000e+01  7.1980e+03  3.0000e+01 -5.0000e+00  3.0000e+00\n",
            "  -5.0000e+00  6.0000e+00  9.0000e+00  9.0000e-01 -2.0100e+02]\n",
            " [-3.3000e+00  9.0000e+00  1.5000e+01  9.8000e+02  9.9000e+00  1.0000e+02\n",
            "  -1.0000e+00  2.0000e+00 -3.0000e+00  1.1000e+01  9.0000e-01]\n",
            " [ 1.1000e+01  3.0000e-01  4.2000e+00  5.0000e+00  4.4211e+03  3.0000e+00\n",
            "  -5.0000e+00  6.0000e+00  4.0000e+02  9.0000e-01 -2.1000e+01]\n",
            " [ 1.1000e+01  3.0000e+00  4.2000e+00  2.5000e+01  3.0000e+00  3.2110e+03\n",
            "  -8.5000e+01  6.0000e+00  4.1000e+01  9.0000e-01 -1.0000e+00]\n",
            " [-1.3000e+01  1.2000e+01  8.0000e+00  3.0000e+01 -5.0000e+00  3.0000e+00\n",
            "  -3.2250e+03  6.0000e+01 -9.0000e+00  9.0000e-01  9.0000e+00]\n",
            " [-4.3000e+01  1.2000e+01  7.0000e+00  3.0000e+01 -5.0000e+00  3.0000e+00\n",
            "   6.0000e+00  3.2180e+03  9.0000e+00  9.0000e-01 -2.0000e+00]\n",
            " [-1.3000e+01  1.2000e+01 -8.0000e+00  3.0000e+01 -5.0000e+00  3.0000e+00\n",
            "  -5.0000e+00  9.0000e+00  6.0990e+03  9.0000e-01 -1.0000e+00]\n",
            " [-1.3000e+01  1.2000e+01  7.1000e+01  3.0000e+01 -5.0000e+00  3.0000e+00\n",
            "  -2.5000e+01  6.0000e+00  9.0000e-01  8.8190e+03  5.0000e+00]\n",
            " [-1.3000e+01  1.2000e+01  7.1980e+03  3.0000e+01 -5.0000e+00  3.0000e+00\n",
            "  -5.0000e+00  6.0000e+00  9.0000e+00  9.0000e-01  9.8010e+03]]\n",
            "B: \n",
            " [  11.    43.1  321.    16.   -26.    12.  -174.    16.   890.   321.\n",
            "  998. ]\n",
            "numpy solution:\n",
            "  [ 0.01126945  0.00535359  0.04626522  0.01550684 -0.01880833  0.00310102\n",
            "  0.0540916   0.00434827  0.14595022  0.03606818  0.06768646]\n",
            "\u001b[91m \n",
            "Jacobi method: \n",
            "\n",
            " \u001b[94m 5 iterations: \n",
            " \u001b[0m [ 0.01126988  0.00535351  0.04626455  0.01550716 -0.01880842  0.00310099\n",
            "  0.05409147  0.00434829  0.14595019  0.03606834  0.0677008 ]\n",
            "\u001b[90m Median of relative error:   \u001b[0m 9.927128371791282e-06\n",
            "\n",
            " \u001b[94m 10 iterations: \n",
            " \u001b[0m [ 0.01126945  0.00535359  0.04626522  0.01550684 -0.01880833  0.00310102\n",
            "  0.0540916   0.00434827  0.14595022  0.03606818  0.06768646]\n",
            "\u001b[90m Median of relative error:   \u001b[0m 3.109964377491197e-10\n",
            "\n",
            " \u001b[94m 40 iterations: \n",
            " \u001b[0m [ 0.01126945  0.00535359  0.04626522  0.01550684 -0.01880833  0.00310102\n",
            "  0.0540916   0.00434827  0.14595022  0.03606818  0.06768646]\n",
            "\u001b[90m Median of relative error:   \u001b[0m 2.5656088791635504e-15\n",
            "\n",
            " \u001b[94m 100 iterations: \n",
            " \u001b[0m [ 0.01126945  0.00535359  0.04626522  0.01550684 -0.01880833  0.00310102\n",
            "  0.0540916   0.00434827  0.14595022  0.03606818  0.06768646]\n",
            "\u001b[90m Median of relative error:   \u001b[0m 2.5656088791635504e-15\n"
          ],
          "name": "stdout"
        }
      ]
    },
    {
      "cell_type": "markdown",
      "metadata": {
        "id": "C53GtrDvXKnl",
        "colab_type": "text"
      },
      "source": [
        "# Zadanie 2\n",
        "Zaimplementuj metodę Gaussa-Seidla "
      ]
    },
    {
      "cell_type": "markdown",
      "metadata": {
        "id": "Cyu92REMAgrf",
        "colab_type": "text"
      },
      "source": [
        "Jeśli macierz  A jest diagonalnie dominująca, to metoda Gaussa--Seidela jest zbieżna dla dowolnego wektora startowego"
      ]
    },
    {
      "cell_type": "code",
      "metadata": {
        "id": "qeKXvD3b8juI",
        "colab_type": "code",
        "colab": {}
      },
      "source": [
        "def Gauss_Seidel(A, B, max_iter, epsilon):\n",
        "  DL = np.tril(A)\n",
        "  U = A - DL\n",
        "  try:\n",
        "    DL_inv = np.linalg.inv(DL)\n",
        "  except: \n",
        "     print(\"Matrix is not invertible\")\n",
        "     return\n",
        "  X = np.zeros_like(B)\n",
        "  for i in range(max_iter):\n",
        "    X_new = np.zeros_like(X)\n",
        "    X_new = np.dot(DL_inv, B - np.dot(U, X))\n",
        "    if np.linalg.norm(X_new - X) < epsilon:\n",
        "            return X_new\n",
        "    X = X_new\n",
        "  return X"
      ],
      "execution_count": 0,
      "outputs": []
    },
    {
      "cell_type": "code",
      "metadata": {
        "id": "wb7ozJVpHrGY",
        "colab_type": "code",
        "outputId": "23d1fc10-c4f6-4349-d0eb-dd5589239936",
        "colab": {
          "base_uri": "https://localhost:8080/",
          "height": 497
        }
      },
      "source": [
        "print(\"A: \\n\",matrix1_4)\n",
        "print(\"B: \\n\",matrix2_4)\n",
        "numpy = np.linalg.solve(matrix1_4, matrix2_4)\n",
        "print(\"numpy solution:\\n \", numpy)\n",
        "iterations = [5, 10, 40, 100]\n",
        "print('\\033[91m',\"\\nGauss-Seidel method: \")\n",
        "for i in range(len(iterations)):\n",
        "  j = Gauss_Seidel(copy.deepcopy(matrix1_4), copy.deepcopy(matrix2_4), iterations[i], 0.0000000000001)\n",
        "  print(\"\\n\",'\\033[94m', iterations[i], \"iterations: \\n\", '\\033[0m', j, )\n",
        "  print('\\033[90m', \"Median of relative error:  \", '\\033[0m', s.median(relative_error(j, numpy)))"
      ],
      "execution_count": 7,
      "outputs": [
        {
          "output_type": "stream",
          "text": [
            "A: \n",
            " [[11.  -2.3  0.5 11. ]\n",
            " [ 1.  42.   4.5  0.6]\n",
            " [-2.   7.  20.   0.3]\n",
            " [-5.   1.   9.  26. ]]\n",
            "B: \n",
            " [ 6.  6.  2. 20.]\n",
            "numpy solution:\n",
            "  [-0.15316795  0.13323193  0.02717336  0.72524493]\n",
            "\u001b[91m \n",
            "Gauss-Seidel method: \n",
            "\n",
            " \u001b[94m 5 iterations: \n",
            " \u001b[0m [-0.15280393  0.13325354  0.02720796  0.72530212]\n",
            "\u001b[90m Median of relative error:   \u001b[0m 0.0007177749795263399\n",
            "\n",
            " \u001b[94m 10 iterations: \n",
            " \u001b[0m [-0.15316798  0.13323192  0.02717335  0.72524492]\n",
            "\u001b[90m Median of relative error:   \u001b[0m 5.271097163613712e-08\n",
            "\n",
            " \u001b[94m 40 iterations: \n",
            " \u001b[0m [-0.15316795  0.13323193  0.02717336  0.72524493]\n",
            "\u001b[90m Median of relative error:   \u001b[0m 1.2438607204464262e-14\n",
            "\n",
            " \u001b[94m 100 iterations: \n",
            " \u001b[0m [-0.15316795  0.13323193  0.02717336  0.72524493]\n",
            "\u001b[90m Median of relative error:   \u001b[0m 1.2438607204464262e-14\n"
          ],
          "name": "stdout"
        }
      ]
    },
    {
      "cell_type": "code",
      "metadata": {
        "id": "M23x4E11IEh8",
        "colab_type": "code",
        "outputId": "f56b48b5-4149-43a8-8a7d-6747a9fd8ae7",
        "colab": {
          "base_uri": "https://localhost:8080/",
          "height": 532
        }
      },
      "source": [
        "print(\"A: \\n\",matrix1_6)\n",
        "print(\"B: \\n\",matrix2_6)\n",
        "numpy = np.linalg.solve(matrix1_6, matrix2_6)\n",
        "print(\"numpy solution:\\n \", numpy)\n",
        "print('\\033[91m',\"\\nGauss-Seidel method: \")\n",
        "for i in range(len(iterations)):\n",
        "  j = Gauss_Seidel(copy.deepcopy(matrix1_6), copy.deepcopy(matrix2_6), iterations[i], 0.0000000000001)\n",
        "  print(\"\\n\",'\\033[94m', iterations[i], \"iterations: \\n\", '\\033[0m', j, )\n",
        "  print('\\033[90m', \"Median of relative error:  \", '\\033[0m', s.median(relative_error(j, numpy)))"
      ],
      "execution_count": 8,
      "outputs": [
        {
          "output_type": "stream",
          "text": [
            "A: \n",
            " [[ 1.000e+02 -1.000e+00  2.000e+00 -3.000e+00  1.100e+01  9.000e-01]\n",
            " [ 1.000e+00  2.000e+02 -4.000e+00  5.000e+00  1.250e+01 -2.900e+00]\n",
            " [-2.000e+00  4.000e+00  3.000e+02 -6.000e+00  1.670e+01 -4.100e+01]\n",
            " [ 3.000e+00 -5.000e+00  6.000e+00  4.000e+02  9.000e-01 -2.100e+01]\n",
            " [ 4.100e+01 -3.500e+01  6.000e+00  2.100e+01  1.809e+02 -1.000e+00]\n",
            " [ 3.000e+00 -5.000e+00  6.000e+00  9.000e+00  9.000e-01 -2.001e+03]]\n",
            "B: \n",
            " [  16.  -26.   12. -174.   21.   89.]\n",
            "numpy solution:\n",
            "  [ 0.13323294 -0.12686123  0.02129683 -0.4405614   0.11152839 -0.04582853]\n",
            "\u001b[91m \n",
            "Gauss-Seidel method: \n",
            "\n",
            " \u001b[94m 5 iterations: \n",
            " \u001b[0m [ 0.13323294 -0.12686123  0.02129683 -0.4405614   0.11152839 -0.04582853]\n",
            "\u001b[90m Median of relative error:   \u001b[0m 3.4278778241656495e-09\n",
            "\n",
            " \u001b[94m 10 iterations: \n",
            " \u001b[0m [ 0.13323294 -0.12686123  0.02129683 -0.4405614   0.11152839 -0.04582853]\n",
            "\u001b[90m Median of relative error:   \u001b[0m 4.369182843591023e-16\n",
            "\n",
            " \u001b[94m 40 iterations: \n",
            " \u001b[0m [ 0.13323294 -0.12686123  0.02129683 -0.4405614   0.11152839 -0.04582853]\n",
            "\u001b[90m Median of relative error:   \u001b[0m 4.369182843591023e-16\n",
            "\n",
            " \u001b[94m 100 iterations: \n",
            " \u001b[0m [ 0.13323294 -0.12686123  0.02129683 -0.4405614   0.11152839 -0.04582853]\n",
            "\u001b[90m Median of relative error:   \u001b[0m 4.369182843591023e-16\n"
          ],
          "name": "stdout"
        }
      ]
    },
    {
      "cell_type": "code",
      "metadata": {
        "id": "VLeEUIWQIBw6",
        "colab_type": "code",
        "outputId": "1173ec1a-ebd3-4dcc-8d45-8376fe78a647",
        "colab": {
          "base_uri": "https://localhost:8080/",
          "height": 924
        }
      },
      "source": [
        "print(\"A: \\n\",matrix1_11)\n",
        "print(\"B: \\n\",matrix2_11)\n",
        "numpy = np.linalg.solve(matrix1_11, matrix2_11)\n",
        "print(\"numpy solution:\\n \", numpy)\n",
        "print('\\033[91m',\"\\nGauss-Seidel method: \")\n",
        "for i in range(len(iterations)):\n",
        "  j = Gauss_Seidel(copy.deepcopy(matrix1_11), copy.deepcopy(matrix2_11), iterations[i], 0.0000000000001)\n",
        "  print(\"\\n\",'\\033[94m', iterations[i], \"iterations: \\n\", '\\033[0m', j, )\n",
        "  print('\\033[90m', \"Median of relative error:  \", '\\033[0m', s.median(relative_error(j, numpy)))"
      ],
      "execution_count": 9,
      "outputs": [
        {
          "output_type": "stream",
          "text": [
            "A: \n",
            " [[ 1.1230e+03  3.3000e+00  4.0000e+00  1.1000e+01  1.2300e+02  1.0000e+02\n",
            "  -1.0000e+00  2.0000e+00 -3.0000e+00  1.1000e+01  9.0000e-01]\n",
            " [ 1.5000e+01  6.8000e+03 -2.3000e+01  1.0000e+00  1.1000e+01  4.1000e+01\n",
            "  -3.5000e+01  6.0000e+00  2.1000e+01  1.8090e+02 -1.0000e+00]\n",
            " [-1.3000e+01  1.2000e+01  7.1980e+03  3.0000e+01 -5.0000e+00  3.0000e+00\n",
            "  -5.0000e+00  6.0000e+00  9.0000e+00  9.0000e-01 -2.0100e+02]\n",
            " [-3.3000e+00  9.0000e+00  1.5000e+01  9.8000e+02  9.9000e+00  1.0000e+02\n",
            "  -1.0000e+00  2.0000e+00 -3.0000e+00  1.1000e+01  9.0000e-01]\n",
            " [ 1.1000e+01  3.0000e-01  4.2000e+00  5.0000e+00  4.4211e+03  3.0000e+00\n",
            "  -5.0000e+00  6.0000e+00  4.0000e+02  9.0000e-01 -2.1000e+01]\n",
            " [ 1.1000e+01  3.0000e+00  4.2000e+00  2.5000e+01  3.0000e+00  3.2110e+03\n",
            "  -8.5000e+01  6.0000e+00  4.1000e+01  9.0000e-01 -1.0000e+00]\n",
            " [-1.3000e+01  1.2000e+01  8.0000e+00  3.0000e+01 -5.0000e+00  3.0000e+00\n",
            "  -3.2250e+03  6.0000e+01 -9.0000e+00  9.0000e-01  9.0000e+00]\n",
            " [-4.3000e+01  1.2000e+01  7.0000e+00  3.0000e+01 -5.0000e+00  3.0000e+00\n",
            "   6.0000e+00  3.2180e+03  9.0000e+00  9.0000e-01 -2.0000e+00]\n",
            " [-1.3000e+01  1.2000e+01 -8.0000e+00  3.0000e+01 -5.0000e+00  3.0000e+00\n",
            "  -5.0000e+00  9.0000e+00  6.0990e+03  9.0000e-01 -1.0000e+00]\n",
            " [-1.3000e+01  1.2000e+01  7.1000e+01  3.0000e+01 -5.0000e+00  3.0000e+00\n",
            "  -2.5000e+01  6.0000e+00  9.0000e-01  8.8190e+03  5.0000e+00]\n",
            " [-1.3000e+01  1.2000e+01  7.1980e+03  3.0000e+01 -5.0000e+00  3.0000e+00\n",
            "  -5.0000e+00  6.0000e+00  9.0000e+00  9.0000e-01  9.8010e+03]]\n",
            "B: \n",
            " [  11.    43.1  321.    16.   -26.    12.  -174.    16.   890.   321.\n",
            "  998. ]\n",
            "numpy solution:\n",
            "  [ 0.01126945  0.00535359  0.04626522  0.01550684 -0.01880833  0.00310102\n",
            "  0.0540916   0.00434827  0.14595022  0.03606818  0.06768646]\n",
            "\u001b[91m \n",
            "Gauss-Seidel method: \n",
            "\n",
            " \u001b[94m 5 iterations: \n",
            " \u001b[0m [ 0.01126946  0.00535359  0.04626522  0.01550684 -0.01880833  0.00310102\n",
            "  0.0540916   0.00434827  0.14595022  0.03606818  0.06768646]\n",
            "\u001b[90m Median of relative error:   \u001b[0m 1.6070287993964497e-09\n",
            "\n",
            " \u001b[94m 10 iterations: \n",
            " \u001b[0m [ 0.01126945  0.00535359  0.04626522  0.01550684 -0.01880833  0.00310102\n",
            "  0.0540916   0.00434827  0.14595022  0.03606818  0.06768646]\n",
            "\u001b[90m Median of relative error:   \u001b[0m 4.1006095614109364e-16\n",
            "\n",
            " \u001b[94m 40 iterations: \n",
            " \u001b[0m [ 0.01126945  0.00535359  0.04626522  0.01550684 -0.01880833  0.00310102\n",
            "  0.0540916   0.00434827  0.14595022  0.03606818  0.06768646]\n",
            "\u001b[90m Median of relative error:   \u001b[0m 4.1006095614109364e-16\n",
            "\n",
            " \u001b[94m 100 iterations: \n",
            " \u001b[0m [ 0.01126945  0.00535359  0.04626522  0.01550684 -0.01880833  0.00310102\n",
            "  0.0540916   0.00434827  0.14595022  0.03606818  0.06768646]\n",
            "\u001b[90m Median of relative error:   \u001b[0m 4.1006095614109364e-16\n"
          ],
          "name": "stdout"
        }
      ]
    },
    {
      "cell_type": "markdown",
      "metadata": {
        "id": "EVVaV5RSi14X",
        "colab_type": "text"
      },
      "source": [
        "### Zaimplementuj metodę kolejnych nadrelaksacji (successive over-relaxation)"
      ]
    },
    {
      "cell_type": "code",
      "metadata": {
        "id": "9mBFoAHHfBga",
        "colab_type": "code",
        "colab": {}
      },
      "source": [
        "def SOR(A, B, max_iter, epsilon, omega):\n",
        "  D = np.diag(np.diag(A))\n",
        "  L = np.tril(A - D)\n",
        "  U = A - D - L\n",
        "  try:\n",
        "    D_inv = np.linalg.inv(D)\n",
        "  except: \n",
        "     print(\"Matrix is not invertible\")\n",
        "     return\n",
        "  D_inv_omega = np.dot(D_inv, omega)\n",
        "  X = np.zeros_like(B)\n",
        "  for i in range(max_iter):\n",
        "    X_new = np.zeros_like(X)\n",
        "    X_new = np.add(np.dot((1- omega), X), np.dot(D_inv_omega, B - np.dot(L, X) - np.dot(U, X)))\n",
        "    if np.linalg.norm(X_new - X) < epsilon:\n",
        "            return X_new\n",
        "    X = X_new\n",
        "  return X"
      ],
      "execution_count": 0,
      "outputs": []
    },
    {
      "cell_type": "code",
      "metadata": {
        "id": "WwUq1yuI2t-L",
        "colab_type": "code",
        "outputId": "aae33d98-758a-4cc8-cf9e-e6a06b813002",
        "colab": {
          "base_uri": "https://localhost:8080/",
          "height": 497
        }
      },
      "source": [
        "print(\"A: \\n\",matrix1_4)\n",
        "print(\"B: \\n\",matrix2_4)\n",
        "numpy = np.linalg.solve(matrix1_4, matrix2_4)\n",
        "print(\"numpy solution:\\n \", numpy)\n",
        "iterations = [5, 10, 40, 100]\n",
        "print('\\033[91m',\"\\nSuccessive over-relaxation method: \")\n",
        "for i in range(len(iterations)):\n",
        "  j = SOR(copy.deepcopy(matrix1_4), copy.deepcopy(matrix2_4), iterations[i], 0.0000000000001, 1.2)\n",
        "  print(\"\\n\",'\\033[94m', iterations[i], \"iterations: \\n\", '\\033[0m', j, )\n",
        "  print('\\033[90m', \"Median of relative error:  \", '\\033[0m', s.median(relative_error(j, numpy)))"
      ],
      "execution_count": 11,
      "outputs": [
        {
          "output_type": "stream",
          "text": [
            "A: \n",
            " [[11.  -2.3  0.5 11. ]\n",
            " [ 1.  42.   4.5  0.6]\n",
            " [-2.   7.  20.   0.3]\n",
            " [-5.   1.   9.  26. ]]\n",
            "B: \n",
            " [ 6.  6.  2. 20.]\n",
            "numpy solution:\n",
            "  [-0.15316795  0.13323193  0.02717336  0.72524493]\n",
            "\u001b[91m \n",
            "Successive over-relaxation method: \n",
            "\n",
            " \u001b[94m 5 iterations: \n",
            " \u001b[0m [-0.22194573  0.12635736  0.04542782  0.76112991]\n",
            "\u001b[90m Median of relative error:   \u001b[0m 0.2503167654540145\n",
            "\n",
            " \u001b[94m 10 iterations: \n",
            " \u001b[0m [-0.14343998  0.13387672  0.02642028  0.72482282]\n",
            "\u001b[90m Median of relative error:   \u001b[0m 0.01627675819969099\n",
            "\n",
            " \u001b[94m 40 iterations: \n",
            " \u001b[0m [-0.15316795  0.13323193  0.02717336  0.72524493]\n",
            "\u001b[90m Median of relative error:   \u001b[0m 6.798964117701983e-09\n",
            "\n",
            " \u001b[94m 100 iterations: \n",
            " \u001b[0m [-0.15316795  0.13323193  0.02717336  0.72524493]\n",
            "\u001b[90m Median of relative error:   \u001b[0m 5.6060484578738164e-14\n"
          ],
          "name": "stdout"
        }
      ]
    },
    {
      "cell_type": "code",
      "metadata": {
        "id": "oI0-mpPJ2-yj",
        "colab_type": "code",
        "outputId": "1f8127aa-7f15-4366-a3e8-f15330e1e3b2",
        "colab": {
          "base_uri": "https://localhost:8080/",
          "height": 532
        }
      },
      "source": [
        "print(\"A: \\n\",matrix1_6)\n",
        "print(\"B: \\n\",matrix2_6)\n",
        "numpy = np.linalg.solve(matrix1_6, matrix2_6)\n",
        "print(\"numpy solution:\\n \", numpy)\n",
        "print('\\033[91m',\"\\nSuccessive over-relaxation method: \")\n",
        "for i in range(len(iterations)):\n",
        "  j = SOR(copy.deepcopy(matrix1_6), copy.deepcopy(matrix2_6), iterations[i], 0.0000000000001, 1.2)\n",
        "  print(\"\\n\",'\\033[94m', iterations[i], \"iterations: \\n\", '\\033[0m', j, )\n",
        "  print('\\033[90m', \"Median of relative error:  \", '\\033[0m', s.median(relative_error(j, numpy)))"
      ],
      "execution_count": 12,
      "outputs": [
        {
          "output_type": "stream",
          "text": [
            "A: \n",
            " [[ 1.000e+02 -1.000e+00  2.000e+00 -3.000e+00  1.100e+01  9.000e-01]\n",
            " [ 1.000e+00  2.000e+02 -4.000e+00  5.000e+00  1.250e+01 -2.900e+00]\n",
            " [-2.000e+00  4.000e+00  3.000e+02 -6.000e+00  1.670e+01 -4.100e+01]\n",
            " [ 3.000e+00 -5.000e+00  6.000e+00  4.000e+02  9.000e-01 -2.100e+01]\n",
            " [ 4.100e+01 -3.500e+01  6.000e+00  2.100e+01  1.809e+02 -1.000e+00]\n",
            " [ 3.000e+00 -5.000e+00  6.000e+00  9.000e+00  9.000e-01 -2.001e+03]]\n",
            "B: \n",
            " [  16.  -26.   12. -174.   21.   89.]\n",
            "numpy solution:\n",
            "  [ 0.13323294 -0.12686123  0.02129683 -0.4405614   0.11152839 -0.04582853]\n",
            "\u001b[91m \n",
            "Successive over-relaxation method: \n",
            "\n",
            " \u001b[94m 5 iterations: \n",
            " \u001b[0m [ 0.13428537 -0.12652197  0.02180192 -0.44056252  0.11289013 -0.04585266]\n",
            "\u001b[90m Median of relative error:   \u001b[0m 0.0052867041718578115\n",
            "\n",
            " \u001b[94m 10 iterations: \n",
            " \u001b[0m [ 0.13322597 -0.1268649   0.02129332 -0.44056202  0.11152022 -0.04582839]\n",
            "\u001b[90m Median of relative error:   \u001b[0m 4.061741355447042e-05\n",
            "\n",
            " \u001b[94m 40 iterations: \n",
            " \u001b[0m [ 0.13323294 -0.12686123  0.02129683 -0.4405614   0.11152839 -0.04582853]\n",
            "\u001b[90m Median of relative error:   \u001b[0m 4.239716017388737e-14\n",
            "\n",
            " \u001b[94m 100 iterations: \n",
            " \u001b[0m [ 0.13323294 -0.12686123  0.02129683 -0.4405614   0.11152839 -0.04582853]\n",
            "\u001b[90m Median of relative error:   \u001b[0m 4.239716017388737e-14\n"
          ],
          "name": "stdout"
        }
      ]
    },
    {
      "cell_type": "code",
      "metadata": {
        "id": "q-i9d3baKHoM",
        "colab_type": "code",
        "outputId": "dc724298-1176-41f0-f336-3ba6e34d6f47",
        "colab": {
          "base_uri": "https://localhost:8080/",
          "height": 924
        }
      },
      "source": [
        "print(\"A: \\n\",matrix1_11)\n",
        "print(\"B: \\n\",matrix2_11)\n",
        "numpy = np.linalg.solve(matrix1_11, matrix2_11)\n",
        "print(\"numpy solution:\\n \", numpy)\n",
        "print('\\033[91m',\"\\nSuccessive over-relaxation method: \")\n",
        "for i in range(len(iterations)):\n",
        "  j = SOR(copy.deepcopy(matrix1_11), copy.deepcopy(matrix2_11), iterations[i], 0.0000000000001, 1.2)\n",
        "  print(\"\\n\",'\\033[94m', iterations[i], \"iterations: \\n\", '\\033[0m', j, )\n",
        "  print('\\033[90m', \"Median of relative error:  \", '\\033[0m', s.median(relative_error(j, numpy)))"
      ],
      "execution_count": 13,
      "outputs": [
        {
          "output_type": "stream",
          "text": [
            "A: \n",
            " [[ 1.1230e+03  3.3000e+00  4.0000e+00  1.1000e+01  1.2300e+02  1.0000e+02\n",
            "  -1.0000e+00  2.0000e+00 -3.0000e+00  1.1000e+01  9.0000e-01]\n",
            " [ 1.5000e+01  6.8000e+03 -2.3000e+01  1.0000e+00  1.1000e+01  4.1000e+01\n",
            "  -3.5000e+01  6.0000e+00  2.1000e+01  1.8090e+02 -1.0000e+00]\n",
            " [-1.3000e+01  1.2000e+01  7.1980e+03  3.0000e+01 -5.0000e+00  3.0000e+00\n",
            "  -5.0000e+00  6.0000e+00  9.0000e+00  9.0000e-01 -2.0100e+02]\n",
            " [-3.3000e+00  9.0000e+00  1.5000e+01  9.8000e+02  9.9000e+00  1.0000e+02\n",
            "  -1.0000e+00  2.0000e+00 -3.0000e+00  1.1000e+01  9.0000e-01]\n",
            " [ 1.1000e+01  3.0000e-01  4.2000e+00  5.0000e+00  4.4211e+03  3.0000e+00\n",
            "  -5.0000e+00  6.0000e+00  4.0000e+02  9.0000e-01 -2.1000e+01]\n",
            " [ 1.1000e+01  3.0000e+00  4.2000e+00  2.5000e+01  3.0000e+00  3.2110e+03\n",
            "  -8.5000e+01  6.0000e+00  4.1000e+01  9.0000e-01 -1.0000e+00]\n",
            " [-1.3000e+01  1.2000e+01  8.0000e+00  3.0000e+01 -5.0000e+00  3.0000e+00\n",
            "  -3.2250e+03  6.0000e+01 -9.0000e+00  9.0000e-01  9.0000e+00]\n",
            " [-4.3000e+01  1.2000e+01  7.0000e+00  3.0000e+01 -5.0000e+00  3.0000e+00\n",
            "   6.0000e+00  3.2180e+03  9.0000e+00  9.0000e-01 -2.0000e+00]\n",
            " [-1.3000e+01  1.2000e+01 -8.0000e+00  3.0000e+01 -5.0000e+00  3.0000e+00\n",
            "  -5.0000e+00  9.0000e+00  6.0990e+03  9.0000e-01 -1.0000e+00]\n",
            " [-1.3000e+01  1.2000e+01  7.1000e+01  3.0000e+01 -5.0000e+00  3.0000e+00\n",
            "  -2.5000e+01  6.0000e+00  9.0000e-01  8.8190e+03  5.0000e+00]\n",
            " [-1.3000e+01  1.2000e+01  7.1980e+03  3.0000e+01 -5.0000e+00  3.0000e+00\n",
            "  -5.0000e+00  6.0000e+00  9.0000e+00  9.0000e-01  9.8010e+03]]\n",
            "B: \n",
            " [  11.    43.1  321.    16.   -26.    12.  -174.    16.   890.   321.\n",
            "  998. ]\n",
            "numpy solution:\n",
            "  [ 0.01126945  0.00535359  0.04626522  0.01550684 -0.01880833  0.00310102\n",
            "  0.0540916   0.00434827  0.14595022  0.03606818  0.06768646]\n",
            "\u001b[91m \n",
            "Successive over-relaxation method: \n",
            "\n",
            " \u001b[94m 5 iterations: \n",
            " \u001b[0m [ 0.01142214  0.0053726   0.04621552  0.0155327  -0.01869704  0.00311408\n",
            "  0.0541072   0.0043421   0.14599588  0.03607703  0.06749497]\n",
            "\u001b[90m Median of relative error:   \u001b[0m 0.001667167943388255\n",
            "\n",
            " \u001b[94m 10 iterations: \n",
            " \u001b[0m [ 0.01126918  0.00535357  0.04626518  0.0155068  -0.01880842  0.003101\n",
            "  0.05409157  0.00434832  0.14595021  0.03606818  0.06768613]\n",
            "\u001b[90m Median of relative error:   \u001b[0m 3.1100295714032327e-06\n",
            "\n",
            " \u001b[94m 40 iterations: \n",
            " \u001b[0m [ 0.01126945  0.00535359  0.04626522  0.01550684 -0.01880833  0.00310102\n",
            "  0.0540916   0.00434827  0.14595022  0.03606818  0.06768646]\n",
            "\u001b[90m Median of relative error:   \u001b[0m 7.341641981041213e-14\n",
            "\n",
            " \u001b[94m 100 iterations: \n",
            " \u001b[0m [ 0.01126945  0.00535359  0.04626522  0.01550684 -0.01880833  0.00310102\n",
            "  0.0540916   0.00434827  0.14595022  0.03606818  0.06768646]\n",
            "\u001b[90m Median of relative error:   \u001b[0m 7.341641981041213e-14\n"
          ],
          "name": "stdout"
        }
      ]
    },
    {
      "cell_type": "markdown",
      "metadata": {
        "id": "vGBm_UNZq0JV",
        "colab_type": "text"
      },
      "source": [
        "### Porównaj zbieżność wszystkich trzech metod."
      ]
    },
    {
      "cell_type": "code",
      "metadata": {
        "id": "bJItB1bhq2De",
        "colab_type": "code",
        "outputId": "0ee148b8-b1d8-49ec-ff76-d44b3ecab817",
        "colab": {
          "base_uri": "https://localhost:8080/",
          "height": 1000
        }
      },
      "source": [
        "import statistics as s\n",
        "print(\"A: \\n\",matrix1_11)\n",
        "print(\"B: \\n\",matrix2_11)\n",
        "numpy = np.linalg.solve(matrix1_11, matrix2_11)\n",
        "print(\"numpy solution:\\n \", numpy)\n",
        "for i in range(len(iterations)):\n",
        "  print('\\033[91m',\"\\nJacobi method: \")\n",
        "  j = Jacobi_method(copy.deepcopy(matrix1_11), copy.deepcopy(matrix2_11), iterations[i], 0.0000000000001)\n",
        "  print('\\033[94m', iterations[i], \"iterations: \\n\", '\\033[0m', j )\n",
        "  print('\\033[90m', \"Median of relative error:  \", '\\033[0m', s.median(relative_error(j, numpy)))\n",
        "\n",
        "  print('\\033[91m',\"\\nGauss-Seidel method: \")\n",
        "  g = Gauss_Seidel(copy.deepcopy(matrix1_11), copy.deepcopy(matrix2_11), iterations[i], 0.0000000000001)\n",
        "  print('\\033[94m', iterations[i], \"iterations: \\n\", '\\033[0m', g )\n",
        "  print('\\033[90m', \"Median of relative error:  \", '\\033[0m', s.median(relative_error(g, numpy)))\n",
        "\n",
        "  print('\\033[91m',\"\\nSuccessive over-relaxation method: \")\n",
        "  j = SOR(copy.deepcopy(matrix1_11), copy.deepcopy(matrix2_11), iterations[i], 0.0000000000001, 1.2)\n",
        "  print('\\033[94m', iterations[i], \"iterations: \\n\", '\\033[0m', j, )\n",
        "  print('\\033[90m', \"Median of relative error:  \", '\\033[0m', s.median(relative_error(j, numpy)))"
      ],
      "execution_count": 14,
      "outputs": [
        {
          "output_type": "stream",
          "text": [
            "A: \n",
            " [[ 1.1230e+03  3.3000e+00  4.0000e+00  1.1000e+01  1.2300e+02  1.0000e+02\n",
            "  -1.0000e+00  2.0000e+00 -3.0000e+00  1.1000e+01  9.0000e-01]\n",
            " [ 1.5000e+01  6.8000e+03 -2.3000e+01  1.0000e+00  1.1000e+01  4.1000e+01\n",
            "  -3.5000e+01  6.0000e+00  2.1000e+01  1.8090e+02 -1.0000e+00]\n",
            " [-1.3000e+01  1.2000e+01  7.1980e+03  3.0000e+01 -5.0000e+00  3.0000e+00\n",
            "  -5.0000e+00  6.0000e+00  9.0000e+00  9.0000e-01 -2.0100e+02]\n",
            " [-3.3000e+00  9.0000e+00  1.5000e+01  9.8000e+02  9.9000e+00  1.0000e+02\n",
            "  -1.0000e+00  2.0000e+00 -3.0000e+00  1.1000e+01  9.0000e-01]\n",
            " [ 1.1000e+01  3.0000e-01  4.2000e+00  5.0000e+00  4.4211e+03  3.0000e+00\n",
            "  -5.0000e+00  6.0000e+00  4.0000e+02  9.0000e-01 -2.1000e+01]\n",
            " [ 1.1000e+01  3.0000e+00  4.2000e+00  2.5000e+01  3.0000e+00  3.2110e+03\n",
            "  -8.5000e+01  6.0000e+00  4.1000e+01  9.0000e-01 -1.0000e+00]\n",
            " [-1.3000e+01  1.2000e+01  8.0000e+00  3.0000e+01 -5.0000e+00  3.0000e+00\n",
            "  -3.2250e+03  6.0000e+01 -9.0000e+00  9.0000e-01  9.0000e+00]\n",
            " [-4.3000e+01  1.2000e+01  7.0000e+00  3.0000e+01 -5.0000e+00  3.0000e+00\n",
            "   6.0000e+00  3.2180e+03  9.0000e+00  9.0000e-01 -2.0000e+00]\n",
            " [-1.3000e+01  1.2000e+01 -8.0000e+00  3.0000e+01 -5.0000e+00  3.0000e+00\n",
            "  -5.0000e+00  9.0000e+00  6.0990e+03  9.0000e-01 -1.0000e+00]\n",
            " [-1.3000e+01  1.2000e+01  7.1000e+01  3.0000e+01 -5.0000e+00  3.0000e+00\n",
            "  -2.5000e+01  6.0000e+00  9.0000e-01  8.8190e+03  5.0000e+00]\n",
            " [-1.3000e+01  1.2000e+01  7.1980e+03  3.0000e+01 -5.0000e+00  3.0000e+00\n",
            "  -5.0000e+00  6.0000e+00  9.0000e+00  9.0000e-01  9.8010e+03]]\n",
            "B: \n",
            " [  11.    43.1  321.    16.   -26.    12.  -174.    16.   890.   321.\n",
            "  998. ]\n",
            "numpy solution:\n",
            "  [ 0.01126945  0.00535359  0.04626522  0.01550684 -0.01880833  0.00310102\n",
            "  0.0540916   0.00434827  0.14595022  0.03606818  0.06768646]\n",
            "\u001b[91m \n",
            "Jacobi method: \n",
            "\u001b[94m 5 iterations: \n",
            " \u001b[0m [ 0.01126988  0.00535351  0.04626455  0.01550716 -0.01880842  0.00310099\n",
            "  0.05409147  0.00434829  0.14595019  0.03606834  0.0677008 ]\n",
            "\u001b[90m Median of relative error:   \u001b[0m 9.927128371791282e-06\n",
            "\u001b[91m \n",
            "Gauss-Seidel method: \n",
            "\u001b[94m 5 iterations: \n",
            " \u001b[0m [ 0.01126946  0.00535359  0.04626522  0.01550684 -0.01880833  0.00310102\n",
            "  0.0540916   0.00434827  0.14595022  0.03606818  0.06768646]\n",
            "\u001b[90m Median of relative error:   \u001b[0m 1.6070287993964497e-09\n",
            "\u001b[91m \n",
            "Successive over-relaxation method: \n",
            "\u001b[94m 5 iterations: \n",
            " \u001b[0m [ 0.01142214  0.0053726   0.04621552  0.0155327  -0.01869704  0.00311408\n",
            "  0.0541072   0.0043421   0.14599588  0.03607703  0.06749497]\n",
            "\u001b[90m Median of relative error:   \u001b[0m 0.001667167943388255\n",
            "\u001b[91m \n",
            "Jacobi method: \n",
            "\u001b[94m 10 iterations: \n",
            " \u001b[0m [ 0.01126945  0.00535359  0.04626522  0.01550684 -0.01880833  0.00310102\n",
            "  0.0540916   0.00434827  0.14595022  0.03606818  0.06768646]\n",
            "\u001b[90m Median of relative error:   \u001b[0m 3.109964377491197e-10\n",
            "\u001b[91m \n",
            "Gauss-Seidel method: \n",
            "\u001b[94m 10 iterations: \n",
            " \u001b[0m [ 0.01126945  0.00535359  0.04626522  0.01550684 -0.01880833  0.00310102\n",
            "  0.0540916   0.00434827  0.14595022  0.03606818  0.06768646]\n",
            "\u001b[90m Median of relative error:   \u001b[0m 4.1006095614109364e-16\n",
            "\u001b[91m \n",
            "Successive over-relaxation method: \n",
            "\u001b[94m 10 iterations: \n",
            " \u001b[0m [ 0.01126918  0.00535357  0.04626518  0.0155068  -0.01880842  0.003101\n",
            "  0.05409157  0.00434832  0.14595021  0.03606818  0.06768613]\n",
            "\u001b[90m Median of relative error:   \u001b[0m 3.1100295714032327e-06\n",
            "\u001b[91m \n",
            "Jacobi method: \n",
            "\u001b[94m 40 iterations: \n",
            " \u001b[0m [ 0.01126945  0.00535359  0.04626522  0.01550684 -0.01880833  0.00310102\n",
            "  0.0540916   0.00434827  0.14595022  0.03606818  0.06768646]\n",
            "\u001b[90m Median of relative error:   \u001b[0m 2.5656088791635504e-15\n",
            "\u001b[91m \n",
            "Gauss-Seidel method: \n",
            "\u001b[94m 40 iterations: \n",
            " \u001b[0m [ 0.01126945  0.00535359  0.04626522  0.01550684 -0.01880833  0.00310102\n",
            "  0.0540916   0.00434827  0.14595022  0.03606818  0.06768646]\n",
            "\u001b[90m Median of relative error:   \u001b[0m 4.1006095614109364e-16\n",
            "\u001b[91m \n",
            "Successive over-relaxation method: \n",
            "\u001b[94m 40 iterations: \n",
            " \u001b[0m [ 0.01126945  0.00535359  0.04626522  0.01550684 -0.01880833  0.00310102\n",
            "  0.0540916   0.00434827  0.14595022  0.03606818  0.06768646]\n",
            "\u001b[90m Median of relative error:   \u001b[0m 7.341641981041213e-14\n",
            "\u001b[91m \n",
            "Jacobi method: \n",
            "\u001b[94m 100 iterations: \n",
            " \u001b[0m [ 0.01126945  0.00535359  0.04626522  0.01550684 -0.01880833  0.00310102\n",
            "  0.0540916   0.00434827  0.14595022  0.03606818  0.06768646]\n",
            "\u001b[90m Median of relative error:   \u001b[0m 2.5656088791635504e-15\n",
            "\u001b[91m \n",
            "Gauss-Seidel method: \n",
            "\u001b[94m 100 iterations: \n",
            " \u001b[0m [ 0.01126945  0.00535359  0.04626522  0.01550684 -0.01880833  0.00310102\n",
            "  0.0540916   0.00434827  0.14595022  0.03606818  0.06768646]\n",
            "\u001b[90m Median of relative error:   \u001b[0m 4.1006095614109364e-16\n",
            "\u001b[91m \n",
            "Successive over-relaxation method: \n",
            "\u001b[94m 100 iterations: \n",
            " \u001b[0m [ 0.01126945  0.00535359  0.04626522  0.01550684 -0.01880833  0.00310102\n",
            "  0.0540916   0.00434827  0.14595022  0.03606818  0.06768646]\n",
            "\u001b[90m Median of relative error:   \u001b[0m 7.341641981041213e-14\n"
          ],
          "name": "stdout"
        }
      ]
    },
    {
      "cell_type": "code",
      "metadata": {
        "id": "E-MP6724vsLP",
        "colab_type": "code",
        "outputId": "f3b7d7d9-c3a8-4122-c107-f2c11f4f908a",
        "colab": {
          "base_uri": "https://localhost:8080/",
          "height": 1000
        }
      },
      "source": [
        "import statistics as s\n",
        "matrix1_100 = np.random.rand(100, 100) + np.identity(100)*100\n",
        "matrix2_100 = np.random.rand(100, 1)\n",
        "#for i in range(len(matrix1_100)): \n",
        "#  matrix1_100[i][i] += 100\n",
        "numpy = np.linalg.solve(matrix1_100, matrix2_100)\n",
        "for i in range(len(iterations)):\n",
        "  print(\"\\n\\n\\n\", '\\033[94m', iterations[i], \"iterations: \\n\", '\\033[0m' )\n",
        "  print('\\033[91m',\"\\nJacobi method: \")\n",
        "  j = Jacobi_method(copy.deepcopy(matrix1_100), copy.deepcopy(matrix2_100), iterations[i], 0.0000000000001)\n",
        "  \n",
        "  print('\\033[90m', \"Median of relative error:  \", '\\033[0m', s.median(relative_error(j, numpy)))\n",
        "\n",
        "  print('\\033[91m',\"\\nGauss-Seidel method: \")\n",
        "  g = Gauss_Seidel(copy.deepcopy(matrix1_100), copy.deepcopy(matrix2_100), iterations[i], 0.0000000000001)\n",
        "  print('\\033[90m', \"Median of relative error:  \", '\\033[0m', s.median(relative_error(g, numpy)))\n",
        "\n",
        "  print('\\033[91m',\"\\nSuccessive over-relaxation method: \")\n",
        "  k = SOR(copy.deepcopy(matrix1_100), copy.deepcopy(matrix2_100), iterations[i], 0.0000000000001, 1)\n",
        "  print('\\033[90m', \"Median of relative error:  \", '\\033[0m', s.median(relative_error(k, numpy)))"
      ],
      "execution_count": 16,
      "outputs": [
        {
          "output_type": "stream",
          "text": [
            "\n",
            "\n",
            "\n",
            " \u001b[94m 5 iterations: \n",
            " \u001b[0m\n",
            "\u001b[91m \n",
            "Jacobi method: \n",
            "\u001b[90m Median of relative error:   \u001b[0m [0.02778255]\n",
            "\u001b[91m \n",
            "Gauss-Seidel method: \n",
            "\u001b[90m Median of relative error:   \u001b[0m [2.03471519e-05]\n",
            "\u001b[91m \n",
            "Successive over-relaxation method: \n",
            "\u001b[90m Median of relative error:   \u001b[0m [0.02778255]\n",
            "\n",
            "\n",
            "\n",
            " \u001b[94m 10 iterations: \n",
            " \u001b[0m\n",
            "\u001b[91m \n",
            "Jacobi method: \n",
            "\u001b[90m Median of relative error:   \u001b[0m [0.0008091]\n",
            "\u001b[91m \n",
            "Gauss-Seidel method: \n",
            "\u001b[90m Median of relative error:   \u001b[0m [2.74237445e-10]\n",
            "\u001b[91m \n",
            "Successive over-relaxation method: \n",
            "\u001b[90m Median of relative error:   \u001b[0m [0.0008091]\n",
            "\n",
            "\n",
            "\n",
            " \u001b[94m 40 iterations: \n",
            " \u001b[0m\n",
            "\u001b[91m \n",
            "Jacobi method: \n",
            "\u001b[90m Median of relative error:   \u001b[0m [4.93859251e-13]\n",
            "\u001b[91m \n",
            "Gauss-Seidel method: \n",
            "\u001b[90m Median of relative error:   \u001b[0m [3.25161432e-14]\n",
            "\u001b[91m \n",
            "Successive over-relaxation method: \n",
            "\u001b[90m Median of relative error:   \u001b[0m [4.93747603e-13]\n",
            "\n",
            "\n",
            "\n",
            " \u001b[94m 100 iterations: \n",
            " \u001b[0m\n",
            "\u001b[91m \n",
            "Jacobi method: \n",
            "\u001b[90m Median of relative error:   \u001b[0m [4.93859251e-13]\n",
            "\u001b[91m \n",
            "Gauss-Seidel method: \n",
            "\u001b[90m Median of relative error:   \u001b[0m [3.25161432e-14]\n",
            "\u001b[91m \n",
            "Successive over-relaxation method: \n",
            "\u001b[90m Median of relative error:   \u001b[0m [4.93747603e-13]\n"
          ],
          "name": "stdout"
        }
      ]
    },
    {
      "cell_type": "code",
      "metadata": {
        "id": "PoW_CkvA7WPK",
        "colab_type": "code",
        "colab": {}
      },
      "source": [
        ""
      ],
      "execution_count": 0,
      "outputs": []
    }
  ]
}