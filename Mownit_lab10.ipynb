{
  "nbformat": 4,
  "nbformat_minor": 0,
  "metadata": {
    "kernelspec": {
      "display_name": "Python 3",
      "language": "python",
      "name": "python3"
    },
    "language_info": {
      "codemirror_mode": {
        "name": "ipython",
        "version": 3
      },
      "file_extension": ".py",
      "mimetype": "text/x-python",
      "name": "python",
      "nbconvert_exporter": "python",
      "pygments_lexer": "ipython3",
      "version": "3.8.2"
    },
    "colab": {
      "name": "lab10.ipynb",
      "provenance": [],
      "include_colab_link": true
    }
  },
  "cells": [
    {
      "cell_type": "markdown",
      "metadata": {
        "id": "view-in-github",
        "colab_type": "text"
      },
      "source": [
        "<a href=\"https://colab.research.google.com/github/zbrze/MOWNIT-python-/blob/master/Mownit_lab10.ipynb\" target=\"_parent\"><img src=\"https://colab.research.google.com/assets/colab-badge.svg\" alt=\"Open In Colab\"/></a>"
      ]
    },
    {
      "cell_type": "markdown",
      "metadata": {
        "id": "YViQfFuquPD7",
        "colab_type": "text"
      },
      "source": [
        "##  Rozwiązywanie układu równań liniowych metodami rozkładu LU \n",
        "\n",
        "Podaj zasadę działania metod opartych o dekompozycję LU. \n",
        "\n",
        "#### Zadanie 1\n",
        "Zaimplementuj metody rozkładu LU:\n",
        "- Rozkład Crouta \n",
        "- Rozkład Doolitla\n",
        "- Rozkład Choleskyego \n",
        "\n",
        "Dla każdej z metod podaj warunki niezbędne aby można ją było zastosować. Sprawdź poprawność działania tych metod. \n",
        "\n",
        "Przetestuj wydajność algorytmów dla kilku rozmiarów macierzy (podobnie jak w ćwiczeniu 9). \n",
        "\n",
        "#### Zadanie 2 (dla chętnych)\n",
        "\n",
        "#### Zadanie 3 \n",
        "Zapoznaj się z funkcją rozwiązywania układów równań liniowych dostarczoną przez bibliotekę numpy/scipy. Porównaj jej wydajność z własnymi implementacjami.  \n",
        "\n",
        "\n"
      ]
    },
    {
      "cell_type": "markdown",
      "metadata": {
        "id": "qgTxudsEaCOv",
        "colab_type": "text"
      },
      "source": [
        "## Podaj zasadę działania metod opartych o dekompozycję LU"
      ]
    },
    {
      "cell_type": "markdown",
      "metadata": {
        "id": "IiIzS1l7evk_",
        "colab_type": "text"
      },
      "source": [
        "Metody te są oparte na rozkładzie macierzy wejściowej (A) na dwie macierze trójkątne - dolnotrójkątną (L) i górnotrójkątną (U), tak aby prawdą było:\n",
        " *A = L * U* "
      ]
    },
    {
      "cell_type": "markdown",
      "metadata": {
        "id": "_12Bi6OfwTZD",
        "colab_type": "text"
      },
      "source": [
        "# Rozkład Crouta\n",
        "elementy na przekątnej macierzy wejściowej muszą być różne od 0"
      ]
    },
    {
      "cell_type": "code",
      "metadata": {
        "id": "GAOtBNM8D3MR",
        "colab_type": "code",
        "colab": {}
      },
      "source": [
        "def LU_Solver(l,u,matrixY):\n",
        "  n = len(matrixY)\n",
        "  y = np.zeros(n)\n",
        "  y[0] = matrixY[0] / l[0, 0]\n",
        "  for i in range(1, n):\n",
        "        y[i] = (matrixY[i] - np.dot(l[i,: i],y[: i])) / l[i, i]  \n",
        "\n",
        "  x = np.zeros(n)\n",
        "  x[n-1] = y[n-1] / u[n-1, n-1]\n",
        "  for i in range(2, n+1, 1):\n",
        "     x[-i] = (y[-i] - np.dot(u[-i, -i:],x[-i:])) / u[-i, -i]\n",
        "  return x\n",
        "\t"
      ],
      "execution_count": 0,
      "outputs": []
    },
    {
      "cell_type": "code",
      "metadata": {
        "id": "f644lnSswSd5",
        "colab_type": "code",
        "colab": {}
      },
      "source": [
        "def LU_Crout(matrix):\n",
        "  n = len(matrix)\n",
        "  l = np.zeros((n,n))\n",
        "  u = np.zeros((n,n))\n",
        "  for i in range(n):\n",
        "    for j in range(i, n):\n",
        "      l[j][i] = matrix[j][i]\n",
        "      for k in range(i):\n",
        "        l[j][i] -= l[j][k] * u[k][i]\n",
        "    for j in range(i, n):\n",
        "      if(i == j):\n",
        "        u[i][i] = 1\n",
        "      else:\n",
        "        u[i][j] = matrix[i][j]\n",
        "        if(l[i][i] == 0):\n",
        "          print(\"wrong data!\")\n",
        "          return;\n",
        "        for k in range(i):\n",
        "          u[i][j] -= l[i][k] * u[k][j]\n",
        "        u[i][j] /= l[i][i] \n",
        "  return l, u\n",
        "\n",
        "       \n",
        "       "
      ],
      "execution_count": 0,
      "outputs": []
    },
    {
      "cell_type": "code",
      "metadata": {
        "id": "2PJ1k9h14vjq",
        "colab_type": "code",
        "colab": {
          "base_uri": "https://localhost:8080/",
          "height": 308
        },
        "outputId": "d262ed52-9de2-40f1-a8d4-1339dba2a154"
      },
      "source": [
        "import scipy.linalg as la\n",
        "import numpy as np\n",
        "\n",
        "matrix1 = np.array([[1.0 ,2.0 ,2.2, 1.0, 2.0],[1.1 ,12.0 ,21.0, 13.0, 1.2],\n",
        "\t\t   [1.0 ,20.0 ,4.0, 10.0, 1.0], [2.1, 5.0 ,2.0, 6.0, 10.0],  [1.0 ,11.0 ,3.0, 4.0, 12.0]]).reshape(5, 5) \n",
        "print(matrix1)\n",
        "l, u = LU_Crout(matrix1)\n",
        "print(l)\n",
        "print(u)\n",
        "matrix2 = np.array([1.0 ,2.0 ,2.2, 1.0, 2.0])\n",
        "LU_Solver(l, u, matrix2)"
      ],
      "execution_count": 151,
      "outputs": [
        {
          "output_type": "stream",
          "text": [
            "[[ 1.   2.   2.2  1.   2. ]\n",
            " [ 1.1 12.  21.  13.   1.2]\n",
            " [ 1.  20.   4.  10.   1. ]\n",
            " [ 2.1  5.   2.   6.  10. ]\n",
            " [ 1.  11.   3.   4.  12. ]]\n",
            "[[  1.           0.           0.           0.           0.        ]\n",
            " [  1.1          9.8          0.           0.           0.        ]\n",
            " [  1.          18.         -32.32653061   0.           0.        ]\n",
            " [  2.1          0.8         -4.13673469   4.57386364   0.        ]\n",
            " [  1.           9.         -16.26326531  -1.46022727  12.34096618]]\n",
            "[[ 1.          2.          2.2         1.          2.        ]\n",
            " [ 0.          1.          1.89591837  1.21428571 -0.10204082]\n",
            " [ 0.          0.          1.          0.39772727 -0.02588384]\n",
            " [ 0.          0.          0.          1.          1.26251208]\n",
            " [ 0.          0.          0.          0.          1.        ]]\n"
          ],
          "name": "stdout"
        },
        {
          "output_type": "execute_result",
          "data": {
            "text/plain": [
              "array([ 0.63301834,  0.17983324,  0.11295164, -0.24851584,  0.0036687 ])"
            ]
          },
          "metadata": {
            "tags": []
          },
          "execution_count": 151
        }
      ]
    },
    {
      "cell_type": "markdown",
      "metadata": {
        "id": "raYSuE5bxMdC",
        "colab_type": "text"
      },
      "source": [
        "# Rozkład Doolitla\n",
        "metoda nie działa jeśli jakikolwiek element na przekątnej macierzy wejściowej jest równy 0"
      ]
    },
    {
      "cell_type": "code",
      "metadata": {
        "id": "z1QbUArfuPD9",
        "colab_type": "code",
        "colab": {}
      },
      "source": [
        "def LU_Doolitl(matrix):\n",
        "  n = len(matrix)\n",
        "  l = np.zeros((n,n))\n",
        "  u = np.zeros((n,n))\n",
        "  for i in range(n):\n",
        "    for j in range(i, n):\n",
        "      u[i][j] = matrix[i][j]\n",
        "      for k in range(i):\n",
        "        u[i][j] -= l[i][k] * u[k][j]\n",
        "    for j in range(i, n):\n",
        "      if(i == j):\n",
        "        l[i][i] = 1\n",
        "      else:\n",
        "        l[j][i] = matrix[j][i]\n",
        "        if(u[i][i] == 0):\n",
        "          print(\"wrong data!\")\n",
        "          return\n",
        "        for k in range(i):\n",
        "          l[j][i] -= l[j][k] * u[k][i]\n",
        "        l[j][i] /= u[i][i] \n",
        "  return l, u\n",
        "\n",
        "       \n"
      ],
      "execution_count": 0,
      "outputs": []
    },
    {
      "cell_type": "code",
      "metadata": {
        "id": "dvx3RqmAxdyd",
        "colab_type": "code",
        "colab": {
          "base_uri": "https://localhost:8080/",
          "height": 472
        },
        "outputId": "84d373c5-2140-4f8f-d7c9-232fce6ff8b6"
      },
      "source": [
        "matrix1 = np.array([[1.0 ,2.0 ,2.2, 1.0, 2.0],[1.1 ,12.0 ,21.0, 13.0, 1.2],\n",
        "\t\t   [1.0 ,20.0 ,4.0, 10.0, 1.0], [2.1, 5.0 ,2.0, 6.0, 10.0],  [1.0 ,11.0 ,3.0, 4.0, 12.0]]).reshape(5, 5) \n",
        "print(matrix1)\n",
        "matrix2 = np.array([1.0 ,2.0 ,2.2, 1.0, 2.0])\n",
        "print(matrix2)\n",
        "\n",
        "l, u =LU_Doolitl(matrix1)\n",
        "print(\"\\nMatrix L:\\n\",l)\n",
        "print(\"\\n\\nMatrix U:\\n\",u)\n",
        "\n",
        "print(\"\\n Solution:\\n\")\n",
        "LU_Solver(l, u, matrix2)"
      ],
      "execution_count": 153,
      "outputs": [
        {
          "output_type": "stream",
          "text": [
            "[[ 1.   2.   2.2  1.   2. ]\n",
            " [ 1.1 12.  21.  13.   1.2]\n",
            " [ 1.  20.   4.  10.   1. ]\n",
            " [ 2.1  5.   2.   6.  10. ]\n",
            " [ 1.  11.   3.   4.  12. ]]\n",
            "[1.  2.  2.2 1.  2. ]\n",
            "\n",
            "Matrix L:\n",
            " [[ 1.          0.          0.          0.          0.        ]\n",
            " [ 1.1         1.          0.          0.          0.        ]\n",
            " [ 1.          1.83673469  1.          0.          0.        ]\n",
            " [ 2.1         0.08163265  0.12796717  1.          0.        ]\n",
            " [ 1.          0.91836735  0.50309343 -0.31925466  1.        ]]\n",
            "\n",
            "\n",
            "Matrix U:\n",
            " [[  1.           2.           2.2          1.           2.        ]\n",
            " [  0.           9.8         18.58        11.9         -1.        ]\n",
            " [  0.           0.         -32.32653061 -12.85714286   0.83673469]\n",
            " [  0.           0.           0.           4.57386364   5.77455808]\n",
            " [  0.           0.           0.           0.          12.34096618]]\n",
            "\n",
            " Solution:\n",
            "\n"
          ],
          "name": "stdout"
        },
        {
          "output_type": "execute_result",
          "data": {
            "text/plain": [
              "array([ 0.63301834,  0.17983324,  0.11295164, -0.24851584,  0.0036687 ])"
            ]
          },
          "metadata": {
            "tags": []
          },
          "execution_count": 153
        }
      ]
    },
    {
      "cell_type": "markdown",
      "metadata": {
        "id": "GCARvKuW_3yo",
        "colab_type": "text"
      },
      "source": [
        "# Rozkład Choleskyego\n",
        "macierz wejściowa musi być symetryczna i określona dodatnio"
      ]
    },
    {
      "cell_type": "code",
      "metadata": {
        "id": "qhIB9QQwx08w",
        "colab_type": "code",
        "colab": {}
      },
      "source": [
        "import math\n",
        "\n",
        "def LU_Cholesky(matrix):\n",
        "  n = len(matrix)\n",
        "  l = np.zeros((n, n))\n",
        "  for i in range(n):\n",
        "    for j in range(i+1):\n",
        "      if(i == j):\n",
        "        l[j][j] = matrix[i][j]\n",
        "        for k in range(j):\n",
        "          l[j][j] -= pow(l[j][k], 2)\n",
        "        if(l[j][j] > 0):\n",
        "          l[j][j] = int(math.sqrt(l[j][j]))\n",
        "      else:\n",
        "        if(l[j][j]== 0):\n",
        "          print(\"wrong data\", j)\n",
        "          return\n",
        "        else:\n",
        "          l[i][j] = matrix[i][j]\n",
        "          for k in range(j):\n",
        "            l[i][j] -= l[i][k] * l[j][k]\n",
        "          l[i][j] /= l[j][j]\n",
        "  return l\n",
        "\n",
        "\n"
      ],
      "execution_count": 0,
      "outputs": []
    },
    {
      "cell_type": "code",
      "metadata": {
        "id": "P93wxK57JvwG",
        "colab_type": "code",
        "colab": {
          "base_uri": "https://localhost:8080/",
          "height": 163
        },
        "outputId": "b611773f-a26b-4439-a550-2307ca03fe7b"
      },
      "source": [
        "matrix1 = np.array([[1.0 ,1.1 ,2.2],[1.1 ,12.0 ,21.0],\n",
        "\t\t   [2.2 ,21.0 ,1.0]]).reshape(3, 3) \n",
        "print(matrix1)\n",
        "matrix2 = np.array([1 ,1, 1])\n",
        "print(matrix2)\n",
        "l= LU_Cholesky(matrix1)\n",
        "print(l)\n",
        "LU_Solver(l, l, matrix2)"
      ],
      "execution_count": 155,
      "outputs": [
        {
          "output_type": "stream",
          "text": [
            "[[ 1.   1.1  2.2]\n",
            " [ 1.1 12.  21. ]\n",
            " [ 2.2 21.   1. ]]\n",
            "[1 1 1]\n",
            "[[  1.           0.           0.        ]\n",
            " [  1.1          3.           0.        ]\n",
            " [  2.2          6.19333333 -42.19737778]]\n"
          ],
          "name": "stdout"
        },
        {
          "output_type": "execute_result",
          "data": {
            "text/plain": [
              "array([ 1.00000000e+00, -1.11111111e-02, -5.57983335e-04])"
            ]
          },
          "metadata": {
            "tags": []
          },
          "execution_count": 155
        }
      ]
    },
    {
      "cell_type": "markdown",
      "metadata": {
        "id": "6dzohwYSUc_F",
        "colab_type": "text"
      },
      "source": [
        "# Zadanie 3\n",
        "Zapoznaj się z funkcją rozwiązywania układów równań liniowych dostarczoną przez bibliotekę numpy/scipy. Porównaj jej wydajność z własnymi implementacjami."
      ]
    },
    {
      "cell_type": "code",
      "metadata": {
        "id": "3gYZQCS2Nw4x",
        "colab_type": "code",
        "colab": {
          "base_uri": "https://localhost:8080/",
          "height": 145
        },
        "outputId": "ac27510e-6d69-484b-903a-a12e3e185c27"
      },
      "source": [
        "from scipy.linalg import lu_factor, lu_solve\n",
        "matrix1 = np.array([[1.0 ,2.0 ,2.2, 1.0, 2.0],[1.1 ,12.0 ,21.0, 13.0, 1.2],\n",
        "\t\t   [1.0 ,20.0 ,4.0, 10.0, 1.0], [2.1, 5.0 ,2.0, 6.0, 10.0],  [1.0 ,11.0 ,3.0, 4.0, 12.0]]).reshape(5, 5) \n",
        "print(matrix1)\n",
        "matrix2 = np.array([1.0 ,2.0 ,2.2, 1.0, 2.0])\n",
        "print(matrix2)\n",
        "lu, p = lu_factor(matrix1)\n",
        "x = lu_solve((lu, p), matrix2)\n",
        "print(x)"
      ],
      "execution_count": 156,
      "outputs": [
        {
          "output_type": "stream",
          "text": [
            "[[ 1.   2.   2.2  1.   2. ]\n",
            " [ 1.1 12.  21.  13.   1.2]\n",
            " [ 1.  20.   4.  10.   1. ]\n",
            " [ 2.1  5.   2.   6.  10. ]\n",
            " [ 1.  11.   3.   4.  12. ]]\n",
            "[1.  2.  2.2 1.  2. ]\n",
            "[ 0.63301834  0.17983324  0.11295164 -0.24851584  0.0036687 ]\n"
          ],
          "name": "stdout"
        }
      ]
    },
    {
      "cell_type": "markdown",
      "metadata": {
        "id": "70QHaeCgZcwe",
        "colab_type": "text"
      },
      "source": [
        "## Pomiary wydajności funkcji rozkładu LU Crouta, Doolitla i lu_solve \n",
        "przeprowadziłam je poza nootebookiem, dołączam wyniki w formie wykresu.\n",
        "Pomiary dla rozkładu Choleskiego przeprowadziłam osobno.\n",
        "Kod którego użyłam:"
      ]
    },
    {
      "cell_type": "markdown",
      "metadata": {
        "id": "pEprt6PSZ6I6",
        "colab_type": "text"
      },
      "source": [
        "\n",
        "\n",
        "```\n",
        "import time\n",
        "import random\n",
        "import copy as cp\n",
        "import matplotlib.pyplot as plt\n",
        "import numpy as np\n",
        "from scipy.linalg import lu_factor, lu_solve\n",
        "\n",
        "def LU_Solver(l,u,matrixY):\n",
        "  n = len(matrixY)\n",
        "  y = np.zeros(n)\n",
        "  y[0] = matrixY[0] / l[0, 0]\n",
        "  for i in range(1, n):\n",
        "        y[i] = (matrixY[i] - np.dot(l[i,: i],y[: i])) / l[i, i]\n",
        "\n",
        "  x = np.zeros(n)\n",
        "  x[n-1] = y[n-1] / u[n-1, n-1]\n",
        "  for i in range(2, n+1, 1):\n",
        "     x[-i] = (y[-i] - np.dot(u[-i, -i:],x[-i:])) / u[-i, -i]\n",
        "  return x\n",
        "\n",
        "def LU_Crout(matrix):\n",
        "  n = len(matrix)\n",
        "  l = np.zeros((n,n))\n",
        "  u = np.zeros((n,n))\n",
        "  for i in range(n):\n",
        "    for j in range(i, n):\n",
        "      l[j][i] = matrix[j][i]\n",
        "      for k in range(i):\n",
        "        l[j][i] -= l[j][k] * u[k][i]\n",
        "    for j in range(i, n):\n",
        "      if(i == j):\n",
        "        u[i][i] = 1\n",
        "      else:\n",
        "        u[i][j] = matrix[i][j]\n",
        "        if(l[i][i] == 0):\n",
        "          print(\"wrong data!\")\n",
        "          return;\n",
        "        for k in range(i):\n",
        "          u[i][j] -= l[i][k] * u[k][j]\n",
        "        u[i][j] /= l[i][i]\n",
        "  return l, u\n",
        "\n",
        "\n",
        "def LU_Doolitl(matrix):\n",
        "  n = len(matrix)\n",
        "  l = np.zeros((n,n))\n",
        "  u = np.zeros((n,n))\n",
        "  for i in range(n):\n",
        "    for j in range(i, n):\n",
        "      u[i][j] = matrix[i][j]\n",
        "      for k in range(i):\n",
        "        u[i][j] -= l[i][k] * u[k][j]\n",
        "    for j in range(i, n):\n",
        "      if(i == j):\n",
        "        l[i][i] = 1\n",
        "      else:\n",
        "        l[j][i] = matrix[j][i]\n",
        "        if(u[i][i] == 0):\n",
        "          print(\"wrong data!\")\n",
        "          return\n",
        "        for k in range(i):\n",
        "          l[j][i] -= l[j][k] * u[k][i]\n",
        "        l[j][i] /= u[i][i]\n",
        "  return l, u\n",
        "\n",
        "\n",
        "def solve_Doolitl(matrixA, matrixB):\n",
        "    l, u = LU_Doolitl(matrixA)\n",
        "    x = LU_Solver(l, u, matrixB)\n",
        "    return x\n",
        "\n",
        "def solve_Crout(matrixA, matrixB):\n",
        "    l, u = LU_Crout(matrixA)\n",
        "    x = LU_Solver(l, u, matrixB)\n",
        "    return x\n",
        "\n",
        "def performanceTests():\n",
        "    n = random.randint(5, 100)\n",
        "    matrixA = np.random.rand(n, n)\n",
        "    matrixB = np.random.rand(n, 1)\n",
        "    start1 = time.time()\n",
        "    solve_Crout(cp.deepcopy(matrixA), cp.deepcopy(matrixB))\n",
        "    stop1 = time.time()\n",
        "    crout_perf = stop1 - start1\n",
        "    start2 = time.time()\n",
        "    solve_Doolitl(cp.deepcopy(matrixA), cp.deepcopy(matrixB))\n",
        "    stop2 = time.time()\n",
        "    doolitl_perf = stop2 - start2\n",
        "    start3 = time.time()\n",
        "    lu_solve((lu_factor(matrixA)), matrixB)\n",
        "    stop3 = time.time()\n",
        "    scipy_perf = stop3 - start3\n",
        "    return n, crout_perf, doolitl_perf, scipy_perf\n",
        "\n",
        "if __name__ == '__main__':\n",
        "    crout = []\n",
        "    doolitl = []\n",
        "    scipy = []\n",
        "\n",
        "    for i in range (0,100):\n",
        "        n_, c_, d_ , s_= performanceTests()\n",
        "        crout.append((n_, c_))\n",
        "        doolitl.append((n_, d_))\n",
        "        scipy.append((n_, s_))\n",
        "\n",
        "    crout.sort(key=lambda tup: tup[0])\n",
        "    crout.sort(key=lambda tup: tup[0])\n",
        "    crout_x = [x[0] for x in crout]\n",
        "    crout_y = [x[1] for x in crout]\n",
        "\n",
        "    doolitl.sort(key=lambda tup: tup[0])\n",
        "    doolitl.sort(key=lambda tup: tup[0])\n",
        "    doolitl_x = [x[0] for x in doolitl]\n",
        "    doolitl_y = [x[1] for x in doolitl]\n",
        "\n",
        "    scipy.sort(key=lambda tup: tup[0])\n",
        "    scipy.sort(key=lambda tup: tup[0])\n",
        "    scipy_x = [x[0] for x in scipy]\n",
        "    scipy_y = [x[1] for x in scipy]\n",
        "\n",
        "    plt.plot(crout_x, crout_y, 'ro', label=\"Crout LU\")\n",
        "    plt.plot(doolitl_x, doolitl_y, 'bo', label=\"Doolitl LU\")\n",
        "    plt.plot(scipy_x, scipy_y, 'go', label=\"Scipy LU\")\n",
        "    plt.title(\"Pomiary wydajności\")\n",
        "    plt.xlabel(\"Matrix size\")\n",
        "    plt.ylabel(\"Time\")\n",
        "    plt.legend()\n",
        "    plt.savefig(\"wykres3\")\n",
        "\n",
        "\n",
        "```\n",
        "\n"
      ]
    },
    {
      "cell_type": "markdown",
      "metadata": {
        "id": "wK9a8QQzedBC",
        "colab_type": "text"
      },
      "source": [
        "## Test wydajności rozkładu Choleskiego"
      ]
    },
    {
      "cell_type": "markdown",
      "metadata": {
        "id": "GV5HeHEheXej",
        "colab_type": "text"
      },
      "source": [
        "\n",
        "\n",
        "```\n",
        "import time\n",
        "import random\n",
        "import copy as cp\n",
        "import matplotlib.pyplot as plt\n",
        "import numpy as np\n",
        "from scipy.linalg import lu_factor, lu_solve\n",
        "import math\n",
        "\n",
        "def LU_Solver(l,u,matrixY):\n",
        "  n = len(matrixY)\n",
        "  y = np.zeros(n)\n",
        "  y[0] = matrixY[0] / l[0, 0]\n",
        "  for i in range(1, n):\n",
        "        y[i] = (matrixY[i] - np.dot(l[i,: i],y[: i])) / l[i, i]\n",
        "\n",
        "  x = np.zeros(n)\n",
        "  x[n-1] = y[n-1] / u[n-1, n-1]\n",
        "  for i in range(2, n+1, 1):\n",
        "     x[-i] = (y[-i] - np.dot(u[-i, -i:],x[-i:])) / u[-i, -i]\n",
        "  return x\n",
        "\n",
        "def LU_Cholesky(matrix):\n",
        "  n = len(matrix)\n",
        "  l = np.zeros((n, n))\n",
        "  for i in range(n):\n",
        "    for j in range(i+1):\n",
        "      if(i == j):\n",
        "        l[j][j] = matrix[i][j]\n",
        "        for k in range(j):\n",
        "          l[j][j] -= pow(l[j][k], 2)\n",
        "        if(l[j][j] > 0):\n",
        "          l[j][j] = int(math.sqrt(l[j][j]))\n",
        "      else:\n",
        "        if(l[j][j]== 0):\n",
        "          print(\"wrong data\")\n",
        "          return\n",
        "        else:\n",
        "          l[i][j] = matrix[i][j]\n",
        "          for k in range(j):\n",
        "            l[i][j] -= l[i][k] * l[j][k]\n",
        "          l[i][j] /= l[j][j]\n",
        "  return l\n",
        "\n",
        "def Cholesky_solver(matrixA, matrixB):\n",
        "    l = LU_Cholesky(matrixA)\n",
        "    if(l is None):\n",
        "        return\n",
        "    x = LU_Solver(l, l, matrixB)\n",
        "    return x\n",
        "\n",
        "\n",
        "def performanceTests():\n",
        "    n = random.randint(5, 100)\n",
        "    A = np.random.rand(n, n)\n",
        "    matrixA = np.dot(A, A.transpose())\n",
        "    matrixB = np.random.rand(n, 1)\n",
        "    start1 = time.time()\n",
        "    Cholesky_solver(cp.deepcopy(matrixA), cp.deepcopy(matrixB))\n",
        "    stop1 = time.time()\n",
        "    cholesky_perf = stop1 - start1\n",
        "    start3 = time.time()\n",
        "    lu_solve((lu_factor(matrixA)), matrixB)\n",
        "    stop3 = time.time()\n",
        "    scipy_perf = stop3 - start3\n",
        "    return n, cholesky_perf, scipy_perf\n",
        "\n",
        "if __name__ == '__main__':\n",
        "    cholesky = []\n",
        "    scipy = []\n",
        "\n",
        "    for i in range (0,100):\n",
        "        n_, c_, s_= performanceTests()\n",
        "        cholesky.append((n_, c_))\n",
        "        scipy.append((n_, s_))\n",
        "\n",
        "    cholesky.sort(key=lambda tup: tup[0])\n",
        "    cholesky.sort(key=lambda tup: tup[0])\n",
        "    cholesky_x = [x[0] for x in cholesky]\n",
        "    cholesky_y = [x[1] for x in cholesky]\n",
        "\n",
        "    scipy.sort(key=lambda tup: tup[0])\n",
        "    scipy.sort(key=lambda tup: tup[0])\n",
        "    scipy_x = [x[0] for x in scipy]\n",
        "    scipy_y = [x[1] for x in scipy]\n",
        "\n",
        "    plt.plot( cholesky_x, cholesky_y, 'ro', label=\"Cholesky LU\")\n",
        "    plt.plot(scipy_x, scipy_y, 'go', label=\"Scipy LU\")\n",
        "    plt.title(\"Pomiary wydajności\")\n",
        "    plt.xlabel(\"Matrix size\")\n",
        "    plt.ylabel(\"Time\")\n",
        "    plt.legend()\n",
        "    plt.savefig(\"wykres4\")\n",
        "\n",
        "\n",
        "```\n",
        "\n"
      ]
    },
    {
      "cell_type": "code",
      "metadata": {
        "id": "cv7o-8VlVyWj",
        "colab_type": "code",
        "colab": {}
      },
      "source": [
        ""
      ],
      "execution_count": 0,
      "outputs": []
    }
  ]
}